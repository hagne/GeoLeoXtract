{
 "cells": [
  {
   "cell_type": "markdown",
   "metadata": {},
   "source": [
    "# AWS and the s3fs library"
   ]
  },
  {
   "cell_type": "markdown",
   "metadata": {},
   "source": [
    "This is an introduction into how to use the s3fs library for acessing the AWS system ... In case you don't want to use the nesdis_aws package or simply want to understand the key library in it."
   ]
  },
  {
   "cell_type": "code",
   "execution_count": null,
   "metadata": {},
   "outputs": [],
   "source": []
  },
  {
   "cell_type": "markdown",
   "metadata": {},
   "source": [
    "## connect to file system"
   ]
  },
  {
   "cell_type": "code",
   "execution_count": 1,
   "metadata": {
    "execution": {
     "iopub.execute_input": "2023-08-01T17:33:18.310841Z",
     "iopub.status.busy": "2023-08-01T17:33:18.310149Z",
     "iopub.status.idle": "2023-08-01T17:33:18.875848Z",
     "shell.execute_reply": "2023-08-01T17:33:18.875088Z",
     "shell.execute_reply.started": "2023-08-01T17:33:18.310786Z"
    }
   },
   "outputs": [],
   "source": [
    "import s3fs"
   ]
  },
  {
   "cell_type": "code",
   "execution_count": 2,
   "metadata": {
    "execution": {
     "iopub.execute_input": "2023-08-01T17:33:18.878226Z",
     "iopub.status.busy": "2023-08-01T17:33:18.877465Z",
     "iopub.status.idle": "2023-08-01T17:33:18.884103Z",
     "shell.execute_reply": "2023-08-01T17:33:18.883084Z",
     "shell.execute_reply.started": "2023-08-01T17:33:18.878173Z"
    }
   },
   "outputs": [],
   "source": [
    "aws = s3fs.S3FileSystem(anon=True)"
   ]
  },
  {
   "cell_type": "markdown",
   "metadata": {},
   "source": [
    "## explore file system"
   ]
  },
  {
   "cell_type": "code",
   "execution_count": 3,
   "metadata": {
    "execution": {
     "iopub.execute_input": "2023-08-01T17:33:20.136947Z",
     "iopub.status.busy": "2023-08-01T17:33:20.136258Z",
     "iopub.status.idle": "2023-08-01T17:33:20.150949Z",
     "shell.execute_reply": "2023-08-01T17:33:20.149370Z",
     "shell.execute_reply.started": "2023-08-01T17:33:20.136896Z"
    }
   },
   "outputs": [
    {
     "data": {
      "text/plain": [
       "PosixPath('noaa-goes16')"
      ]
     },
     "execution_count": 3,
     "metadata": {},
     "output_type": "execute_result"
    }
   ],
   "source": [
    "satellite = 16#16 (east) or 17(west)\n",
    "base_folder = pl.Path(f'noaa-goes{satellite}')\n",
    "base_folder"
   ]
  },
  {
   "cell_type": "markdown",
   "metadata": {},
   "source": [
    "### products"
   ]
  },
  {
   "cell_type": "code",
   "execution_count": 4,
   "metadata": {
    "execution": {
     "iopub.execute_input": "2023-08-01T17:33:21.578152Z",
     "iopub.status.busy": "2023-08-01T17:33:21.576793Z",
     "iopub.status.idle": "2023-08-01T17:33:22.383046Z",
     "shell.execute_reply": "2023-08-01T17:33:22.380920Z",
     "shell.execute_reply.started": "2023-08-01T17:33:21.578063Z"
    },
    "tags": []
   },
   "outputs": [
    {
     "data": {
      "text/plain": [
       "['noaa-goes16/ABI-L1b-RadC',\n",
       " 'noaa-goes16/ABI-L1b-RadF',\n",
       " 'noaa-goes16/ABI-L1b-RadM',\n",
       " 'noaa-goes16/ABI-L2-ACHA2KMC',\n",
       " 'noaa-goes16/ABI-L2-ACHA2KMF',\n",
       " 'noaa-goes16/ABI-L2-ACHA2KMM',\n",
       " 'noaa-goes16/ABI-L2-ACHAC',\n",
       " 'noaa-goes16/ABI-L2-ACHAF',\n",
       " 'noaa-goes16/ABI-L2-ACHAM',\n",
       " 'noaa-goes16/ABI-L2-ACHP2KMC',\n",
       " 'noaa-goes16/ABI-L2-ACHP2KMF',\n",
       " 'noaa-goes16/ABI-L2-ACHP2KMM',\n",
       " 'noaa-goes16/ABI-L2-ACHTF',\n",
       " 'noaa-goes16/ABI-L2-ACHTM',\n",
       " 'noaa-goes16/ABI-L2-ACMC',\n",
       " 'noaa-goes16/ABI-L2-ACMF',\n",
       " 'noaa-goes16/ABI-L2-ACMM',\n",
       " 'noaa-goes16/ABI-L2-ACTPC',\n",
       " 'noaa-goes16/ABI-L2-ACTPF',\n",
       " 'noaa-goes16/ABI-L2-ACTPM',\n",
       " 'noaa-goes16/ABI-L2-ADPC',\n",
       " 'noaa-goes16/ABI-L2-ADPF',\n",
       " 'noaa-goes16/ABI-L2-ADPM',\n",
       " 'noaa-goes16/ABI-L2-AICEF',\n",
       " 'noaa-goes16/ABI-L2-AITAF',\n",
       " 'noaa-goes16/ABI-L2-AODC',\n",
       " 'noaa-goes16/ABI-L2-AODF',\n",
       " 'noaa-goes16/ABI-L2-BRFC',\n",
       " 'noaa-goes16/ABI-L2-BRFF',\n",
       " 'noaa-goes16/ABI-L2-BRFM',\n",
       " 'noaa-goes16/ABI-L2-CCLC',\n",
       " 'noaa-goes16/ABI-L2-CCLF',\n",
       " 'noaa-goes16/ABI-L2-CCLM',\n",
       " 'noaa-goes16/ABI-L2-CMIPC',\n",
       " 'noaa-goes16/ABI-L2-CMIPF',\n",
       " 'noaa-goes16/ABI-L2-CMIPM',\n",
       " 'noaa-goes16/ABI-L2-COD2KMF',\n",
       " 'noaa-goes16/ABI-L2-CODC',\n",
       " 'noaa-goes16/ABI-L2-CODF',\n",
       " 'noaa-goes16/ABI-L2-CPSC',\n",
       " 'noaa-goes16/ABI-L2-CPSF',\n",
       " 'noaa-goes16/ABI-L2-CPSM',\n",
       " 'noaa-goes16/ABI-L2-CTPC',\n",
       " 'noaa-goes16/ABI-L2-CTPF',\n",
       " 'noaa-goes16/ABI-L2-DMWC',\n",
       " 'noaa-goes16/ABI-L2-DMWF',\n",
       " 'noaa-goes16/ABI-L2-DMWM',\n",
       " 'noaa-goes16/ABI-L2-DMWVC',\n",
       " 'noaa-goes16/ABI-L2-DMWVF',\n",
       " 'noaa-goes16/ABI-L2-DMWVM',\n",
       " 'noaa-goes16/ABI-L2-DSIC',\n",
       " 'noaa-goes16/ABI-L2-DSIF',\n",
       " 'noaa-goes16/ABI-L2-DSIM',\n",
       " 'noaa-goes16/ABI-L2-DSRC',\n",
       " 'noaa-goes16/ABI-L2-DSRF',\n",
       " 'noaa-goes16/ABI-L2-DSRM',\n",
       " 'noaa-goes16/ABI-L2-FDCC',\n",
       " 'noaa-goes16/ABI-L2-FDCF',\n",
       " 'noaa-goes16/ABI-L2-FDCM',\n",
       " 'noaa-goes16/ABI-L2-FSCC',\n",
       " 'noaa-goes16/ABI-L2-FSCF',\n",
       " 'noaa-goes16/ABI-L2-FSCM',\n",
       " 'noaa-goes16/ABI-L2-LSAC',\n",
       " 'noaa-goes16/ABI-L2-LSAF',\n",
       " 'noaa-goes16/ABI-L2-LSAM',\n",
       " 'noaa-goes16/ABI-L2-LST2KMF',\n",
       " 'noaa-goes16/ABI-L2-LSTC',\n",
       " 'noaa-goes16/ABI-L2-LSTF',\n",
       " 'noaa-goes16/ABI-L2-LSTM',\n",
       " 'noaa-goes16/ABI-L2-LVMPC',\n",
       " 'noaa-goes16/ABI-L2-LVMPF',\n",
       " 'noaa-goes16/ABI-L2-LVMPM',\n",
       " 'noaa-goes16/ABI-L2-LVTPC',\n",
       " 'noaa-goes16/ABI-L2-LVTPF',\n",
       " 'noaa-goes16/ABI-L2-LVTPM',\n",
       " 'noaa-goes16/ABI-L2-MCMIPC',\n",
       " 'noaa-goes16/ABI-L2-MCMIPF',\n",
       " 'noaa-goes16/ABI-L2-MCMIPM',\n",
       " 'noaa-goes16/ABI-L2-RRQPEF',\n",
       " 'noaa-goes16/ABI-L2-RSRC',\n",
       " 'noaa-goes16/ABI-L2-RSRF',\n",
       " 'noaa-goes16/ABI-L2-SSTF',\n",
       " 'noaa-goes16/ABI-L2-TPWC',\n",
       " 'noaa-goes16/ABI-L2-TPWF',\n",
       " 'noaa-goes16/ABI-L2-TPWM',\n",
       " 'noaa-goes16/ABI-L2-VAAF',\n",
       " 'noaa-goes16/Beginners_Guide_to_GOES-R_Series_Data.pdf',\n",
       " 'noaa-goes16/EXIS-L1b-SFEU',\n",
       " 'noaa-goes16/EXIS-L1b-SFXR',\n",
       " 'noaa-goes16/GLM-L2-LCFA',\n",
       " 'noaa-goes16/MAG-L1b-GEOF',\n",
       " 'noaa-goes16/SEIS-L1b-EHIS',\n",
       " 'noaa-goes16/SEIS-L1b-MPSH',\n",
       " 'noaa-goes16/SEIS-L1b-MPSL',\n",
       " 'noaa-goes16/SEIS-L1b-SGPS',\n",
       " 'noaa-goes16/SUVI-L1b-Fe093',\n",
       " 'noaa-goes16/SUVI-L1b-Fe131',\n",
       " 'noaa-goes16/SUVI-L1b-Fe171',\n",
       " 'noaa-goes16/SUVI-L1b-Fe195',\n",
       " 'noaa-goes16/SUVI-L1b-Fe284',\n",
       " 'noaa-goes16/SUVI-L1b-He303',\n",
       " 'noaa-goes16/Version1.1_Beginners_Guide_to_GOES-R_Series_Data.pdf',\n",
       " 'noaa-goes16/index.html']"
      ]
     },
     "execution_count": 4,
     "metadata": {},
     "output_type": "execute_result"
    }
   ],
   "source": [
    "products_available = aws.glob(base_folder.joinpath('*').as_posix())\n",
    "products_available"
   ]
  },
  {
   "cell_type": "markdown",
   "metadata": {},
   "source": [
    "### example product AOD conus"
   ]
  },
  {
   "cell_type": "code",
   "execution_count": 124,
   "metadata": {},
   "outputs": [],
   "source": [
    "# product = 'ABI-L2-DMWVC'#'ABI-L1b-RadC'\"\"\n",
    "# product = 'ABI-L2-AODC' \n",
    "# product = 'ABI-L2-ACHTF'\n",
    "product = 'ABI-L2-FDCC'"
   ]
  },
  {
   "cell_type": "code",
   "execution_count": 125,
   "metadata": {},
   "outputs": [
    {
     "data": {
      "text/plain": [
       "['noaa-goes16/ABI-L2-FDCC/2017',\n",
       " 'noaa-goes16/ABI-L2-FDCC/2018',\n",
       " 'noaa-goes16/ABI-L2-FDCC/2019',\n",
       " 'noaa-goes16/ABI-L2-FDCC/2020',\n",
       " 'noaa-goes16/ABI-L2-FDCC/2021',\n",
       " 'noaa-goes16/ABI-L2-FDCC/2022']"
      ]
     },
     "execution_count": 125,
     "metadata": {},
     "output_type": "execute_result"
    }
   ],
   "source": [
    "years_available = aws.glob(base_folder.joinpath(product).joinpath('*').as_posix())\n",
    "years_available"
   ]
  },
  {
   "cell_type": "code",
   "execution_count": 134,
   "metadata": {},
   "outputs": [],
   "source": [
    "year = 2020"
   ]
  },
  {
   "cell_type": "code",
   "execution_count": 135,
   "metadata": {},
   "outputs": [],
   "source": [
    "dt = pd.to_datetime('2018-09-30')"
   ]
  },
  {
   "cell_type": "code",
   "execution_count": 136,
   "metadata": {},
   "outputs": [
    {
     "data": {
      "text/plain": [
       "273"
      ]
     },
     "execution_count": 136,
     "metadata": {},
     "output_type": "execute_result"
    }
   ],
   "source": [
    "dt.day_of_year"
   ]
  },
  {
   "cell_type": "code",
   "execution_count": 137,
   "metadata": {
    "tags": []
   },
   "outputs": [
    {
     "data": {
      "text/plain": [
       "['noaa-goes16/ABI-L2-FDCC/2020/001',\n",
       " 'noaa-goes16/ABI-L2-FDCC/2020/002',\n",
       " 'noaa-goes16/ABI-L2-FDCC/2020/003',\n",
       " 'noaa-goes16/ABI-L2-FDCC/2020/004',\n",
       " 'noaa-goes16/ABI-L2-FDCC/2020/005',\n",
       " 'noaa-goes16/ABI-L2-FDCC/2020/006',\n",
       " 'noaa-goes16/ABI-L2-FDCC/2020/007',\n",
       " 'noaa-goes16/ABI-L2-FDCC/2020/008',\n",
       " 'noaa-goes16/ABI-L2-FDCC/2020/009',\n",
       " 'noaa-goes16/ABI-L2-FDCC/2020/010',\n",
       " 'noaa-goes16/ABI-L2-FDCC/2020/011',\n",
       " 'noaa-goes16/ABI-L2-FDCC/2020/012',\n",
       " 'noaa-goes16/ABI-L2-FDCC/2020/013',\n",
       " 'noaa-goes16/ABI-L2-FDCC/2020/014',\n",
       " 'noaa-goes16/ABI-L2-FDCC/2020/015',\n",
       " 'noaa-goes16/ABI-L2-FDCC/2020/016',\n",
       " 'noaa-goes16/ABI-L2-FDCC/2020/017',\n",
       " 'noaa-goes16/ABI-L2-FDCC/2020/018',\n",
       " 'noaa-goes16/ABI-L2-FDCC/2020/019',\n",
       " 'noaa-goes16/ABI-L2-FDCC/2020/020',\n",
       " 'noaa-goes16/ABI-L2-FDCC/2020/021',\n",
       " 'noaa-goes16/ABI-L2-FDCC/2020/022',\n",
       " 'noaa-goes16/ABI-L2-FDCC/2020/023',\n",
       " 'noaa-goes16/ABI-L2-FDCC/2020/024',\n",
       " 'noaa-goes16/ABI-L2-FDCC/2020/025',\n",
       " 'noaa-goes16/ABI-L2-FDCC/2020/026',\n",
       " 'noaa-goes16/ABI-L2-FDCC/2020/027',\n",
       " 'noaa-goes16/ABI-L2-FDCC/2020/028',\n",
       " 'noaa-goes16/ABI-L2-FDCC/2020/029',\n",
       " 'noaa-goes16/ABI-L2-FDCC/2020/030',\n",
       " 'noaa-goes16/ABI-L2-FDCC/2020/031',\n",
       " 'noaa-goes16/ABI-L2-FDCC/2020/032',\n",
       " 'noaa-goes16/ABI-L2-FDCC/2020/033',\n",
       " 'noaa-goes16/ABI-L2-FDCC/2020/034',\n",
       " 'noaa-goes16/ABI-L2-FDCC/2020/035',\n",
       " 'noaa-goes16/ABI-L2-FDCC/2020/036',\n",
       " 'noaa-goes16/ABI-L2-FDCC/2020/037',\n",
       " 'noaa-goes16/ABI-L2-FDCC/2020/038',\n",
       " 'noaa-goes16/ABI-L2-FDCC/2020/039',\n",
       " 'noaa-goes16/ABI-L2-FDCC/2020/040',\n",
       " 'noaa-goes16/ABI-L2-FDCC/2020/041',\n",
       " 'noaa-goes16/ABI-L2-FDCC/2020/042',\n",
       " 'noaa-goes16/ABI-L2-FDCC/2020/043',\n",
       " 'noaa-goes16/ABI-L2-FDCC/2020/044',\n",
       " 'noaa-goes16/ABI-L2-FDCC/2020/045',\n",
       " 'noaa-goes16/ABI-L2-FDCC/2020/046',\n",
       " 'noaa-goes16/ABI-L2-FDCC/2020/047',\n",
       " 'noaa-goes16/ABI-L2-FDCC/2020/048',\n",
       " 'noaa-goes16/ABI-L2-FDCC/2020/049',\n",
       " 'noaa-goes16/ABI-L2-FDCC/2020/050',\n",
       " 'noaa-goes16/ABI-L2-FDCC/2020/051',\n",
       " 'noaa-goes16/ABI-L2-FDCC/2020/052',\n",
       " 'noaa-goes16/ABI-L2-FDCC/2020/053',\n",
       " 'noaa-goes16/ABI-L2-FDCC/2020/054',\n",
       " 'noaa-goes16/ABI-L2-FDCC/2020/055',\n",
       " 'noaa-goes16/ABI-L2-FDCC/2020/056',\n",
       " 'noaa-goes16/ABI-L2-FDCC/2020/057',\n",
       " 'noaa-goes16/ABI-L2-FDCC/2020/058',\n",
       " 'noaa-goes16/ABI-L2-FDCC/2020/059',\n",
       " 'noaa-goes16/ABI-L2-FDCC/2020/060',\n",
       " 'noaa-goes16/ABI-L2-FDCC/2020/061',\n",
       " 'noaa-goes16/ABI-L2-FDCC/2020/062',\n",
       " 'noaa-goes16/ABI-L2-FDCC/2020/063',\n",
       " 'noaa-goes16/ABI-L2-FDCC/2020/064',\n",
       " 'noaa-goes16/ABI-L2-FDCC/2020/065',\n",
       " 'noaa-goes16/ABI-L2-FDCC/2020/066',\n",
       " 'noaa-goes16/ABI-L2-FDCC/2020/067',\n",
       " 'noaa-goes16/ABI-L2-FDCC/2020/068',\n",
       " 'noaa-goes16/ABI-L2-FDCC/2020/069',\n",
       " 'noaa-goes16/ABI-L2-FDCC/2020/070',\n",
       " 'noaa-goes16/ABI-L2-FDCC/2020/071',\n",
       " 'noaa-goes16/ABI-L2-FDCC/2020/072',\n",
       " 'noaa-goes16/ABI-L2-FDCC/2020/073',\n",
       " 'noaa-goes16/ABI-L2-FDCC/2020/074',\n",
       " 'noaa-goes16/ABI-L2-FDCC/2020/075',\n",
       " 'noaa-goes16/ABI-L2-FDCC/2020/076',\n",
       " 'noaa-goes16/ABI-L2-FDCC/2020/077',\n",
       " 'noaa-goes16/ABI-L2-FDCC/2020/078',\n",
       " 'noaa-goes16/ABI-L2-FDCC/2020/079',\n",
       " 'noaa-goes16/ABI-L2-FDCC/2020/080',\n",
       " 'noaa-goes16/ABI-L2-FDCC/2020/081',\n",
       " 'noaa-goes16/ABI-L2-FDCC/2020/082',\n",
       " 'noaa-goes16/ABI-L2-FDCC/2020/083',\n",
       " 'noaa-goes16/ABI-L2-FDCC/2020/084',\n",
       " 'noaa-goes16/ABI-L2-FDCC/2020/085',\n",
       " 'noaa-goes16/ABI-L2-FDCC/2020/086',\n",
       " 'noaa-goes16/ABI-L2-FDCC/2020/087',\n",
       " 'noaa-goes16/ABI-L2-FDCC/2020/088',\n",
       " 'noaa-goes16/ABI-L2-FDCC/2020/089',\n",
       " 'noaa-goes16/ABI-L2-FDCC/2020/090',\n",
       " 'noaa-goes16/ABI-L2-FDCC/2020/091',\n",
       " 'noaa-goes16/ABI-L2-FDCC/2020/092',\n",
       " 'noaa-goes16/ABI-L2-FDCC/2020/093',\n",
       " 'noaa-goes16/ABI-L2-FDCC/2020/094',\n",
       " 'noaa-goes16/ABI-L2-FDCC/2020/095',\n",
       " 'noaa-goes16/ABI-L2-FDCC/2020/096',\n",
       " 'noaa-goes16/ABI-L2-FDCC/2020/097',\n",
       " 'noaa-goes16/ABI-L2-FDCC/2020/098',\n",
       " 'noaa-goes16/ABI-L2-FDCC/2020/099',\n",
       " 'noaa-goes16/ABI-L2-FDCC/2020/100',\n",
       " 'noaa-goes16/ABI-L2-FDCC/2020/101',\n",
       " 'noaa-goes16/ABI-L2-FDCC/2020/102',\n",
       " 'noaa-goes16/ABI-L2-FDCC/2020/103',\n",
       " 'noaa-goes16/ABI-L2-FDCC/2020/104',\n",
       " 'noaa-goes16/ABI-L2-FDCC/2020/105',\n",
       " 'noaa-goes16/ABI-L2-FDCC/2020/106',\n",
       " 'noaa-goes16/ABI-L2-FDCC/2020/107',\n",
       " 'noaa-goes16/ABI-L2-FDCC/2020/108',\n",
       " 'noaa-goes16/ABI-L2-FDCC/2020/109',\n",
       " 'noaa-goes16/ABI-L2-FDCC/2020/110',\n",
       " 'noaa-goes16/ABI-L2-FDCC/2020/111',\n",
       " 'noaa-goes16/ABI-L2-FDCC/2020/112',\n",
       " 'noaa-goes16/ABI-L2-FDCC/2020/113',\n",
       " 'noaa-goes16/ABI-L2-FDCC/2020/114',\n",
       " 'noaa-goes16/ABI-L2-FDCC/2020/115',\n",
       " 'noaa-goes16/ABI-L2-FDCC/2020/116',\n",
       " 'noaa-goes16/ABI-L2-FDCC/2020/117',\n",
       " 'noaa-goes16/ABI-L2-FDCC/2020/118',\n",
       " 'noaa-goes16/ABI-L2-FDCC/2020/119',\n",
       " 'noaa-goes16/ABI-L2-FDCC/2020/120',\n",
       " 'noaa-goes16/ABI-L2-FDCC/2020/121',\n",
       " 'noaa-goes16/ABI-L2-FDCC/2020/122',\n",
       " 'noaa-goes16/ABI-L2-FDCC/2020/123',\n",
       " 'noaa-goes16/ABI-L2-FDCC/2020/124',\n",
       " 'noaa-goes16/ABI-L2-FDCC/2020/125',\n",
       " 'noaa-goes16/ABI-L2-FDCC/2020/126',\n",
       " 'noaa-goes16/ABI-L2-FDCC/2020/127',\n",
       " 'noaa-goes16/ABI-L2-FDCC/2020/128',\n",
       " 'noaa-goes16/ABI-L2-FDCC/2020/129',\n",
       " 'noaa-goes16/ABI-L2-FDCC/2020/130',\n",
       " 'noaa-goes16/ABI-L2-FDCC/2020/131',\n",
       " 'noaa-goes16/ABI-L2-FDCC/2020/132',\n",
       " 'noaa-goes16/ABI-L2-FDCC/2020/133',\n",
       " 'noaa-goes16/ABI-L2-FDCC/2020/134',\n",
       " 'noaa-goes16/ABI-L2-FDCC/2020/135',\n",
       " 'noaa-goes16/ABI-L2-FDCC/2020/136',\n",
       " 'noaa-goes16/ABI-L2-FDCC/2020/137',\n",
       " 'noaa-goes16/ABI-L2-FDCC/2020/138',\n",
       " 'noaa-goes16/ABI-L2-FDCC/2020/139',\n",
       " 'noaa-goes16/ABI-L2-FDCC/2020/140',\n",
       " 'noaa-goes16/ABI-L2-FDCC/2020/141',\n",
       " 'noaa-goes16/ABI-L2-FDCC/2020/142',\n",
       " 'noaa-goes16/ABI-L2-FDCC/2020/143',\n",
       " 'noaa-goes16/ABI-L2-FDCC/2020/144',\n",
       " 'noaa-goes16/ABI-L2-FDCC/2020/145',\n",
       " 'noaa-goes16/ABI-L2-FDCC/2020/146',\n",
       " 'noaa-goes16/ABI-L2-FDCC/2020/147',\n",
       " 'noaa-goes16/ABI-L2-FDCC/2020/148',\n",
       " 'noaa-goes16/ABI-L2-FDCC/2020/149',\n",
       " 'noaa-goes16/ABI-L2-FDCC/2020/150',\n",
       " 'noaa-goes16/ABI-L2-FDCC/2020/151',\n",
       " 'noaa-goes16/ABI-L2-FDCC/2020/152',\n",
       " 'noaa-goes16/ABI-L2-FDCC/2020/153',\n",
       " 'noaa-goes16/ABI-L2-FDCC/2020/154',\n",
       " 'noaa-goes16/ABI-L2-FDCC/2020/155',\n",
       " 'noaa-goes16/ABI-L2-FDCC/2020/156',\n",
       " 'noaa-goes16/ABI-L2-FDCC/2020/157',\n",
       " 'noaa-goes16/ABI-L2-FDCC/2020/158',\n",
       " 'noaa-goes16/ABI-L2-FDCC/2020/159',\n",
       " 'noaa-goes16/ABI-L2-FDCC/2020/160',\n",
       " 'noaa-goes16/ABI-L2-FDCC/2020/161',\n",
       " 'noaa-goes16/ABI-L2-FDCC/2020/162',\n",
       " 'noaa-goes16/ABI-L2-FDCC/2020/163',\n",
       " 'noaa-goes16/ABI-L2-FDCC/2020/164',\n",
       " 'noaa-goes16/ABI-L2-FDCC/2020/165',\n",
       " 'noaa-goes16/ABI-L2-FDCC/2020/166',\n",
       " 'noaa-goes16/ABI-L2-FDCC/2020/167',\n",
       " 'noaa-goes16/ABI-L2-FDCC/2020/168',\n",
       " 'noaa-goes16/ABI-L2-FDCC/2020/169',\n",
       " 'noaa-goes16/ABI-L2-FDCC/2020/170',\n",
       " 'noaa-goes16/ABI-L2-FDCC/2020/171',\n",
       " 'noaa-goes16/ABI-L2-FDCC/2020/172',\n",
       " 'noaa-goes16/ABI-L2-FDCC/2020/173',\n",
       " 'noaa-goes16/ABI-L2-FDCC/2020/174',\n",
       " 'noaa-goes16/ABI-L2-FDCC/2020/175',\n",
       " 'noaa-goes16/ABI-L2-FDCC/2020/176',\n",
       " 'noaa-goes16/ABI-L2-FDCC/2020/177',\n",
       " 'noaa-goes16/ABI-L2-FDCC/2020/178',\n",
       " 'noaa-goes16/ABI-L2-FDCC/2020/179',\n",
       " 'noaa-goes16/ABI-L2-FDCC/2020/180',\n",
       " 'noaa-goes16/ABI-L2-FDCC/2020/181',\n",
       " 'noaa-goes16/ABI-L2-FDCC/2020/182',\n",
       " 'noaa-goes16/ABI-L2-FDCC/2020/183',\n",
       " 'noaa-goes16/ABI-L2-FDCC/2020/184',\n",
       " 'noaa-goes16/ABI-L2-FDCC/2020/185',\n",
       " 'noaa-goes16/ABI-L2-FDCC/2020/186',\n",
       " 'noaa-goes16/ABI-L2-FDCC/2020/187',\n",
       " 'noaa-goes16/ABI-L2-FDCC/2020/188',\n",
       " 'noaa-goes16/ABI-L2-FDCC/2020/189',\n",
       " 'noaa-goes16/ABI-L2-FDCC/2020/190',\n",
       " 'noaa-goes16/ABI-L2-FDCC/2020/191',\n",
       " 'noaa-goes16/ABI-L2-FDCC/2020/192',\n",
       " 'noaa-goes16/ABI-L2-FDCC/2020/193',\n",
       " 'noaa-goes16/ABI-L2-FDCC/2020/194',\n",
       " 'noaa-goes16/ABI-L2-FDCC/2020/195',\n",
       " 'noaa-goes16/ABI-L2-FDCC/2020/196',\n",
       " 'noaa-goes16/ABI-L2-FDCC/2020/197',\n",
       " 'noaa-goes16/ABI-L2-FDCC/2020/198',\n",
       " 'noaa-goes16/ABI-L2-FDCC/2020/199',\n",
       " 'noaa-goes16/ABI-L2-FDCC/2020/200',\n",
       " 'noaa-goes16/ABI-L2-FDCC/2020/201',\n",
       " 'noaa-goes16/ABI-L2-FDCC/2020/202',\n",
       " 'noaa-goes16/ABI-L2-FDCC/2020/203',\n",
       " 'noaa-goes16/ABI-L2-FDCC/2020/204',\n",
       " 'noaa-goes16/ABI-L2-FDCC/2020/205',\n",
       " 'noaa-goes16/ABI-L2-FDCC/2020/206',\n",
       " 'noaa-goes16/ABI-L2-FDCC/2020/207',\n",
       " 'noaa-goes16/ABI-L2-FDCC/2020/208',\n",
       " 'noaa-goes16/ABI-L2-FDCC/2020/209',\n",
       " 'noaa-goes16/ABI-L2-FDCC/2020/210',\n",
       " 'noaa-goes16/ABI-L2-FDCC/2020/211',\n",
       " 'noaa-goes16/ABI-L2-FDCC/2020/212',\n",
       " 'noaa-goes16/ABI-L2-FDCC/2020/213',\n",
       " 'noaa-goes16/ABI-L2-FDCC/2020/214',\n",
       " 'noaa-goes16/ABI-L2-FDCC/2020/215',\n",
       " 'noaa-goes16/ABI-L2-FDCC/2020/216',\n",
       " 'noaa-goes16/ABI-L2-FDCC/2020/217',\n",
       " 'noaa-goes16/ABI-L2-FDCC/2020/218',\n",
       " 'noaa-goes16/ABI-L2-FDCC/2020/219',\n",
       " 'noaa-goes16/ABI-L2-FDCC/2020/220',\n",
       " 'noaa-goes16/ABI-L2-FDCC/2020/221',\n",
       " 'noaa-goes16/ABI-L2-FDCC/2020/222',\n",
       " 'noaa-goes16/ABI-L2-FDCC/2020/223',\n",
       " 'noaa-goes16/ABI-L2-FDCC/2020/224',\n",
       " 'noaa-goes16/ABI-L2-FDCC/2020/225',\n",
       " 'noaa-goes16/ABI-L2-FDCC/2020/226',\n",
       " 'noaa-goes16/ABI-L2-FDCC/2020/227',\n",
       " 'noaa-goes16/ABI-L2-FDCC/2020/228',\n",
       " 'noaa-goes16/ABI-L2-FDCC/2020/229',\n",
       " 'noaa-goes16/ABI-L2-FDCC/2020/230',\n",
       " 'noaa-goes16/ABI-L2-FDCC/2020/231',\n",
       " 'noaa-goes16/ABI-L2-FDCC/2020/232',\n",
       " 'noaa-goes16/ABI-L2-FDCC/2020/233',\n",
       " 'noaa-goes16/ABI-L2-FDCC/2020/234',\n",
       " 'noaa-goes16/ABI-L2-FDCC/2020/235',\n",
       " 'noaa-goes16/ABI-L2-FDCC/2020/236',\n",
       " 'noaa-goes16/ABI-L2-FDCC/2020/237',\n",
       " 'noaa-goes16/ABI-L2-FDCC/2020/238',\n",
       " 'noaa-goes16/ABI-L2-FDCC/2020/239',\n",
       " 'noaa-goes16/ABI-L2-FDCC/2020/240',\n",
       " 'noaa-goes16/ABI-L2-FDCC/2020/241',\n",
       " 'noaa-goes16/ABI-L2-FDCC/2020/242',\n",
       " 'noaa-goes16/ABI-L2-FDCC/2020/243',\n",
       " 'noaa-goes16/ABI-L2-FDCC/2020/244',\n",
       " 'noaa-goes16/ABI-L2-FDCC/2020/245',\n",
       " 'noaa-goes16/ABI-L2-FDCC/2020/246',\n",
       " 'noaa-goes16/ABI-L2-FDCC/2020/247',\n",
       " 'noaa-goes16/ABI-L2-FDCC/2020/248',\n",
       " 'noaa-goes16/ABI-L2-FDCC/2020/249',\n",
       " 'noaa-goes16/ABI-L2-FDCC/2020/250',\n",
       " 'noaa-goes16/ABI-L2-FDCC/2020/251',\n",
       " 'noaa-goes16/ABI-L2-FDCC/2020/252',\n",
       " 'noaa-goes16/ABI-L2-FDCC/2020/253',\n",
       " 'noaa-goes16/ABI-L2-FDCC/2020/254',\n",
       " 'noaa-goes16/ABI-L2-FDCC/2020/255',\n",
       " 'noaa-goes16/ABI-L2-FDCC/2020/256',\n",
       " 'noaa-goes16/ABI-L2-FDCC/2020/257',\n",
       " 'noaa-goes16/ABI-L2-FDCC/2020/258',\n",
       " 'noaa-goes16/ABI-L2-FDCC/2020/259',\n",
       " 'noaa-goes16/ABI-L2-FDCC/2020/260',\n",
       " 'noaa-goes16/ABI-L2-FDCC/2020/261',\n",
       " 'noaa-goes16/ABI-L2-FDCC/2020/262',\n",
       " 'noaa-goes16/ABI-L2-FDCC/2020/263',\n",
       " 'noaa-goes16/ABI-L2-FDCC/2020/264',\n",
       " 'noaa-goes16/ABI-L2-FDCC/2020/265',\n",
       " 'noaa-goes16/ABI-L2-FDCC/2020/266',\n",
       " 'noaa-goes16/ABI-L2-FDCC/2020/267',\n",
       " 'noaa-goes16/ABI-L2-FDCC/2020/268',\n",
       " 'noaa-goes16/ABI-L2-FDCC/2020/269',\n",
       " 'noaa-goes16/ABI-L2-FDCC/2020/270',\n",
       " 'noaa-goes16/ABI-L2-FDCC/2020/271',\n",
       " 'noaa-goes16/ABI-L2-FDCC/2020/272',\n",
       " 'noaa-goes16/ABI-L2-FDCC/2020/273',\n",
       " 'noaa-goes16/ABI-L2-FDCC/2020/274',\n",
       " 'noaa-goes16/ABI-L2-FDCC/2020/275',\n",
       " 'noaa-goes16/ABI-L2-FDCC/2020/276',\n",
       " 'noaa-goes16/ABI-L2-FDCC/2020/277',\n",
       " 'noaa-goes16/ABI-L2-FDCC/2020/278',\n",
       " 'noaa-goes16/ABI-L2-FDCC/2020/279',\n",
       " 'noaa-goes16/ABI-L2-FDCC/2020/280',\n",
       " 'noaa-goes16/ABI-L2-FDCC/2020/281',\n",
       " 'noaa-goes16/ABI-L2-FDCC/2020/282',\n",
       " 'noaa-goes16/ABI-L2-FDCC/2020/283',\n",
       " 'noaa-goes16/ABI-L2-FDCC/2020/284',\n",
       " 'noaa-goes16/ABI-L2-FDCC/2020/285',\n",
       " 'noaa-goes16/ABI-L2-FDCC/2020/286',\n",
       " 'noaa-goes16/ABI-L2-FDCC/2020/287',\n",
       " 'noaa-goes16/ABI-L2-FDCC/2020/288',\n",
       " 'noaa-goes16/ABI-L2-FDCC/2020/289',\n",
       " 'noaa-goes16/ABI-L2-FDCC/2020/290',\n",
       " 'noaa-goes16/ABI-L2-FDCC/2020/291',\n",
       " 'noaa-goes16/ABI-L2-FDCC/2020/292',\n",
       " 'noaa-goes16/ABI-L2-FDCC/2020/293',\n",
       " 'noaa-goes16/ABI-L2-FDCC/2020/294',\n",
       " 'noaa-goes16/ABI-L2-FDCC/2020/295',\n",
       " 'noaa-goes16/ABI-L2-FDCC/2020/296',\n",
       " 'noaa-goes16/ABI-L2-FDCC/2020/297',\n",
       " 'noaa-goes16/ABI-L2-FDCC/2020/298',\n",
       " 'noaa-goes16/ABI-L2-FDCC/2020/299',\n",
       " 'noaa-goes16/ABI-L2-FDCC/2020/300',\n",
       " 'noaa-goes16/ABI-L2-FDCC/2020/301',\n",
       " 'noaa-goes16/ABI-L2-FDCC/2020/302',\n",
       " 'noaa-goes16/ABI-L2-FDCC/2020/303',\n",
       " 'noaa-goes16/ABI-L2-FDCC/2020/304',\n",
       " 'noaa-goes16/ABI-L2-FDCC/2020/305',\n",
       " 'noaa-goes16/ABI-L2-FDCC/2020/306',\n",
       " 'noaa-goes16/ABI-L2-FDCC/2020/307',\n",
       " 'noaa-goes16/ABI-L2-FDCC/2020/308',\n",
       " 'noaa-goes16/ABI-L2-FDCC/2020/309',\n",
       " 'noaa-goes16/ABI-L2-FDCC/2020/310',\n",
       " 'noaa-goes16/ABI-L2-FDCC/2020/311',\n",
       " 'noaa-goes16/ABI-L2-FDCC/2020/312',\n",
       " 'noaa-goes16/ABI-L2-FDCC/2020/313',\n",
       " 'noaa-goes16/ABI-L2-FDCC/2020/314',\n",
       " 'noaa-goes16/ABI-L2-FDCC/2020/315',\n",
       " 'noaa-goes16/ABI-L2-FDCC/2020/316',\n",
       " 'noaa-goes16/ABI-L2-FDCC/2020/317',\n",
       " 'noaa-goes16/ABI-L2-FDCC/2020/318',\n",
       " 'noaa-goes16/ABI-L2-FDCC/2020/319',\n",
       " 'noaa-goes16/ABI-L2-FDCC/2020/320',\n",
       " 'noaa-goes16/ABI-L2-FDCC/2020/321',\n",
       " 'noaa-goes16/ABI-L2-FDCC/2020/322',\n",
       " 'noaa-goes16/ABI-L2-FDCC/2020/323',\n",
       " 'noaa-goes16/ABI-L2-FDCC/2020/324',\n",
       " 'noaa-goes16/ABI-L2-FDCC/2020/325',\n",
       " 'noaa-goes16/ABI-L2-FDCC/2020/326',\n",
       " 'noaa-goes16/ABI-L2-FDCC/2020/327',\n",
       " 'noaa-goes16/ABI-L2-FDCC/2020/328',\n",
       " 'noaa-goes16/ABI-L2-FDCC/2020/329',\n",
       " 'noaa-goes16/ABI-L2-FDCC/2020/330',\n",
       " 'noaa-goes16/ABI-L2-FDCC/2020/331',\n",
       " 'noaa-goes16/ABI-L2-FDCC/2020/332',\n",
       " 'noaa-goes16/ABI-L2-FDCC/2020/333',\n",
       " 'noaa-goes16/ABI-L2-FDCC/2020/334',\n",
       " 'noaa-goes16/ABI-L2-FDCC/2020/335',\n",
       " 'noaa-goes16/ABI-L2-FDCC/2020/336',\n",
       " 'noaa-goes16/ABI-L2-FDCC/2020/337',\n",
       " 'noaa-goes16/ABI-L2-FDCC/2020/338',\n",
       " 'noaa-goes16/ABI-L2-FDCC/2020/339',\n",
       " 'noaa-goes16/ABI-L2-FDCC/2020/340',\n",
       " 'noaa-goes16/ABI-L2-FDCC/2020/341',\n",
       " 'noaa-goes16/ABI-L2-FDCC/2020/342',\n",
       " 'noaa-goes16/ABI-L2-FDCC/2020/343',\n",
       " 'noaa-goes16/ABI-L2-FDCC/2020/344',\n",
       " 'noaa-goes16/ABI-L2-FDCC/2020/345',\n",
       " 'noaa-goes16/ABI-L2-FDCC/2020/346',\n",
       " 'noaa-goes16/ABI-L2-FDCC/2020/347',\n",
       " 'noaa-goes16/ABI-L2-FDCC/2020/348',\n",
       " 'noaa-goes16/ABI-L2-FDCC/2020/349',\n",
       " 'noaa-goes16/ABI-L2-FDCC/2020/350',\n",
       " 'noaa-goes16/ABI-L2-FDCC/2020/351',\n",
       " 'noaa-goes16/ABI-L2-FDCC/2020/352',\n",
       " 'noaa-goes16/ABI-L2-FDCC/2020/353',\n",
       " 'noaa-goes16/ABI-L2-FDCC/2020/354',\n",
       " 'noaa-goes16/ABI-L2-FDCC/2020/355',\n",
       " 'noaa-goes16/ABI-L2-FDCC/2020/356',\n",
       " 'noaa-goes16/ABI-L2-FDCC/2020/357',\n",
       " 'noaa-goes16/ABI-L2-FDCC/2020/358',\n",
       " 'noaa-goes16/ABI-L2-FDCC/2020/359',\n",
       " 'noaa-goes16/ABI-L2-FDCC/2020/360',\n",
       " 'noaa-goes16/ABI-L2-FDCC/2020/361',\n",
       " 'noaa-goes16/ABI-L2-FDCC/2020/362',\n",
       " 'noaa-goes16/ABI-L2-FDCC/2020/363',\n",
       " 'noaa-goes16/ABI-L2-FDCC/2020/364',\n",
       " 'noaa-goes16/ABI-L2-FDCC/2020/365',\n",
       " 'noaa-goes16/ABI-L2-FDCC/2020/366']"
      ]
     },
     "execution_count": 137,
     "metadata": {},
     "output_type": "execute_result"
    }
   ],
   "source": [
    "days_available = aws.glob(base_folder.joinpath(product).joinpath(f'{year}').joinpath('*').as_posix())\n",
    "days_available"
   ]
  },
  {
   "cell_type": "code",
   "execution_count": 141,
   "metadata": {},
   "outputs": [],
   "source": [
    "day = 274"
   ]
  },
  {
   "cell_type": "code",
   "execution_count": null,
   "metadata": {},
   "outputs": [],
   "source": [
    "noaa-goes16/ABI-L2-FDC/2020/274/17/"
   ]
  },
  {
   "cell_type": "code",
   "execution_count": 142,
   "metadata": {},
   "outputs": [
    {
     "data": {
      "text/plain": [
       "['noaa-goes16/ABI-L2-FDCC/2020/274/00',\n",
       " 'noaa-goes16/ABI-L2-FDCC/2020/274/01',\n",
       " 'noaa-goes16/ABI-L2-FDCC/2020/274/02',\n",
       " 'noaa-goes16/ABI-L2-FDCC/2020/274/03',\n",
       " 'noaa-goes16/ABI-L2-FDCC/2020/274/04',\n",
       " 'noaa-goes16/ABI-L2-FDCC/2020/274/05',\n",
       " 'noaa-goes16/ABI-L2-FDCC/2020/274/06',\n",
       " 'noaa-goes16/ABI-L2-FDCC/2020/274/07',\n",
       " 'noaa-goes16/ABI-L2-FDCC/2020/274/08',\n",
       " 'noaa-goes16/ABI-L2-FDCC/2020/274/09',\n",
       " 'noaa-goes16/ABI-L2-FDCC/2020/274/10',\n",
       " 'noaa-goes16/ABI-L2-FDCC/2020/274/11',\n",
       " 'noaa-goes16/ABI-L2-FDCC/2020/274/12',\n",
       " 'noaa-goes16/ABI-L2-FDCC/2020/274/13',\n",
       " 'noaa-goes16/ABI-L2-FDCC/2020/274/14',\n",
       " 'noaa-goes16/ABI-L2-FDCC/2020/274/15',\n",
       " 'noaa-goes16/ABI-L2-FDCC/2020/274/16',\n",
       " 'noaa-goes16/ABI-L2-FDCC/2020/274/17',\n",
       " 'noaa-goes16/ABI-L2-FDCC/2020/274/18',\n",
       " 'noaa-goes16/ABI-L2-FDCC/2020/274/19',\n",
       " 'noaa-goes16/ABI-L2-FDCC/2020/274/20',\n",
       " 'noaa-goes16/ABI-L2-FDCC/2020/274/21',\n",
       " 'noaa-goes16/ABI-L2-FDCC/2020/274/22',\n",
       " 'noaa-goes16/ABI-L2-FDCC/2020/274/23']"
      ]
     },
     "execution_count": 142,
     "metadata": {},
     "output_type": "execute_result"
    }
   ],
   "source": [
    "hours_available = aws.glob(base_folder.joinpath(product).joinpath(f'{year}').joinpath(f'{day:03d}').joinpath('*').as_posix())\n",
    "hours_available"
   ]
  },
  {
   "cell_type": "code",
   "execution_count": 140,
   "metadata": {},
   "outputs": [
    {
     "data": {
      "text/plain": [
       "['noaa-goes16/ABI-L2-FDCC/2020/273/09/OR_ABI-L2-FDCC-M6_G16_s20202730901168_e20202730903541_c20202730904263.nc',\n",
       " 'noaa-goes16/ABI-L2-FDCC/2020/273/09/OR_ABI-L2-FDCC-M6_G16_s20202730906168_e20202730908541_c20202730909250.nc',\n",
       " 'noaa-goes16/ABI-L2-FDCC/2020/273/09/OR_ABI-L2-FDCC-M6_G16_s20202730911168_e20202730913541_c20202730914232.nc',\n",
       " 'noaa-goes16/ABI-L2-FDCC/2020/273/09/OR_ABI-L2-FDCC-M6_G16_s20202730916168_e20202730918541_c20202730919239.nc',\n",
       " 'noaa-goes16/ABI-L2-FDCC/2020/273/09/OR_ABI-L2-FDCC-M6_G16_s20202730921168_e20202730923541_c20202730924237.nc',\n",
       " 'noaa-goes16/ABI-L2-FDCC/2020/273/09/OR_ABI-L2-FDCC-M6_G16_s20202730926168_e20202730928541_c20202730929216.nc',\n",
       " 'noaa-goes16/ABI-L2-FDCC/2020/273/09/OR_ABI-L2-FDCC-M6_G16_s20202730931168_e20202730933541_c20202730934221.nc',\n",
       " 'noaa-goes16/ABI-L2-FDCC/2020/273/09/OR_ABI-L2-FDCC-M6_G16_s20202730936168_e20202730938541_c20202730939256.nc',\n",
       " 'noaa-goes16/ABI-L2-FDCC/2020/273/09/OR_ABI-L2-FDCC-M6_G16_s20202730941168_e20202730943541_c20202730944218.nc',\n",
       " 'noaa-goes16/ABI-L2-FDCC/2020/273/09/OR_ABI-L2-FDCC-M6_G16_s20202730946168_e20202730948541_c20202730949202.nc',\n",
       " 'noaa-goes16/ABI-L2-FDCC/2020/273/09/OR_ABI-L2-FDCC-M6_G16_s20202730951168_e20202730953541_c20202730954201.nc',\n",
       " 'noaa-goes16/ABI-L2-FDCC/2020/273/09/OR_ABI-L2-FDCC-M6_G16_s20202730956168_e20202730958541_c20202730959222.nc']"
      ]
     },
     "execution_count": 140,
     "metadata": {},
     "output_type": "execute_result"
    }
   ],
   "source": [
    "hour = 9\n",
    "files_available = aws.glob(base_folder.joinpath(product).joinpath(f'{year}').joinpath(f'{day:03d}').joinpath(f'{hour:02d}').joinpath('*').as_posix())\n",
    "files_available"
   ]
  },
  {
   "cell_type": "markdown",
   "metadata": {},
   "source": [
    "## Download a file"
   ]
  },
  {
   "cell_type": "code",
   "execution_count": 48,
   "metadata": {},
   "outputs": [],
   "source": [
    "path2file_aws = pl.Path(files_available[3])\n",
    "path2folder_loc =pl.Path('/mnt/telg/tmp/aws_tmp/') "
   ]
  },
  {
   "cell_type": "code",
   "execution_count": 49,
   "metadata": {},
   "outputs": [
    {
     "data": {
      "text/plain": [
       "PosixPath('/mnt/telg/tmp/aws_tmp/OR_ABI-L2-AODC-M6_G16_s20200900916180_e20200900918553_c20200900919522.nc')"
      ]
     },
     "execution_count": 49,
     "metadata": {},
     "output_type": "execute_result"
    }
   ],
   "source": [
    "path2file_local = path2folder_loc.joinpath(path2file_aws.name)\n",
    "path2file_local"
   ]
  },
  {
   "cell_type": "code",
   "execution_count": 51,
   "metadata": {},
   "outputs": [
    {
     "data": {
      "text/plain": [
       "[None]"
      ]
     },
     "execution_count": 51,
     "metadata": {},
     "output_type": "execute_result"
    }
   ],
   "source": [
    "aws.get(path2file_aws.as_posix(), path2file_local.as_posix())"
   ]
  },
  {
   "cell_type": "code",
   "execution_count": null,
   "metadata": {},
   "outputs": [],
   "source": []
  }
 ],
 "metadata": {
  "kernelspec": {
   "display_name": "py310telg",
   "language": "python",
   "name": "py310telg"
  },
  "language_info": {
   "codemirror_mode": {
    "name": "ipython",
    "version": 3
   },
   "file_extension": ".py",
   "mimetype": "text/x-python",
   "name": "python",
   "nbconvert_exporter": "python",
   "pygments_lexer": "ipython3",
   "version": "3.10.12"
  },
  "toc-autonumbering": true,
  "toc-showcode": false,
  "toc-showmarkdowntxt": false,
  "toc-showtags": false
 },
 "nbformat": 4,
 "nbformat_minor": 4
}
