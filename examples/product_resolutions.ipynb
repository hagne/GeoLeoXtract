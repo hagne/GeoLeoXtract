{
 "cells": [
  {
   "cell_type": "markdown",
   "id": "203acee5-d0ef-466f-9d55-2edc98910135",
   "metadata": {},
   "source": [
    "TODO\n",
    "* get all products\n",
    "* download one each\n",
    "* get the resoltion for each"
   ]
  },
  {
   "cell_type": "code",
   "execution_count": 1,
   "id": "4237a3dd-8c59-455e-8c5e-0107afb9e88a",
   "metadata": {},
   "outputs": [],
   "source": [
    "import nesdis_gml_synergy.satlab as ngs"
   ]
  },
  {
   "cell_type": "code",
   "execution_count": 4,
   "id": "0688a8b9-3ab7-4c7c-97f4-030a3a262917",
   "metadata": {},
   "outputs": [],
   "source": [
    "import nesdis_aws.nesdis_aws as ngsaws"
   ]
  },
  {
   "cell_type": "code",
   "execution_count": 15,
   "id": "bd4e6eea-ee45-463a-b3ad-7d8ff68d0780",
   "metadata": {},
   "outputs": [],
   "source": [
    "import s3fs"
   ]
  },
  {
   "cell_type": "code",
   "execution_count": 57,
   "id": "355f3489-e413-4a9f-af46-693e68b65479",
   "metadata": {},
   "outputs": [],
   "source": [
    "import datetime"
   ]
  },
  {
   "cell_type": "code",
   "execution_count": 48,
   "id": "187a7599-0a89-4b49-8089-a0067c6025d5",
   "metadata": {},
   "outputs": [
    {
     "name": "stdout",
     "output_type": "stream",
     "text": [
      "follow link for readme: https://docs.opendata.aws/noaa-goes16/cics-readme.html\n"
     ]
    }
   ],
   "source": [
    "ngsaws.readme()"
   ]
  },
  {
   "cell_type": "code",
   "execution_count": 41,
   "id": "219e2893-865a-4314-8d3f-1f81769c5ccc",
   "metadata": {},
   "outputs": [
    {
     "name": "stdout",
     "output_type": "stream",
     "text": [
      "goes 16 and 17 products are identical\n"
     ]
    }
   ],
   "source": [
    "products = ngsaws.available_products()"
   ]
  },
  {
   "cell_type": "code",
   "execution_count": 42,
   "id": "5a884747-be00-4cdc-a145-5eb3027821d4",
   "metadata": {},
   "outputs": [],
   "source": [
    "satellite = 16"
   ]
  },
  {
   "cell_type": "code",
   "execution_count": 49,
   "id": "4f4a096c-978f-40b2-b833-89f11f6226a8",
   "metadata": {},
   "outputs": [],
   "source": [
    "prodser = products[satellite]"
   ]
  },
  {
   "cell_type": "code",
   "execution_count": 53,
   "id": "f6a1b0b4-9a02-4f95-ab4d-ced369041ca4",
   "metadata": {},
   "outputs": [],
   "source": [
    "products = [p for p in prodser if p[-1] ==  'C']\n"
   ]
  },
  {
   "cell_type": "code",
   "execution_count": 168,
   "id": "7f0600ca-db0a-4e29-9a26-e56f55144eeb",
   "metadata": {},
   "outputs": [
    {
     "data": {
      "text/plain": [
       "<module 'nesdis_aws.nesdis_aws' from '/mnt/telg/prog/nesdis_aws/nesdis_aws/nesdis_aws.py'>"
      ]
     },
     "execution_count": 168,
     "metadata": {},
     "output_type": "execute_result"
    }
   ],
   "source": [
    "reload(ngsaws)"
   ]
  },
  {
   "cell_type": "code",
   "execution_count": 182,
   "id": "b76277f1-b46f-41ce-9003-d9b4d0dc8b2a",
   "metadata": {},
   "outputs": [],
   "source": [
    "start = pd.to_datetime((datetime.datetime.now() - datetime.timedelta(3)).date()) + datetime.timedelta(hours=13)"
   ]
  },
  {
   "cell_type": "code",
   "execution_count": 183,
   "id": "f7bc3129-cc08-4dbf-a2d7-0796eed65707",
   "metadata": {},
   "outputs": [
    {
     "name": "stdout",
     "output_type": "stream",
     "text": [
      "2000\n",
      "2017\n",
      "2019\n",
      "2000\n",
      "2017\n",
      "2000\n",
      "2017\n",
      "2019\n",
      "2000\n",
      "2017\n",
      "2000\n",
      "2017\n",
      "2000\n",
      "2017\n",
      "2019\n",
      "2019\n",
      "2019\n",
      "2021\n",
      "2019\n",
      "2019\n",
      "2017\n",
      "2000\n",
      "2017\n",
      "2019\n",
      "2019\n",
      "2000\n",
      "2017\n",
      "2019\n",
      "2019\n"
     ]
    }
   ],
   "source": [
    "info=[]\n",
    "failure = []\n",
    "for prod in products:\n",
    "#     break\n",
    "    try:\n",
    "\n",
    "        que = ngsaws.AwsQuery(\n",
    "                                path2folder_local='/mnt/telg/tmp/aws_tmp/',\n",
    "                                satellite=satellite,\n",
    "                                product=prod,\n",
    "                                scan_sector='C',\n",
    "                                start=start,\n",
    "                                end=start + datetime.timedelta(hours = 3),#(days = 1),\n",
    "                                no_of_days=None,\n",
    "                                last_x_days=None,\n",
    "                                max_no_of_files=100,\n",
    "                            )\n",
    "\n",
    "        temporal_resolution = (que.workplan.index[1:] - que.workplan.index[:-1]).mean()\n",
    "\n",
    "        que.workplan = que.workplan.iloc[[1]]\n",
    "        info.append({'product': prod, \n",
    "                     'workplan': que.workplan.copy(),\n",
    "                     'temp_res': temporal_resolution,\n",
    "                     'available_since': que.product_available_since}) \n",
    "        que.download()\n",
    "    except:\n",
    "        failure.append(prod)\n",
    "        print(f\"{prod} failed\")\n",
    "        "
   ]
  },
  {
   "cell_type": "code",
   "execution_count": 196,
   "id": "72bb2acd-b247-48d3-a773-03050321ad7a",
   "metadata": {},
   "outputs": [],
   "source": [
    "import atmPy.data_archives.NOAA_ESRL_GMD_GRAD.surfrad.surfrad as surfrad"
   ]
  },
  {
   "cell_type": "code",
   "execution_count": 198,
   "id": "790123e7-bfae-4b99-a90f-a2c0f85b6022",
   "metadata": {},
   "outputs": [
    {
     "data": {
      "text/plain": [
       "atmPy.general.measurement_site.Station"
      ]
     },
     "execution_count": 198,
     "metadata": {},
     "output_type": "execute_result"
    }
   ],
   "source": [
    "type(surfrad.network.stations.Table_Mountain)"
   ]
  },
  {
   "cell_type": "code",
   "execution_count": 197,
   "id": "f6160c9f-3922-48ce-a742-ecfd12dc0122",
   "metadata": {},
   "outputs": [
    {
     "data": {
      "text/plain": [
       "(40.12498, -105.2368)"
      ]
     },
     "execution_count": 197,
     "metadata": {},
     "output_type": "execute_result"
    }
   ],
   "source": [
    "surfrad.network.stations.Table_Mountain.lat, surfrad.network.stations.Table_Mountain.lon"
   ]
  },
  {
   "cell_type": "code",
   "execution_count": 199,
   "id": "77507dfc-13cc-4644-915f-51338ca2a7e1",
   "metadata": {},
   "outputs": [],
   "source": [
    "site = surfrad.network.stations.Table_Mountain"
   ]
  },
  {
   "cell_type": "code",
   "execution_count": null,
   "id": "1891f212-c98a-46da-bd3d-ecda885ba670",
   "metadata": {},
   "outputs": [],
   "source": []
  },
  {
   "cell_type": "code",
   "execution_count": null,
   "id": "65b80133-8446-4f7d-8cde-9196f77cfbdb",
   "metadata": {},
   "outputs": [],
   "source": []
  },
  {
   "cell_type": "code",
   "execution_count": 202,
   "id": "6a88efe1-33be-4825-9995-744c92264933",
   "metadata": {},
   "outputs": [
    {
     "data": {
      "text/plain": [
       "True"
      ]
     },
     "execution_count": 202,
     "metadata": {},
     "output_type": "execute_result"
    }
   ],
   "source": [
    "hasattr(site, 'lat') and hasattr(site, 'lon')"
   ]
  },
  {
   "cell_type": "code",
   "execution_count": null,
   "id": "97e9e5d6-552c-4941-8f11-9106e25dfed1",
   "metadata": {},
   "outputs": [],
   "source": [
    "reload(ngs)"
   ]
  },
  {
   "cell_type": "code",
   "execution_count": 186,
   "id": "17323ed8-c2e9-47ac-8a14-03542f1c8eb0",
   "metadata": {},
   "outputs": [],
   "source": [
    "info_df = pd.DataFrame(info.copy())"
   ]
  },
  {
   "cell_type": "code",
   "execution_count": 242,
   "id": "66325dfd-2a02-4950-b084-883d7f1dcd9f",
   "metadata": {},
   "outputs": [],
   "source": [
    "info_df['lon_res'] = np.nan\n",
    "info_df['lat_res'] = np.nan\n",
    "info_df['spatial_resolution'] = np.nan\n",
    "info_df['title'] = np.nan\n",
    "info_df['summary'] = np.nan"
   ]
  },
  {
   "cell_type": "code",
   "execution_count": 264,
   "id": "dd9d1485-1d4d-480e-b4ee-b918712c2d8d",
   "metadata": {},
   "outputs": [],
   "source": [
    "for idx, row in info_df.iterrows():\n",
    "    if not np.isnan(row.lon_res):\n",
    "        continue\n",
    "    \n",
    "    satinst  = ngs.open_file(row.workplan.path2file_local.iloc[0])\n",
    "    try:\n",
    "        res = satinst.get_resolution()\n",
    "\n",
    "        info_df.loc[idx, 'lon_res'] = res.loc[0,'lon']\n",
    "        info_df.loc[idx, 'lat_res'] = res.loc[0,'lat']\n",
    "    except:\n",
    "        pass\n",
    "    info_df.loc[idx, 'spatial_resolution'] = satinst.ds.attrs['spatial_resolution']\n",
    "    info_df.loc[idx, 'title'] = satinst.ds.attrs['title']\n",
    "    info_df.loc[idx, 'summary'] = satinst.ds.attrs['summary']\n",
    "#     except:\n",
    "#         continue"
   ]
  },
  {
   "cell_type": "code",
   "execution_count": 266,
   "id": "9152e09e-405c-4029-a37c-b404032ad060",
   "metadata": {},
   "outputs": [],
   "source": [
    "info_df_bk = info_df.copy()"
   ]
  },
  {
   "cell_type": "code",
   "execution_count": 282,
   "id": "60dd91ef-55e2-49fa-af51-f125e424360b",
   "metadata": {},
   "outputs": [],
   "source": [
    "dft = info_df.drop(['workplan'], axis=1)"
   ]
  },
  {
   "cell_type": "code",
   "execution_count": 283,
   "id": "8af46eba-4a20-420d-9112-9df34449fb85",
   "metadata": {},
   "outputs": [],
   "source": [
    "dft['temp_res_min'] = dft.apply(lambda row: row.temp_res/pd.to_timedelta(1,'min'), axis = 1)"
   ]
  },
  {
   "cell_type": "code",
   "execution_count": 284,
   "id": "2924fb62-bcd6-45f5-b24f-984286496be5",
   "metadata": {},
   "outputs": [],
   "source": [
    "dft = dft.drop(['temp_res'], axis=1)"
   ]
  },
  {
   "cell_type": "code",
   "execution_count": 285,
   "id": "66ff77c6-1ca8-43d7-accc-007227c5d8ff",
   "metadata": {},
   "outputs": [
    {
     "data": {
      "text/html": [
       "<div>\n",
       "<style scoped>\n",
       "    .dataframe tbody tr th:only-of-type {\n",
       "        vertical-align: middle;\n",
       "    }\n",
       "\n",
       "    .dataframe tbody tr th {\n",
       "        vertical-align: top;\n",
       "    }\n",
       "\n",
       "    .dataframe thead th {\n",
       "        text-align: right;\n",
       "    }\n",
       "</style>\n",
       "<table border=\"1\" class=\"dataframe\">\n",
       "  <thead>\n",
       "    <tr style=\"text-align: right;\">\n",
       "      <th></th>\n",
       "      <th>product</th>\n",
       "      <th>available_since</th>\n",
       "      <th>lon_res</th>\n",
       "      <th>lat_res</th>\n",
       "      <th>spatial_resolution</th>\n",
       "      <th>title</th>\n",
       "      <th>summary</th>\n",
       "      <th>temp_res_min</th>\n",
       "    </tr>\n",
       "  </thead>\n",
       "  <tbody>\n",
       "    <tr>\n",
       "      <th>0</th>\n",
       "      <td>ABI-L1b-RadC</td>\n",
       "      <td>2017-03-01</td>\n",
       "      <td>3.452556</td>\n",
       "      <td>2.673190</td>\n",
       "      <td>2km at nadir</td>\n",
       "      <td>ABI L1b Radiances</td>\n",
       "      <td>Single reflective band ABI L1b Radiance Produc...</td>\n",
       "      <td>0.304348</td>\n",
       "    </tr>\n",
       "    <tr>\n",
       "      <th>1</th>\n",
       "      <td>ABI-L2-ACHAC</td>\n",
       "      <td>2019-12-03</td>\n",
       "      <td>17.281100</td>\n",
       "      <td>13.363345</td>\n",
       "      <td>10km at nadir</td>\n",
       "      <td>ABI L2 Cloud Top Height</td>\n",
       "      <td>The Cloud Top Height product consists of the h...</td>\n",
       "      <td>5.000000</td>\n",
       "    </tr>\n",
       "    <tr>\n",
       "      <th>2</th>\n",
       "      <td>ABI-L2-ACMC</td>\n",
       "      <td>2017-04-20</td>\n",
       "      <td>3.452556</td>\n",
       "      <td>2.673190</td>\n",
       "      <td>2km at nadir</td>\n",
       "      <td>ABI L2 Clear Sky Mask</td>\n",
       "      <td>The Clear Sky Mask product consists of a binar...</td>\n",
       "      <td>5.000000</td>\n",
       "    </tr>\n",
       "    <tr>\n",
       "      <th>3</th>\n",
       "      <td>ABI-L2-ACTPC</td>\n",
       "      <td>2017-05-17</td>\n",
       "      <td>3.452556</td>\n",
       "      <td>2.673190</td>\n",
       "      <td>2km at nadir</td>\n",
       "      <td>ABI L2 Cloud Top Phase</td>\n",
       "      <td>The Cloud Top Phase product consists of cloud ...</td>\n",
       "      <td>5.000000</td>\n",
       "    </tr>\n",
       "    <tr>\n",
       "      <th>4</th>\n",
       "      <td>ABI-L2-ADPC</td>\n",
       "      <td>2019-12-04</td>\n",
       "      <td>3.452556</td>\n",
       "      <td>2.673190</td>\n",
       "      <td>2km at nadir</td>\n",
       "      <td>ABI L2 Aerosol Detection</td>\n",
       "      <td>The Aerosol Detection product consists of thre...</td>\n",
       "      <td>10.000000</td>\n",
       "    </tr>\n",
       "    <tr>\n",
       "      <th>5</th>\n",
       "      <td>ABI-L2-AODC</td>\n",
       "      <td>2017-05-25</td>\n",
       "      <td>3.452556</td>\n",
       "      <td>2.673190</td>\n",
       "      <td>2km at nadir</td>\n",
       "      <td>ABI L2 Aerosol Optical Depth</td>\n",
       "      <td>The Aerosol Optical Depth at 550 nm product co...</td>\n",
       "      <td>5.000000</td>\n",
       "    </tr>\n",
       "    <tr>\n",
       "      <th>6</th>\n",
       "      <td>ABI-L2-CMIPC</td>\n",
       "      <td>2017-03-01</td>\n",
       "      <td>3.452556</td>\n",
       "      <td>2.673190</td>\n",
       "      <td>2km at nadir</td>\n",
       "      <td>ABI L2 Cloud and Moisture Imagery</td>\n",
       "      <td>Single reflective band Cloud and Moisture Imag...</td>\n",
       "      <td>0.304348</td>\n",
       "    </tr>\n",
       "    <tr>\n",
       "      <th>7</th>\n",
       "      <td>ABI-L2-CODC</td>\n",
       "      <td>2017-06-09</td>\n",
       "      <td>3.452556</td>\n",
       "      <td>2.673190</td>\n",
       "      <td>2km at nadir</td>\n",
       "      <td>ABI L2 Cloud Optical Depth at 640 nm</td>\n",
       "      <td>The Cloud Optical Depth product consists of pi...</td>\n",
       "      <td>5.000000</td>\n",
       "    </tr>\n",
       "    <tr>\n",
       "      <th>8</th>\n",
       "      <td>ABI-L2-CPSC</td>\n",
       "      <td>2019-12-06</td>\n",
       "      <td>3.452556</td>\n",
       "      <td>2.673190</td>\n",
       "      <td>2km at nadir</td>\n",
       "      <td>ABI L2 Cloud Particle Size</td>\n",
       "      <td>The Cloud Particle Size product consists of pi...</td>\n",
       "      <td>5.000000</td>\n",
       "    </tr>\n",
       "    <tr>\n",
       "      <th>9</th>\n",
       "      <td>ABI-L2-CTPC</td>\n",
       "      <td>2019-12-06</td>\n",
       "      <td>17.281100</td>\n",
       "      <td>13.363345</td>\n",
       "      <td>10km at nadir</td>\n",
       "      <td>ABI L2 Cloud Top Pressure</td>\n",
       "      <td>The Cloud Top Pressure product consists of the...</td>\n",
       "      <td>5.000000</td>\n",
       "    </tr>\n",
       "    <tr>\n",
       "      <th>10</th>\n",
       "      <td>ABI-L2-DMWC</td>\n",
       "      <td>2019-12-03</td>\n",
       "      <td>NaN</td>\n",
       "      <td>NaN</td>\n",
       "      <td>10km at nadir</td>\n",
       "      <td>ABI L2 Derived Motion Winds</td>\n",
       "      <td>The Derived Motion Winds product consists of w...</td>\n",
       "      <td>2.323944</td>\n",
       "    </tr>\n",
       "    <tr>\n",
       "      <th>11</th>\n",
       "      <td>ABI-L2-DMWVC</td>\n",
       "      <td>2021-04-13</td>\n",
       "      <td>NaN</td>\n",
       "      <td>NaN</td>\n",
       "      <td>10km at nadir</td>\n",
       "      <td>ABI L2 Derived Motion Winds</td>\n",
       "      <td>The Derived Motion Winds product consists of w...</td>\n",
       "      <td>15.000000</td>\n",
       "    </tr>\n",
       "    <tr>\n",
       "      <th>12</th>\n",
       "      <td>ABI-L2-DSIC</td>\n",
       "      <td>2019-12-06</td>\n",
       "      <td>17.281100</td>\n",
       "      <td>13.363345</td>\n",
       "      <td>10km at nadir</td>\n",
       "      <td>ABI L2 Derived Stability Indices</td>\n",
       "      <td>The Derived Stability Indices product consists...</td>\n",
       "      <td>5.000000</td>\n",
       "    </tr>\n",
       "    <tr>\n",
       "      <th>13</th>\n",
       "      <td>ABI-L2-DSRC</td>\n",
       "      <td>2019-12-06</td>\n",
       "      <td>NaN</td>\n",
       "      <td>NaN</td>\n",
       "      <td>25km at nadir</td>\n",
       "      <td>ABI L2 Downward Shortwave Radiation: Surface</td>\n",
       "      <td>The Downward Shortwave Radiation: Surface prod...</td>\n",
       "      <td>60.000000</td>\n",
       "    </tr>\n",
       "    <tr>\n",
       "      <th>14</th>\n",
       "      <td>ABI-L2-FDCC</td>\n",
       "      <td>2017-05-25</td>\n",
       "      <td>3.452556</td>\n",
       "      <td>2.673190</td>\n",
       "      <td>2km at nadir</td>\n",
       "      <td>ABI L2 Fire - Hot Spot Characterization</td>\n",
       "      <td>The Fire - Hot Spot Characterization product c...</td>\n",
       "      <td>5.000000</td>\n",
       "    </tr>\n",
       "    <tr>\n",
       "      <th>15</th>\n",
       "      <td>ABI-L2-LSTC</td>\n",
       "      <td>2017-05-25</td>\n",
       "      <td>3.452556</td>\n",
       "      <td>2.673190</td>\n",
       "      <td>2km at nadir</td>\n",
       "      <td>ABI L2 Land Surface (Skin) Temperature</td>\n",
       "      <td>The Land Surface (Skin) Temperature product co...</td>\n",
       "      <td>60.000000</td>\n",
       "    </tr>\n",
       "    <tr>\n",
       "      <th>16</th>\n",
       "      <td>ABI-L2-LVMPC</td>\n",
       "      <td>2019-12-06</td>\n",
       "      <td>17.281100</td>\n",
       "      <td>13.363345</td>\n",
       "      <td>10km at nadir</td>\n",
       "      <td>ABI L2 Legacy Vertical Moisture Profile</td>\n",
       "      <td>The Legacy Vertical Moisture product consists ...</td>\n",
       "      <td>5.000000</td>\n",
       "    </tr>\n",
       "    <tr>\n",
       "      <th>17</th>\n",
       "      <td>ABI-L2-LVTPC</td>\n",
       "      <td>2019-12-06</td>\n",
       "      <td>17.281100</td>\n",
       "      <td>13.363345</td>\n",
       "      <td>10km at nadir</td>\n",
       "      <td>ABI L2 Legacy Vertical Temperature Profile</td>\n",
       "      <td>The Legacy Vertical Temperature product consis...</td>\n",
       "      <td>5.000000</td>\n",
       "    </tr>\n",
       "    <tr>\n",
       "      <th>18</th>\n",
       "      <td>ABI-L2-MCMIPC</td>\n",
       "      <td>2017-03-01</td>\n",
       "      <td>3.452556</td>\n",
       "      <td>2.673190</td>\n",
       "      <td>2km at nadir</td>\n",
       "      <td>ABI L2 Cloud and Moisture Imagery</td>\n",
       "      <td>Multiple reflectance and emissive channel Clou...</td>\n",
       "      <td>5.000000</td>\n",
       "    </tr>\n",
       "    <tr>\n",
       "      <th>19</th>\n",
       "      <td>ABI-L2-RSRC</td>\n",
       "      <td>2019-12-06</td>\n",
       "      <td>NaN</td>\n",
       "      <td>NaN</td>\n",
       "      <td>25km at nadir</td>\n",
       "      <td>Advanced Baseline Imager (ABI) Level 2+ Reflec...</td>\n",
       "      <td>The Reflected Shortwave Radiation: TOA product...</td>\n",
       "      <td>60.000000</td>\n",
       "    </tr>\n",
       "    <tr>\n",
       "      <th>20</th>\n",
       "      <td>ABI-L2-TPWC</td>\n",
       "      <td>2019-12-04</td>\n",
       "      <td>17.281100</td>\n",
       "      <td>13.363345</td>\n",
       "      <td>10km at nadir</td>\n",
       "      <td>ABI L2 Total Precipitable Water</td>\n",
       "      <td>The Total Precipitable Water product consists ...</td>\n",
       "      <td>5.000000</td>\n",
       "    </tr>\n",
       "  </tbody>\n",
       "</table>\n",
       "</div>"
      ],
      "text/plain": [
       "          product available_since    lon_res    lat_res spatial_resolution  \\\n",
       "0    ABI-L1b-RadC      2017-03-01   3.452556   2.673190       2km at nadir   \n",
       "1    ABI-L2-ACHAC      2019-12-03  17.281100  13.363345      10km at nadir   \n",
       "2     ABI-L2-ACMC      2017-04-20   3.452556   2.673190       2km at nadir   \n",
       "3    ABI-L2-ACTPC      2017-05-17   3.452556   2.673190       2km at nadir   \n",
       "4     ABI-L2-ADPC      2019-12-04   3.452556   2.673190       2km at nadir   \n",
       "5     ABI-L2-AODC      2017-05-25   3.452556   2.673190       2km at nadir   \n",
       "6    ABI-L2-CMIPC      2017-03-01   3.452556   2.673190       2km at nadir   \n",
       "7     ABI-L2-CODC      2017-06-09   3.452556   2.673190       2km at nadir   \n",
       "8     ABI-L2-CPSC      2019-12-06   3.452556   2.673190       2km at nadir   \n",
       "9     ABI-L2-CTPC      2019-12-06  17.281100  13.363345      10km at nadir   \n",
       "10    ABI-L2-DMWC      2019-12-03        NaN        NaN      10km at nadir   \n",
       "11   ABI-L2-DMWVC      2021-04-13        NaN        NaN      10km at nadir   \n",
       "12    ABI-L2-DSIC      2019-12-06  17.281100  13.363345      10km at nadir   \n",
       "13    ABI-L2-DSRC      2019-12-06        NaN        NaN      25km at nadir   \n",
       "14    ABI-L2-FDCC      2017-05-25   3.452556   2.673190       2km at nadir   \n",
       "15    ABI-L2-LSTC      2017-05-25   3.452556   2.673190       2km at nadir   \n",
       "16   ABI-L2-LVMPC      2019-12-06  17.281100  13.363345      10km at nadir   \n",
       "17   ABI-L2-LVTPC      2019-12-06  17.281100  13.363345      10km at nadir   \n",
       "18  ABI-L2-MCMIPC      2017-03-01   3.452556   2.673190       2km at nadir   \n",
       "19    ABI-L2-RSRC      2019-12-06        NaN        NaN      25km at nadir   \n",
       "20    ABI-L2-TPWC      2019-12-04  17.281100  13.363345      10km at nadir   \n",
       "\n",
       "                                                title  \\\n",
       "0                                   ABI L1b Radiances   \n",
       "1                             ABI L2 Cloud Top Height   \n",
       "2                               ABI L2 Clear Sky Mask   \n",
       "3                              ABI L2 Cloud Top Phase   \n",
       "4                            ABI L2 Aerosol Detection   \n",
       "5                        ABI L2 Aerosol Optical Depth   \n",
       "6                   ABI L2 Cloud and Moisture Imagery   \n",
       "7                ABI L2 Cloud Optical Depth at 640 nm   \n",
       "8                          ABI L2 Cloud Particle Size   \n",
       "9                           ABI L2 Cloud Top Pressure   \n",
       "10                        ABI L2 Derived Motion Winds   \n",
       "11                        ABI L2 Derived Motion Winds   \n",
       "12                   ABI L2 Derived Stability Indices   \n",
       "13       ABI L2 Downward Shortwave Radiation: Surface   \n",
       "14            ABI L2 Fire - Hot Spot Characterization   \n",
       "15             ABI L2 Land Surface (Skin) Temperature   \n",
       "16            ABI L2 Legacy Vertical Moisture Profile   \n",
       "17         ABI L2 Legacy Vertical Temperature Profile   \n",
       "18                  ABI L2 Cloud and Moisture Imagery   \n",
       "19  Advanced Baseline Imager (ABI) Level 2+ Reflec...   \n",
       "20                    ABI L2 Total Precipitable Water   \n",
       "\n",
       "                                              summary  temp_res_min  \n",
       "0   Single reflective band ABI L1b Radiance Produc...      0.304348  \n",
       "1   The Cloud Top Height product consists of the h...      5.000000  \n",
       "2   The Clear Sky Mask product consists of a binar...      5.000000  \n",
       "3   The Cloud Top Phase product consists of cloud ...      5.000000  \n",
       "4   The Aerosol Detection product consists of thre...     10.000000  \n",
       "5   The Aerosol Optical Depth at 550 nm product co...      5.000000  \n",
       "6   Single reflective band Cloud and Moisture Imag...      0.304348  \n",
       "7   The Cloud Optical Depth product consists of pi...      5.000000  \n",
       "8   The Cloud Particle Size product consists of pi...      5.000000  \n",
       "9   The Cloud Top Pressure product consists of the...      5.000000  \n",
       "10  The Derived Motion Winds product consists of w...      2.323944  \n",
       "11  The Derived Motion Winds product consists of w...     15.000000  \n",
       "12  The Derived Stability Indices product consists...      5.000000  \n",
       "13  The Downward Shortwave Radiation: Surface prod...     60.000000  \n",
       "14  The Fire - Hot Spot Characterization product c...      5.000000  \n",
       "15  The Land Surface (Skin) Temperature product co...     60.000000  \n",
       "16  The Legacy Vertical Moisture product consists ...      5.000000  \n",
       "17  The Legacy Vertical Temperature product consis...      5.000000  \n",
       "18  Multiple reflectance and emissive channel Clou...      5.000000  \n",
       "19  The Reflected Shortwave Radiation: TOA product...     60.000000  \n",
       "20  The Total Precipitable Water product consists ...      5.000000  "
      ]
     },
     "execution_count": 285,
     "metadata": {},
     "output_type": "execute_result"
    }
   ],
   "source": [
    "dft"
   ]
  },
  {
   "cell_type": "code",
   "execution_count": null,
   "id": "8a906e4f-e5cd-4613-bf32-c7e32af68d74",
   "metadata": {},
   "outputs": [],
   "source": []
  },
  {
   "cell_type": "code",
   "execution_count": null,
   "id": "8f65574e-2a7b-40b7-a101-8e241f0c8fa8",
   "metadata": {},
   "outputs": [],
   "source": []
  },
  {
   "cell_type": "code",
   "execution_count": 286,
   "id": "064c5f9a-aad0-4274-a255-a5f3986a7984",
   "metadata": {},
   "outputs": [],
   "source": [
    "dft.to_csv('product_info.csv')"
   ]
  },
  {
   "cell_type": "code",
   "execution_count": null,
   "id": "22dc74ac-80d6-4174-8dda-f640869c6b72",
   "metadata": {},
   "outputs": [],
   "source": []
  }
 ],
 "metadata": {
  "kernelspec": {
   "display_name": "py38",
   "language": "python",
   "name": "py38"
  },
  "language_info": {
   "codemirror_mode": {
    "name": "ipython",
    "version": 3
   },
   "file_extension": ".py",
   "mimetype": "text/x-python",
   "name": "python",
   "nbconvert_exporter": "python",
   "pygments_lexer": "ipython3",
   "version": "3.8.8"
  }
 },
 "nbformat": 4,
 "nbformat_minor": 5
}
