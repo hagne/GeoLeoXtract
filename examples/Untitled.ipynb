{
 "cells": [
  {
   "cell_type": "code",
   "execution_count": null,
   "id": "e5cf9373-e51e-47c2-a6a5-1043cecee3a9",
   "metadata": {},
   "outputs": [],
   "source": []
  },
  {
   "cell_type": "code",
   "execution_count": null,
   "id": "c6c608d6-c2a1-49c3-9c69-fe5779d8b742",
   "metadata": {},
   "outputs": [],
   "source": []
  },
  {
   "cell_type": "code",
   "execution_count": 1,
   "id": "62a58bba-8b1d-4c94-9ac3-41e9274ea260",
   "metadata": {},
   "outputs": [],
   "source": [
    "import configparser"
   ]
  },
  {
   "cell_type": "code",
   "execution_count": 2,
   "id": "36ffea0e-6582-4f63-83b9-e7abd0182ba1",
   "metadata": {},
   "outputs": [],
   "source": [
    "path2config = 'goesscraper_initialization.ini'"
   ]
  },
  {
   "cell_type": "code",
   "execution_count": 94,
   "id": "708fc707-1882-4340-abc8-c8de3b77d545",
   "metadata": {},
   "outputs": [
    {
     "data": {
      "text/plain": [
       "['goesscraper_initialization.ini']"
      ]
     },
     "execution_count": 94,
     "metadata": {},
     "output_type": "execute_result"
    }
   ],
   "source": [
    "config = configparser.ConfigParser(allow_no_value=True,)\n",
    "config.read(path2config)"
   ]
  },
  {
   "cell_type": "code",
   "execution_count": 95,
   "id": "ff9ed2cb-f3b2-4ba9-a07f-32cc0336eb85",
   "metadata": {},
   "outputs": [],
   "source": [
    "if 'range' in config['workplan'].keys():\n",
    "    end = pd.Timestamp.now().__str__()\n",
    "    start = (pd.Timestamp.now() - pd.to_timedelta(int(tr[1]), 'days')).__str__()"
   ]
  },
  {
   "cell_type": "code",
   "execution_count": 97,
   "id": "45ce7651-baf1-4a58-a2b9-4bc5a3170cb1",
   "metadata": {},
   "outputs": [],
   "source": [
    "tr = config['workplan']['range'].split()"
   ]
  },
  {
   "cell_type": "code",
   "execution_count": 99,
   "id": "6ef394c8-c0fe-42f4-90d1-18ce4f64a394",
   "metadata": {},
   "outputs": [],
   "source": [
    "assert(tr[0] == 'last')"
   ]
  },
  {
   "cell_type": "code",
   "execution_count": 103,
   "id": "add35210-dd3d-4d30-9b39-337e1c7ddf78",
   "metadata": {},
   "outputs": [
    {
     "data": {
      "text/plain": [
       "'2022-04-08 10:47:58.575542'"
      ]
     },
     "execution_count": 103,
     "metadata": {},
     "output_type": "execute_result"
    }
   ],
   "source": [
    "(pd.Timestamp.now() - pd.to_timedelta(int(tr[1]), 'days')).__str__()"
   ]
  },
  {
   "cell_type": "code",
   "execution_count": 85,
   "id": "beeb953f-51aa-4b32-b020-1874f09b777d",
   "metadata": {},
   "outputs": [
    {
     "data": {
      "text/plain": [
       "'last 2 month'"
      ]
     },
     "execution_count": 85,
     "metadata": {},
     "output_type": "execute_result"
    }
   ],
   "source": [
    "if config['workplan']['range'] == 'last 2 month':\n",
    "    "
   ]
  },
  {
   "cell_type": "code",
   "execution_count": 88,
   "id": "44bf4a11-44f2-4600-bd09-e905b833ac95",
   "metadata": {},
   "outputs": [
    {
     "data": {
      "text/plain": [
       "'2022-06-07 10:42:54.318299'"
      ]
     },
     "execution_count": 88,
     "metadata": {},
     "output_type": "execute_result"
    }
   ],
   "source": [
    "end = pd.Timestamp.now().__str__()"
   ]
  },
  {
   "cell_type": "code",
   "execution_count": 83,
   "id": "93eaa96f-6f35-4eab-a512-8a58cc982bb1",
   "metadata": {},
   "outputs": [
    {
     "data": {
      "text/plain": [
       "'True'"
      ]
     },
     "execution_count": 83,
     "metadata": {},
     "output_type": "execute_result"
    }
   ],
   "source": [
    "config['system']['testrun'].split('#')[0].strip()"
   ]
  },
  {
   "cell_type": "code",
   "execution_count": 47,
   "id": "d2ac9531-9cbf-40ec-8454-824610828e56",
   "metadata": {},
   "outputs": [],
   "source": [
    "config['system']['testrun']"
   ]
  },
  {
   "cell_type": "code",
   "execution_count": null,
   "id": "4e854ca3-ceed-44cb-905e-08460ae0f2e9",
   "metadata": {},
   "outputs": [],
   "source": []
  },
  {
   "cell_type": "code",
   "execution_count": 40,
   "id": "47e075a7-4973-4e8a-bcb3-c297b540bc7b",
   "metadata": {},
   "outputs": [],
   "source": [
    "start = config['workplan']['start']\n",
    "end = config['workplan']['end']"
   ]
  },
  {
   "cell_type": "code",
   "execution_count": 53,
   "id": "797c0932-c74d-43b9-a4cf-35a0f732b75b",
   "metadata": {},
   "outputs": [
    {
     "ename": "SyntaxError",
     "evalue": "invalid syntax (3451364613.py, line 4)",
     "output_type": "error",
     "traceback": [
      "\u001b[0;36m  File \u001b[0;32m\"/tmp/ipykernel_12786/3451364613.py\"\u001b[0;36m, line \u001b[0;32m4\u001b[0m\n\u001b[0;31m    verbose =\u001b[0m\n\u001b[0m              ^\u001b[0m\n\u001b[0;31mSyntaxError\u001b[0m\u001b[0;31m:\u001b[0m invalid syntax\n"
     ]
    }
   ],
   "source": [
    "cpus = int(config['system']['cpus'])\n",
    "products = [i.strip() for i in config['products']['products'].split(',')]\n",
    "test = 'testrun' in config['system'].keys()\n",
    "verbose = 'verbose' in config['system'].keys()\n",
    "reverse = 'reverse' in config['workplan'].keys()"
   ]
  },
  {
   "cell_type": "code",
   "execution_count": null,
   "id": "85f6f2e9-157c-4783-adbe-da95cf78f4f2",
   "metadata": {},
   "outputs": [],
   "source": []
  },
  {
   "cell_type": "code",
   "execution_count": 32,
   "id": "3ddc08cf-4256-414e-a915-7a40f5a23ec8",
   "metadata": {},
   "outputs": [
    {
     "data": {
      "text/plain": [
       "['system', 'file_io', 'locations', 'products', 'workplan']"
      ]
     },
     "execution_count": 32,
     "metadata": {},
     "output_type": "execute_result"
    }
   ],
   "source": [
    "bla = config.sections()\n",
    "bla"
   ]
  },
  {
   "cell_type": "code",
   "execution_count": 23,
   "id": "1ed0f4e5-cee9-4a94-ad8f-5d31beb01e54",
   "metadata": {},
   "outputs": [
    {
     "name": "stdout",
     "output_type": "stream",
     "text": [
      "('sector', 'conus')\n",
      "('satellite', '16')\n",
      "('product', 'ACM #bla')\n"
     ]
    }
   ],
   "source": [
    "bla = config['product']\n",
    "for i in bla.items():\n",
    "    print(i)"
   ]
  },
  {
   "cell_type": "code",
   "execution_count": 20,
   "id": "e92780ec-0dbb-4c9c-b689-4599e85b21ba",
   "metadata": {},
   "outputs": [
    {
     "ename": "TypeError",
     "evalue": "'ItemsView' object is not subscriptable",
     "output_type": "error",
     "traceback": [
      "\u001b[0;31m---------------------------------------------------------------------------\u001b[0m",
      "\u001b[0;31mTypeError\u001b[0m                                 Traceback (most recent call last)",
      "\u001b[0;32m/tmp/ipykernel_12786/891582857.py\u001b[0m in \u001b[0;36m<cell line: 1>\u001b[0;34m()\u001b[0m\n\u001b[0;32m----> 1\u001b[0;31m \u001b[0mbla\u001b[0m\u001b[0;34m.\u001b[0m\u001b[0mitems\u001b[0m\u001b[0;34m(\u001b[0m\u001b[0;34m)\u001b[0m\u001b[0;34m[\u001b[0m\u001b[0;36m0\u001b[0m\u001b[0;34m]\u001b[0m\u001b[0;34m\u001b[0m\u001b[0;34m\u001b[0m\u001b[0m\n\u001b[0m",
      "\u001b[0;31mTypeError\u001b[0m: 'ItemsView' object is not subscriptable"
     ]
    }
   ],
   "source": [
    "bla.items())"
   ]
  },
  {
   "cell_type": "code",
   "execution_count": null,
   "id": "06d9bc2e-cda8-4911-b07b-39a426d70478",
   "metadata": {},
   "outputs": [],
   "source": []
  }
 ],
 "metadata": {
  "kernelspec": {
   "display_name": "py38",
   "language": "python",
   "name": "py38"
  },
  "language_info": {
   "codemirror_mode": {
    "name": "ipython",
    "version": 3
   },
   "file_extension": ".py",
   "mimetype": "text/x-python",
   "name": "python",
   "nbconvert_exporter": "python",
   "pygments_lexer": "ipython3",
   "version": "3.8.13"
  }
 },
 "nbformat": 4,
 "nbformat_minor": 5
}
