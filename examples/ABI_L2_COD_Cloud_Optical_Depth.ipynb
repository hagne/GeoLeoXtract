{
 "cells": [
  {
   "cell_type": "code",
   "execution_count": null,
   "id": "de1f8642-9326-4623-b99b-b8442e8b8a82",
   "metadata": {},
   "outputs": [],
   "source": [
    "asdf"
   ]
  },
  {
   "cell_type": "markdown",
   "id": "f59c67b8-0169-483c-badc-99db65326f56",
   "metadata": {},
   "source": [
    "# Imports"
   ]
  },
  {
   "cell_type": "code",
   "execution_count": 1,
   "id": "abb8ffcf-4f16-470d-a5bf-5a62c1e6b293",
   "metadata": {},
   "outputs": [
    {
     "data": {
      "text/plain": [
       "15627"
      ]
     },
     "execution_count": 1,
     "metadata": {},
     "output_type": "execute_result"
    }
   ],
   "source": [
    "import pathlib as pl\n",
    "import nesdis_aws\n",
    "import nesdis_gml_synergy.satlab as ngs\n",
    "import atmPy.data_archives.NOAA_ESRL_GMD_GRAD.surfrad.surfrad as surfrad\n",
    "import os\n",
    "os.getpid()"
   ]
  },
  {
   "cell_type": "code",
   "execution_count": 2,
   "id": "75d07f9f-c5c5-4a08-9d48-ca025280b76a",
   "metadata": {},
   "outputs": [],
   "source": [
    "import warnings\n",
    "warnings.filterwarnings(\"ignore\")"
   ]
  },
  {
   "cell_type": "code",
   "execution_count": 3,
   "id": "78a5289a-a815-42d7-8fa2-22a42d6987fa",
   "metadata": {},
   "outputs": [],
   "source": [
    "# warnings.filterwarnings(\"default\")"
   ]
  },
  {
   "cell_type": "code",
   "execution_count": 4,
   "id": "e2703542-f751-4ff9-ad81-5ff094b29f09",
   "metadata": {},
   "outputs": [],
   "source": [
    "plt.rcParams['figure.dpi'] = 200"
   ]
  },
  {
   "cell_type": "markdown",
   "id": "88b67829-638c-45a8-90a6-847a1a041beb",
   "metadata": {},
   "source": [
    "# download some data"
   ]
  },
  {
   "cell_type": "code",
   "execution_count": null,
   "id": "dfd0d4bf-6c58-4653-8789-1ee382d7cc33",
   "metadata": {},
   "outputs": [],
   "source": [
    "reload(nesdis_aws.nesdis_aws)\n",
    "reload(nesdis_aws)"
   ]
  },
  {
   "cell_type": "code",
   "execution_count": null,
   "id": "d650b873-b413-4cd0-a277-b4a1c125e788",
   "metadata": {},
   "outputs": [],
   "source": [
    "# product = 'ACHa' #FDC\n",
    "path2folder_local=f'/mnt/telg/data/nesdis/goes/ABI_L2_{product}/'\n",
    "pl.Path(path2folder_local).mkdir()\n",
    "query = nesdis_aws.AwsQuery(path2folder_local=path2folder_local,\n",
    "                            satellite='16',\n",
    "                            product=f'ABI-L2-{product}',\n",
    "                            scan_sector='C',\n",
    "                            # start='2020-09-30 18:00:00',\n",
    "                            # end='2020-09-30 19:35:00',\n",
    "                            start='2018-08-01 18:00:00',\n",
    "                            # end='2018-11-01 00:00:00',\n",
    "                            end='2018-08-01 18:05:00',\n",
    "                            verbose = True\n",
    "                           )\n"
   ]
  },
  {
   "cell_type": "code",
   "execution_count": null,
   "id": "0c5ab362-b3d8-46ff-b24f-eea7d9eb4ff2",
   "metadata": {},
   "outputs": [],
   "source": [
    "query.workplan"
   ]
  },
  {
   "cell_type": "code",
   "execution_count": null,
   "id": "eab85974-4cc7-49a3-bf8f-8ba94494dd6b",
   "metadata": {},
   "outputs": [],
   "source": [
    "print(query.info_on_current_query())"
   ]
  },
  {
   "cell_type": "code",
   "execution_count": null,
   "id": "fe144f49-555d-41da-8e9c-6e8027f6e82d",
   "metadata": {},
   "outputs": [],
   "source": [
    "query.product_available_since"
   ]
  },
  {
   "cell_type": "code",
   "execution_count": null,
   "id": "befde3d4-6dc9-42e9-a167-284435a00b92",
   "metadata": {},
   "outputs": [],
   "source": [
    "query.download()\n"
   ]
  },
  {
   "cell_type": "code",
   "execution_count": null,
   "id": "75c3baca-ffaa-4e0a-ac8d-ebcad9947caa",
   "metadata": {},
   "outputs": [],
   "source": []
  },
  {
   "cell_type": "markdown",
   "id": "2ebe7c9a-42a1-4802-814a-ca09be05ef08",
   "metadata": {},
   "source": [
    "# open"
   ]
  },
  {
   "cell_type": "code",
   "execution_count": null,
   "id": "3985f7d2-1591-4be4-9e57-484fceb6b8ee",
   "metadata": {},
   "outputs": [],
   "source": [
    "import atmPy.data_archives.NOAA_ESRL_GMD_GRAD.surfrad.surfrad as surfrad\n",
    "stations = surfrad.network.stations"
   ]
  },
  {
   "cell_type": "code",
   "execution_count": null,
   "id": "04f17c1d-4ee6-4051-90af-4a3b9332ac51",
   "metadata": {},
   "outputs": [],
   "source": [
    "reload(ngs)"
   ]
  },
  {
   "cell_type": "code",
   "execution_count": null,
   "id": "84a59ed2-6022-4c46-8d27-b9248d0d7e4e",
   "metadata": {},
   "outputs": [],
   "source": [
    "# sat_ds = ngs.open_file('/mnt/telg/data/nesdis/goes/ABI_L2_ADP/OR_ABI-L2-ADPC-M6_G16_s20211431801169_e20211431803542_c20211431804531.nc', verbose=True)"
   ]
  },
  {
   "cell_type": "code",
   "execution_count": null,
   "id": "6cc145a7-75b1-47b8-b951-ce0b8b8e4fef",
   "metadata": {},
   "outputs": [],
   "source": [
    "sat_ds.valid_2D_variables"
   ]
  },
  {
   "cell_type": "code",
   "execution_count": null,
   "id": "ff73dc3a-83e0-446e-8ab2-287e7279d4bc",
   "metadata": {},
   "outputs": [],
   "source": [
    "list(sat_ds.ds.variables)"
   ]
  },
  {
   "cell_type": "code",
   "execution_count": null,
   "id": "a40488e5-dafb-480a-9121-9d36f95d6f0a",
   "metadata": {},
   "outputs": [],
   "source": [
    "proj = sat_ds.project_on_sites(stations)"
   ]
  },
  {
   "cell_type": "code",
   "execution_count": null,
   "id": "59b4fb99-dc87-4e4b-b6a5-97a42fd3f08d",
   "metadata": {},
   "outputs": [],
   "source": [
    "proj.projection2area.sel(site = 'BND', stats = 'mean', radius = 50, \n",
    "                         # data_quality = 'good'\n",
    "                        )"
   ]
  },
  {
   "cell_type": "code",
   "execution_count": null,
   "id": "b58eff27-ccb9-451a-9917-0b538c2d0ed9",
   "metadata": {},
   "outputs": [],
   "source": [
    "proj.projection2point"
   ]
  },
  {
   "cell_type": "markdown",
   "id": "fb6f35e6-c973-4a38-a24c-9fc555f1448f",
   "metadata": {},
   "source": [
    "# Plot on map"
   ]
  },
  {
   "cell_type": "code",
   "execution_count": null,
   "id": "cdd09fa9-421b-40a7-a22b-067b264d79f2",
   "metadata": {},
   "outputs": [],
   "source": [
    "scale = 0.5\n",
    "width=2800000 *scale\n",
    "height=1700000 * scale\n",
    "a, bmap = surfrad.network.stations.Table_Mountain.plot(width=width, height=height)\n",
    "bmap, pc, cb = sat_ds.plot('Temp', bmap = bmap)\n",
    "bmap.drawcounties()\n",
    "# f = plt.gcf()\n",
    "# pc.set_clim(vmax= 10)"
   ]
  },
  {
   "cell_type": "markdown",
   "id": "ac5d7f8e-0867-4299-b52c-af66d2a4f3c2",
   "metadata": {},
   "source": [
    "# Download and project"
   ]
  },
  {
   "cell_type": "code",
   "execution_count": 5,
   "id": "3b0fc0ab-2e7e-4e12-8c07-a3ec009cad4c",
   "metadata": {},
   "outputs": [
    {
     "data": {
      "text/plain": [
       "15627"
      ]
     },
     "execution_count": 5,
     "metadata": {},
     "output_type": "execute_result"
    }
   ],
   "source": [
    "import pathlib as pl\n",
    "import nesdis_aws\n",
    "import nesdis_gml_synergy.satlab as ngs\n",
    "import atmPy.data_archives.NOAA_ESRL_GMD_GRAD.surfrad.surfrad as surfrad\n",
    "import os\n",
    "os.getpid()"
   ]
  },
  {
   "cell_type": "code",
   "execution_count": 6,
   "id": "5d16d65c-5558-413e-bf30-97ed59f838b1",
   "metadata": {},
   "outputs": [],
   "source": [
    "import atmPy.data_archives.NOAA_ESRL_GMD_GRAD.surfrad.surfrad as surfrad\n",
    "\n",
    "stations = surfrad.network.stations"
   ]
  },
  {
   "cell_type": "code",
   "execution_count": 7,
   "id": "2c3d38a7-77d3-4b29-9955-59f1ee3b9acd",
   "metadata": {},
   "outputs": [
    {
     "data": {
      "text/plain": [
       "<module 'nesdis_gml_synergy.satlab' from '/mnt/telg/prog/nesdis_gml_synergy/nesdis_gml_synergy/satlab.py'>"
      ]
     },
     "execution_count": 7,
     "metadata": {},
     "output_type": "execute_result"
    }
   ],
   "source": [
    "reload(ngs)"
   ]
  },
  {
   "cell_type": "code",
   "execution_count": 8,
   "id": "1d7bfed5-7fb5-4c06-b102-bc5173be66ae",
   "metadata": {},
   "outputs": [],
   "source": [
    "product = 'COD'\n",
    "# alt_var = 'BCM'# None, if the varialbe name is not equal to product name\n",
    "path2processed = f'/nfs/stu3data2/Satellite_data/goes/16/ABI_L2_{product}_daytime_projected2surfrad/'\n",
    "query = nesdis_aws.nesdis_aws.AwsQuery(\n",
    "                                        path2folder_local=f'/nfs/stu3data2/Satellite_data/goes/16/ABI_L2_{product}/',\n",
    "                                        satellite='16',\n",
    "                                        product=f'ABI-L2-{product}',\n",
    "                                        scan_sector='C',\n",
    "                                        #\n",
    "                                        # for testing\n",
    "                                        # start='2020-06-01 18:00:00',\n",
    "                                        # end='2020-06-01 18:05:00',\n",
    "                                        #\n",
    "                                        # all times\n",
    "                                        # start = '2017-06-09 00:00:00',\n",
    "                                        # end =   '2022-06-01 00:00:00',\n",
    "                                        # CPEX spring 2020\n",
    "                                        # start='2020-03-01 00:00:00',\n",
    "                                        # end='2020-06-01 00:00:00',\n",
    "                                        #\n",
    "                                        # CPEX original\n",
    "                                        start='2018-08-01 00:00:00',\n",
    "                                        end='2018-11-01 00:00:00',\n",
    "                                        process = dict(#concatenate = 'daily',\n",
    "                                                       function = lambda row: ngs.projection_function(row, stations), #,, alt_var),\n",
    "                                                       prefix = f'ABI_L2_{product}_daytime_projected2surfrad',\n",
    "                                                       path2processed = path2processed),\n",
    "                                        # keep_files=True\n",
    "                                      )\n",
    "\n",
    "# pl.Path(f'/nfs/stu3data2/Satellite_data/goes/16/ABI_L2_{product}').mkdir()\n",
    "# pl.Path(path2processed).mkdir()"
   ]
  },
  {
   "cell_type": "code",
   "execution_count": 9,
   "id": "44996e54-3b44-4387-ae60-d48ce77cc1b9",
   "metadata": {},
   "outputs": [
    {
     "data": {
      "text/html": [
       "<div>\n",
       "<style scoped>\n",
       "    .dataframe tbody tr th:only-of-type {\n",
       "        vertical-align: middle;\n",
       "    }\n",
       "\n",
       "    .dataframe tbody tr th {\n",
       "        vertical-align: top;\n",
       "    }\n",
       "\n",
       "    .dataframe thead th {\n",
       "        text-align: right;\n",
       "    }\n",
       "</style>\n",
       "<table border=\"1\" class=\"dataframe\">\n",
       "  <thead>\n",
       "    <tr style=\"text-align: right;\">\n",
       "      <th></th>\n",
       "      <th>path2file_aws</th>\n",
       "      <th>path2file_local</th>\n",
       "      <th>path2file_local_processed</th>\n",
       "    </tr>\n",
       "  </thead>\n",
       "  <tbody>\n",
       "    <tr>\n",
       "      <th>2018-08-12 16:27:28</th>\n",
       "      <td>noaa-goes16/ABI-L2-CODC/2018/224/16/OR_ABI-L2-...</td>\n",
       "      <td>/nfs/stu3data2/Satellite_data/goes/16/ABI_L2_C...</td>\n",
       "      <td>/nfs/stu3data2/Satellite_data/goes/16/ABI_L2_C...</td>\n",
       "    </tr>\n",
       "    <tr>\n",
       "      <th>2018-08-12 16:32:28</th>\n",
       "      <td>noaa-goes16/ABI-L2-CODC/2018/224/16/OR_ABI-L2-...</td>\n",
       "      <td>/nfs/stu3data2/Satellite_data/goes/16/ABI_L2_C...</td>\n",
       "      <td>/nfs/stu3data2/Satellite_data/goes/16/ABI_L2_C...</td>\n",
       "    </tr>\n",
       "    <tr>\n",
       "      <th>2018-08-12 16:37:28</th>\n",
       "      <td>noaa-goes16/ABI-L2-CODC/2018/224/16/OR_ABI-L2-...</td>\n",
       "      <td>/nfs/stu3data2/Satellite_data/goes/16/ABI_L2_C...</td>\n",
       "      <td>/nfs/stu3data2/Satellite_data/goes/16/ABI_L2_C...</td>\n",
       "    </tr>\n",
       "    <tr>\n",
       "      <th>2018-08-12 16:42:28</th>\n",
       "      <td>noaa-goes16/ABI-L2-CODC/2018/224/16/OR_ABI-L2-...</td>\n",
       "      <td>/nfs/stu3data2/Satellite_data/goes/16/ABI_L2_C...</td>\n",
       "      <td>/nfs/stu3data2/Satellite_data/goes/16/ABI_L2_C...</td>\n",
       "    </tr>\n",
       "    <tr>\n",
       "      <th>2018-08-12 16:47:28</th>\n",
       "      <td>noaa-goes16/ABI-L2-CODC/2018/224/16/OR_ABI-L2-...</td>\n",
       "      <td>/nfs/stu3data2/Satellite_data/goes/16/ABI_L2_C...</td>\n",
       "      <td>/nfs/stu3data2/Satellite_data/goes/16/ABI_L2_C...</td>\n",
       "    </tr>\n",
       "    <tr>\n",
       "      <th>...</th>\n",
       "      <td>...</td>\n",
       "      <td>...</td>\n",
       "      <td>...</td>\n",
       "    </tr>\n",
       "    <tr>\n",
       "      <th>2018-10-31 23:37:19</th>\n",
       "      <td>noaa-goes16/ABI-L2-CODC/2018/304/23/OR_ABI-L2-...</td>\n",
       "      <td>/nfs/stu3data2/Satellite_data/goes/16/ABI_L2_C...</td>\n",
       "      <td>/nfs/stu3data2/Satellite_data/goes/16/ABI_L2_C...</td>\n",
       "    </tr>\n",
       "    <tr>\n",
       "      <th>2018-10-31 23:42:19</th>\n",
       "      <td>noaa-goes16/ABI-L2-CODC/2018/304/23/OR_ABI-L2-...</td>\n",
       "      <td>/nfs/stu3data2/Satellite_data/goes/16/ABI_L2_C...</td>\n",
       "      <td>/nfs/stu3data2/Satellite_data/goes/16/ABI_L2_C...</td>\n",
       "    </tr>\n",
       "    <tr>\n",
       "      <th>2018-10-31 23:47:19</th>\n",
       "      <td>noaa-goes16/ABI-L2-CODC/2018/304/23/OR_ABI-L2-...</td>\n",
       "      <td>/nfs/stu3data2/Satellite_data/goes/16/ABI_L2_C...</td>\n",
       "      <td>/nfs/stu3data2/Satellite_data/goes/16/ABI_L2_C...</td>\n",
       "    </tr>\n",
       "    <tr>\n",
       "      <th>2018-10-31 23:52:19</th>\n",
       "      <td>noaa-goes16/ABI-L2-CODC/2018/304/23/OR_ABI-L2-...</td>\n",
       "      <td>/nfs/stu3data2/Satellite_data/goes/16/ABI_L2_C...</td>\n",
       "      <td>/nfs/stu3data2/Satellite_data/goes/16/ABI_L2_C...</td>\n",
       "    </tr>\n",
       "    <tr>\n",
       "      <th>2018-10-31 23:57:19</th>\n",
       "      <td>noaa-goes16/ABI-L2-CODC/2018/304/23/OR_ABI-L2-...</td>\n",
       "      <td>/nfs/stu3data2/Satellite_data/goes/16/ABI_L2_C...</td>\n",
       "      <td>/nfs/stu3data2/Satellite_data/goes/16/ABI_L2_C...</td>\n",
       "    </tr>\n",
       "  </tbody>\n",
       "</table>\n",
       "<p>23038 rows × 3 columns</p>\n",
       "</div>"
      ],
      "text/plain": [
       "                                                         path2file_aws  \\\n",
       "2018-08-12 16:27:28  noaa-goes16/ABI-L2-CODC/2018/224/16/OR_ABI-L2-...   \n",
       "2018-08-12 16:32:28  noaa-goes16/ABI-L2-CODC/2018/224/16/OR_ABI-L2-...   \n",
       "2018-08-12 16:37:28  noaa-goes16/ABI-L2-CODC/2018/224/16/OR_ABI-L2-...   \n",
       "2018-08-12 16:42:28  noaa-goes16/ABI-L2-CODC/2018/224/16/OR_ABI-L2-...   \n",
       "2018-08-12 16:47:28  noaa-goes16/ABI-L2-CODC/2018/224/16/OR_ABI-L2-...   \n",
       "...                                                                ...   \n",
       "2018-10-31 23:37:19  noaa-goes16/ABI-L2-CODC/2018/304/23/OR_ABI-L2-...   \n",
       "2018-10-31 23:42:19  noaa-goes16/ABI-L2-CODC/2018/304/23/OR_ABI-L2-...   \n",
       "2018-10-31 23:47:19  noaa-goes16/ABI-L2-CODC/2018/304/23/OR_ABI-L2-...   \n",
       "2018-10-31 23:52:19  noaa-goes16/ABI-L2-CODC/2018/304/23/OR_ABI-L2-...   \n",
       "2018-10-31 23:57:19  noaa-goes16/ABI-L2-CODC/2018/304/23/OR_ABI-L2-...   \n",
       "\n",
       "                                                       path2file_local  \\\n",
       "2018-08-12 16:27:28  /nfs/stu3data2/Satellite_data/goes/16/ABI_L2_C...   \n",
       "2018-08-12 16:32:28  /nfs/stu3data2/Satellite_data/goes/16/ABI_L2_C...   \n",
       "2018-08-12 16:37:28  /nfs/stu3data2/Satellite_data/goes/16/ABI_L2_C...   \n",
       "2018-08-12 16:42:28  /nfs/stu3data2/Satellite_data/goes/16/ABI_L2_C...   \n",
       "2018-08-12 16:47:28  /nfs/stu3data2/Satellite_data/goes/16/ABI_L2_C...   \n",
       "...                                                                ...   \n",
       "2018-10-31 23:37:19  /nfs/stu3data2/Satellite_data/goes/16/ABI_L2_C...   \n",
       "2018-10-31 23:42:19  /nfs/stu3data2/Satellite_data/goes/16/ABI_L2_C...   \n",
       "2018-10-31 23:47:19  /nfs/stu3data2/Satellite_data/goes/16/ABI_L2_C...   \n",
       "2018-10-31 23:52:19  /nfs/stu3data2/Satellite_data/goes/16/ABI_L2_C...   \n",
       "2018-10-31 23:57:19  /nfs/stu3data2/Satellite_data/goes/16/ABI_L2_C...   \n",
       "\n",
       "                                             path2file_local_processed  \n",
       "2018-08-12 16:27:28  /nfs/stu3data2/Satellite_data/goes/16/ABI_L2_C...  \n",
       "2018-08-12 16:32:28  /nfs/stu3data2/Satellite_data/goes/16/ABI_L2_C...  \n",
       "2018-08-12 16:37:28  /nfs/stu3data2/Satellite_data/goes/16/ABI_L2_C...  \n",
       "2018-08-12 16:42:28  /nfs/stu3data2/Satellite_data/goes/16/ABI_L2_C...  \n",
       "2018-08-12 16:47:28  /nfs/stu3data2/Satellite_data/goes/16/ABI_L2_C...  \n",
       "...                                                                ...  \n",
       "2018-10-31 23:37:19  /nfs/stu3data2/Satellite_data/goes/16/ABI_L2_C...  \n",
       "2018-10-31 23:42:19  /nfs/stu3data2/Satellite_data/goes/16/ABI_L2_C...  \n",
       "2018-10-31 23:47:19  /nfs/stu3data2/Satellite_data/goes/16/ABI_L2_C...  \n",
       "2018-10-31 23:52:19  /nfs/stu3data2/Satellite_data/goes/16/ABI_L2_C...  \n",
       "2018-10-31 23:57:19  /nfs/stu3data2/Satellite_data/goes/16/ABI_L2_C...  \n",
       "\n",
       "[23038 rows x 3 columns]"
      ]
     },
     "execution_count": 9,
     "metadata": {},
     "output_type": "execute_result"
    }
   ],
   "source": [
    "query.workplan"
   ]
  },
  {
   "cell_type": "code",
   "execution_count": null,
   "id": "8df212a7-8f43-4a58-94f6-12309fe00772",
   "metadata": {},
   "outputs": [],
   "source": [
    "query.process(raise_exception=True)"
   ]
  },
  {
   "cell_type": "code",
   "execution_count": null,
   "id": "cf969853-d18b-480d-a815-c5c87cfb8cf4",
   "metadata": {},
   "outputs": [],
   "source": [
    "ds = xr.open_dataset(query.workplan.path2file_local_processed.iloc[0])"
   ]
  },
  {
   "cell_type": "code",
   "execution_count": null,
   "id": "16588e32-8e5a-4fd0-9ae9-ecdfec2f05a1",
   "metadata": {},
   "outputs": [],
   "source": [
    "ds"
   ]
  },
  {
   "cell_type": "code",
   "execution_count": null,
   "id": "41cd622c-d888-47f8-a38b-7aebf8a4813d",
   "metadata": {},
   "outputs": [],
   "source": []
  },
  {
   "cell_type": "code",
   "execution_count": null,
   "id": "2b08afee-a5c3-42ce-9701-6ed4cc3096a6",
   "metadata": {},
   "outputs": [],
   "source": []
  },
  {
   "cell_type": "code",
   "execution_count": 28,
   "id": "cb9dcd7e-2b95-442f-8bee-ccdc4de079ad",
   "metadata": {},
   "outputs": [
    {
     "data": {
      "text/html": [
       "<div><svg style=\"position: absolute; width: 0; height: 0; overflow: hidden\">\n",
       "<defs>\n",
       "<symbol id=\"icon-database\" viewBox=\"0 0 32 32\">\n",
       "<path d=\"M16 0c-8.837 0-16 2.239-16 5v4c0 2.761 7.163 5 16 5s16-2.239 16-5v-4c0-2.761-7.163-5-16-5z\"></path>\n",
       "<path d=\"M16 17c-8.837 0-16-2.239-16-5v6c0 2.761 7.163 5 16 5s16-2.239 16-5v-6c0 2.761-7.163 5-16 5z\"></path>\n",
       "<path d=\"M16 26c-8.837 0-16-2.239-16-5v6c0 2.761 7.163 5 16 5s16-2.239 16-5v-6c0 2.761-7.163 5-16 5z\"></path>\n",
       "</symbol>\n",
       "<symbol id=\"icon-file-text2\" viewBox=\"0 0 32 32\">\n",
       "<path d=\"M28.681 7.159c-0.694-0.947-1.662-2.053-2.724-3.116s-2.169-2.030-3.116-2.724c-1.612-1.182-2.393-1.319-2.841-1.319h-15.5c-1.378 0-2.5 1.121-2.5 2.5v27c0 1.378 1.122 2.5 2.5 2.5h23c1.378 0 2.5-1.122 2.5-2.5v-19.5c0-0.448-0.137-1.23-1.319-2.841zM24.543 5.457c0.959 0.959 1.712 1.825 2.268 2.543h-4.811v-4.811c0.718 0.556 1.584 1.309 2.543 2.268zM28 29.5c0 0.271-0.229 0.5-0.5 0.5h-23c-0.271 0-0.5-0.229-0.5-0.5v-27c0-0.271 0.229-0.5 0.5-0.5 0 0 15.499-0 15.5 0v7c0 0.552 0.448 1 1 1h7v19.5z\"></path>\n",
       "<path d=\"M23 26h-14c-0.552 0-1-0.448-1-1s0.448-1 1-1h14c0.552 0 1 0.448 1 1s-0.448 1-1 1z\"></path>\n",
       "<path d=\"M23 22h-14c-0.552 0-1-0.448-1-1s0.448-1 1-1h14c0.552 0 1 0.448 1 1s-0.448 1-1 1z\"></path>\n",
       "<path d=\"M23 18h-14c-0.552 0-1-0.448-1-1s0.448-1 1-1h14c0.552 0 1 0.448 1 1s-0.448 1-1 1z\"></path>\n",
       "</symbol>\n",
       "</defs>\n",
       "</svg>\n",
       "<style>/* CSS stylesheet for displaying xarray objects in jupyterlab.\n",
       " *\n",
       " */\n",
       "\n",
       ":root {\n",
       "  --xr-font-color0: var(--jp-content-font-color0, rgba(0, 0, 0, 1));\n",
       "  --xr-font-color2: var(--jp-content-font-color2, rgba(0, 0, 0, 0.54));\n",
       "  --xr-font-color3: var(--jp-content-font-color3, rgba(0, 0, 0, 0.38));\n",
       "  --xr-border-color: var(--jp-border-color2, #e0e0e0);\n",
       "  --xr-disabled-color: var(--jp-layout-color3, #bdbdbd);\n",
       "  --xr-background-color: var(--jp-layout-color0, white);\n",
       "  --xr-background-color-row-even: var(--jp-layout-color1, white);\n",
       "  --xr-background-color-row-odd: var(--jp-layout-color2, #eeeeee);\n",
       "}\n",
       "\n",
       "html[theme=dark],\n",
       "body.vscode-dark {\n",
       "  --xr-font-color0: rgba(255, 255, 255, 1);\n",
       "  --xr-font-color2: rgba(255, 255, 255, 0.54);\n",
       "  --xr-font-color3: rgba(255, 255, 255, 0.38);\n",
       "  --xr-border-color: #1F1F1F;\n",
       "  --xr-disabled-color: #515151;\n",
       "  --xr-background-color: #111111;\n",
       "  --xr-background-color-row-even: #111111;\n",
       "  --xr-background-color-row-odd: #313131;\n",
       "}\n",
       "\n",
       ".xr-wrap {\n",
       "  display: block !important;\n",
       "  min-width: 300px;\n",
       "  max-width: 700px;\n",
       "}\n",
       "\n",
       ".xr-text-repr-fallback {\n",
       "  /* fallback to plain text repr when CSS is not injected (untrusted notebook) */\n",
       "  display: none;\n",
       "}\n",
       "\n",
       ".xr-header {\n",
       "  padding-top: 6px;\n",
       "  padding-bottom: 6px;\n",
       "  margin-bottom: 4px;\n",
       "  border-bottom: solid 1px var(--xr-border-color);\n",
       "}\n",
       "\n",
       ".xr-header > div,\n",
       ".xr-header > ul {\n",
       "  display: inline;\n",
       "  margin-top: 0;\n",
       "  margin-bottom: 0;\n",
       "}\n",
       "\n",
       ".xr-obj-type,\n",
       ".xr-array-name {\n",
       "  margin-left: 2px;\n",
       "  margin-right: 10px;\n",
       "}\n",
       "\n",
       ".xr-obj-type {\n",
       "  color: var(--xr-font-color2);\n",
       "}\n",
       "\n",
       ".xr-sections {\n",
       "  padding-left: 0 !important;\n",
       "  display: grid;\n",
       "  grid-template-columns: 150px auto auto 1fr 20px 20px;\n",
       "}\n",
       "\n",
       ".xr-section-item {\n",
       "  display: contents;\n",
       "}\n",
       "\n",
       ".xr-section-item input {\n",
       "  display: none;\n",
       "}\n",
       "\n",
       ".xr-section-item input + label {\n",
       "  color: var(--xr-disabled-color);\n",
       "}\n",
       "\n",
       ".xr-section-item input:enabled + label {\n",
       "  cursor: pointer;\n",
       "  color: var(--xr-font-color2);\n",
       "}\n",
       "\n",
       ".xr-section-item input:enabled + label:hover {\n",
       "  color: var(--xr-font-color0);\n",
       "}\n",
       "\n",
       ".xr-section-summary {\n",
       "  grid-column: 1;\n",
       "  color: var(--xr-font-color2);\n",
       "  font-weight: 500;\n",
       "}\n",
       "\n",
       ".xr-section-summary > span {\n",
       "  display: inline-block;\n",
       "  padding-left: 0.5em;\n",
       "}\n",
       "\n",
       ".xr-section-summary-in:disabled + label {\n",
       "  color: var(--xr-font-color2);\n",
       "}\n",
       "\n",
       ".xr-section-summary-in + label:before {\n",
       "  display: inline-block;\n",
       "  content: '►';\n",
       "  font-size: 11px;\n",
       "  width: 15px;\n",
       "  text-align: center;\n",
       "}\n",
       "\n",
       ".xr-section-summary-in:disabled + label:before {\n",
       "  color: var(--xr-disabled-color);\n",
       "}\n",
       "\n",
       ".xr-section-summary-in:checked + label:before {\n",
       "  content: '▼';\n",
       "}\n",
       "\n",
       ".xr-section-summary-in:checked + label > span {\n",
       "  display: none;\n",
       "}\n",
       "\n",
       ".xr-section-summary,\n",
       ".xr-section-inline-details {\n",
       "  padding-top: 4px;\n",
       "  padding-bottom: 4px;\n",
       "}\n",
       "\n",
       ".xr-section-inline-details {\n",
       "  grid-column: 2 / -1;\n",
       "}\n",
       "\n",
       ".xr-section-details {\n",
       "  display: none;\n",
       "  grid-column: 1 / -1;\n",
       "  margin-bottom: 5px;\n",
       "}\n",
       "\n",
       ".xr-section-summary-in:checked ~ .xr-section-details {\n",
       "  display: contents;\n",
       "}\n",
       "\n",
       ".xr-array-wrap {\n",
       "  grid-column: 1 / -1;\n",
       "  display: grid;\n",
       "  grid-template-columns: 20px auto;\n",
       "}\n",
       "\n",
       ".xr-array-wrap > label {\n",
       "  grid-column: 1;\n",
       "  vertical-align: top;\n",
       "}\n",
       "\n",
       ".xr-preview {\n",
       "  color: var(--xr-font-color3);\n",
       "}\n",
       "\n",
       ".xr-array-preview,\n",
       ".xr-array-data {\n",
       "  padding: 0 5px !important;\n",
       "  grid-column: 2;\n",
       "}\n",
       "\n",
       ".xr-array-data,\n",
       ".xr-array-in:checked ~ .xr-array-preview {\n",
       "  display: none;\n",
       "}\n",
       "\n",
       ".xr-array-in:checked ~ .xr-array-data,\n",
       ".xr-array-preview {\n",
       "  display: inline-block;\n",
       "}\n",
       "\n",
       ".xr-dim-list {\n",
       "  display: inline-block !important;\n",
       "  list-style: none;\n",
       "  padding: 0 !important;\n",
       "  margin: 0;\n",
       "}\n",
       "\n",
       ".xr-dim-list li {\n",
       "  display: inline-block;\n",
       "  padding: 0;\n",
       "  margin: 0;\n",
       "}\n",
       "\n",
       ".xr-dim-list:before {\n",
       "  content: '(';\n",
       "}\n",
       "\n",
       ".xr-dim-list:after {\n",
       "  content: ')';\n",
       "}\n",
       "\n",
       ".xr-dim-list li:not(:last-child):after {\n",
       "  content: ',';\n",
       "  padding-right: 5px;\n",
       "}\n",
       "\n",
       ".xr-has-index {\n",
       "  font-weight: bold;\n",
       "}\n",
       "\n",
       ".xr-var-list,\n",
       ".xr-var-item {\n",
       "  display: contents;\n",
       "}\n",
       "\n",
       ".xr-var-item > div,\n",
       ".xr-var-item label,\n",
       ".xr-var-item > .xr-var-name span {\n",
       "  background-color: var(--xr-background-color-row-even);\n",
       "  margin-bottom: 0;\n",
       "}\n",
       "\n",
       ".xr-var-item > .xr-var-name:hover span {\n",
       "  padding-right: 5px;\n",
       "}\n",
       "\n",
       ".xr-var-list > li:nth-child(odd) > div,\n",
       ".xr-var-list > li:nth-child(odd) > label,\n",
       ".xr-var-list > li:nth-child(odd) > .xr-var-name span {\n",
       "  background-color: var(--xr-background-color-row-odd);\n",
       "}\n",
       "\n",
       ".xr-var-name {\n",
       "  grid-column: 1;\n",
       "}\n",
       "\n",
       ".xr-var-dims {\n",
       "  grid-column: 2;\n",
       "}\n",
       "\n",
       ".xr-var-dtype {\n",
       "  grid-column: 3;\n",
       "  text-align: right;\n",
       "  color: var(--xr-font-color2);\n",
       "}\n",
       "\n",
       ".xr-var-preview {\n",
       "  grid-column: 4;\n",
       "}\n",
       "\n",
       ".xr-var-name,\n",
       ".xr-var-dims,\n",
       ".xr-var-dtype,\n",
       ".xr-preview,\n",
       ".xr-attrs dt {\n",
       "  white-space: nowrap;\n",
       "  overflow: hidden;\n",
       "  text-overflow: ellipsis;\n",
       "  padding-right: 10px;\n",
       "}\n",
       "\n",
       ".xr-var-name:hover,\n",
       ".xr-var-dims:hover,\n",
       ".xr-var-dtype:hover,\n",
       ".xr-attrs dt:hover {\n",
       "  overflow: visible;\n",
       "  width: auto;\n",
       "  z-index: 1;\n",
       "}\n",
       "\n",
       ".xr-var-attrs,\n",
       ".xr-var-data {\n",
       "  display: none;\n",
       "  background-color: var(--xr-background-color) !important;\n",
       "  padding-bottom: 5px !important;\n",
       "}\n",
       "\n",
       ".xr-var-attrs-in:checked ~ .xr-var-attrs,\n",
       ".xr-var-data-in:checked ~ .xr-var-data {\n",
       "  display: block;\n",
       "}\n",
       "\n",
       ".xr-var-data > table {\n",
       "  float: right;\n",
       "}\n",
       "\n",
       ".xr-var-name span,\n",
       ".xr-var-data,\n",
       ".xr-attrs {\n",
       "  padding-left: 25px !important;\n",
       "}\n",
       "\n",
       ".xr-attrs,\n",
       ".xr-var-attrs,\n",
       ".xr-var-data {\n",
       "  grid-column: 1 / -1;\n",
       "}\n",
       "\n",
       "dl.xr-attrs {\n",
       "  padding: 0;\n",
       "  margin: 0;\n",
       "  display: grid;\n",
       "  grid-template-columns: 125px auto;\n",
       "}\n",
       "\n",
       ".xr-attrs dt,\n",
       ".xr-attrs dd {\n",
       "  padding: 0;\n",
       "  margin: 0;\n",
       "  float: left;\n",
       "  padding-right: 10px;\n",
       "  width: auto;\n",
       "}\n",
       "\n",
       ".xr-attrs dt {\n",
       "  font-weight: normal;\n",
       "  grid-column: 1;\n",
       "}\n",
       "\n",
       ".xr-attrs dt:hover span {\n",
       "  display: inline-block;\n",
       "  background: var(--xr-background-color);\n",
       "  padding-right: 10px;\n",
       "}\n",
       "\n",
       ".xr-attrs dd {\n",
       "  grid-column: 2;\n",
       "  white-space: pre-wrap;\n",
       "  word-break: break-all;\n",
       "}\n",
       "\n",
       ".xr-icon-database,\n",
       ".xr-icon-file-text2 {\n",
       "  display: inline-block;\n",
       "  vertical-align: middle;\n",
       "  width: 1em;\n",
       "  height: 1.5em !important;\n",
       "  stroke-width: 0;\n",
       "  stroke: currentColor;\n",
       "  fill: currentColor;\n",
       "}\n",
       "</style><pre class='xr-text-repr-fallback'>&lt;xarray.Dataset&gt;\n",
       "Dimensions:                     (datetime: 1)\n",
       "Coordinates:\n",
       "  * datetime                    (datetime) datetime64[ns] 2020-03-01T18:02:32...\n",
       "    radius                      int64 5\n",
       "    stats                       &lt;U4 &#x27;mean&#x27;\n",
       "    site                        &lt;U3 &#x27;TBL&#x27;\n",
       "    data_quality                &lt;U4 &#x27;high&#x27;\n",
       "Data variables:\n",
       "    COD                         (datetime) float32 nan\n",
       "    num_of_valid_points         (datetime) int64 9\n",
       "    COD_on_pixel                (datetime) float32 25.51\n",
       "    DQF_on_pixel                (datetime) int64 2\n",
       "    argmin_x                    (datetime) float32 373.0\n",
       "    argmin_y                    (datetime) float32 660.0\n",
       "    lon_gritpoint               (datetime) float32 -105.2\n",
       "    lat_gridpoint               (datetime) float32 40.12\n",
       "    lon_station                 (datetime) float32 -105.2\n",
       "    lat_station                 (datetime) float32 40.12\n",
       "    distance_station_gridpoint  (datetime) float32 0.9249\n",
       "Attributes:\n",
       "    info:     This file contains a projection of satellite data onto SURFRAD ...</pre><div class='xr-wrap' style='display:none'><div class='xr-header'><div class='xr-obj-type'>xarray.Dataset</div></div><ul class='xr-sections'><li class='xr-section-item'><input id='section-8b85d27d-cf24-40e5-b826-a27e86967485' class='xr-section-summary-in' type='checkbox' disabled ><label for='section-8b85d27d-cf24-40e5-b826-a27e86967485' class='xr-section-summary'  title='Expand/collapse section'>Dimensions:</label><div class='xr-section-inline-details'><ul class='xr-dim-list'><li><span class='xr-has-index'>datetime</span>: 1</li></ul></div><div class='xr-section-details'></div></li><li class='xr-section-item'><input id='section-1099be51-7380-41d7-bd7d-56ce3df09b30' class='xr-section-summary-in' type='checkbox'  checked><label for='section-1099be51-7380-41d7-bd7d-56ce3df09b30' class='xr-section-summary' >Coordinates: <span>(5)</span></label><div class='xr-section-inline-details'></div><div class='xr-section-details'><ul class='xr-var-list'><li class='xr-var-item'><div class='xr-var-name'><span class='xr-has-index'>datetime</span></div><div class='xr-var-dims'>(datetime)</div><div class='xr-var-dtype'>datetime64[ns]</div><div class='xr-var-preview xr-preview'>2020-03-01T18:02:32.849999872</div><input id='attrs-78705b38-7661-4a09-bf75-174cfbe5553a' class='xr-var-attrs-in' type='checkbox' disabled><label for='attrs-78705b38-7661-4a09-bf75-174cfbe5553a' title='Show/Hide attributes'><svg class='icon xr-icon-file-text2'><use xlink:href='#icon-file-text2'></use></svg></label><input id='data-eef5ea95-ffb2-4c19-a1c5-0eebbd90840b' class='xr-var-data-in' type='checkbox'><label for='data-eef5ea95-ffb2-4c19-a1c5-0eebbd90840b' title='Show/Hide data repr'><svg class='icon xr-icon-database'><use xlink:href='#icon-database'></use></svg></label><div class='xr-var-attrs'><dl class='xr-attrs'></dl></div><div class='xr-var-data'><pre>array([&#x27;2020-03-01T18:02:32.849999872&#x27;], dtype=&#x27;datetime64[ns]&#x27;)</pre></div></li><li class='xr-var-item'><div class='xr-var-name'><span>radius</span></div><div class='xr-var-dims'>()</div><div class='xr-var-dtype'>int64</div><div class='xr-var-preview xr-preview'>5</div><input id='attrs-09b87fc3-5f85-40ff-8818-f99c328666f9' class='xr-var-attrs-in' type='checkbox' ><label for='attrs-09b87fc3-5f85-40ff-8818-f99c328666f9' title='Show/Hide attributes'><svg class='icon xr-icon-file-text2'><use xlink:href='#icon-file-text2'></use></svg></label><input id='data-24b4123b-5fd1-4522-87b7-d532d7451f9e' class='xr-var-data-in' type='checkbox'><label for='data-24b4123b-5fd1-4522-87b7-d532d7451f9e' title='Show/Hide data repr'><svg class='icon xr-icon-database'><use xlink:href='#icon-database'></use></svg></label><div class='xr-var-attrs'><dl class='xr-attrs'><dt><span>long_name :</span></dt><dd>Radius of area around point over which data statistics are calsulated</dd></dl></div><div class='xr-var-data'><pre>array(5)</pre></div></li><li class='xr-var-item'><div class='xr-var-name'><span>stats</span></div><div class='xr-var-dims'>()</div><div class='xr-var-dtype'>&lt;U4</div><div class='xr-var-preview xr-preview'>&#x27;mean&#x27;</div><input id='attrs-c7adf461-26aa-4edb-a4bd-6d930c7f20ef' class='xr-var-attrs-in' type='checkbox' ><label for='attrs-c7adf461-26aa-4edb-a4bd-6d930c7f20ef' title='Show/Hide attributes'><svg class='icon xr-icon-file-text2'><use xlink:href='#icon-file-text2'></use></svg></label><input id='data-3ca456fc-4bb7-458f-8f8a-eaaa689fa66f' class='xr-var-data-in' type='checkbox'><label for='data-3ca456fc-4bb7-458f-8f8a-eaaa689fa66f' title='Show/Hide data repr'><svg class='icon xr-icon-database'><use xlink:href='#icon-database'></use></svg></label><div class='xr-var-attrs'><dl class='xr-attrs'><dt><span>long_name :</span></dt><dd>Statistics of values in circlular area around site</dd></dl></div><div class='xr-var-data'><pre>array(&#x27;mean&#x27;, dtype=&#x27;&lt;U4&#x27;)</pre></div></li><li class='xr-var-item'><div class='xr-var-name'><span>site</span></div><div class='xr-var-dims'>()</div><div class='xr-var-dtype'>&lt;U3</div><div class='xr-var-preview xr-preview'>&#x27;TBL&#x27;</div><input id='attrs-947b7b02-f666-44c2-86f2-77950a75f256' class='xr-var-attrs-in' type='checkbox' disabled><label for='attrs-947b7b02-f666-44c2-86f2-77950a75f256' title='Show/Hide attributes'><svg class='icon xr-icon-file-text2'><use xlink:href='#icon-file-text2'></use></svg></label><input id='data-3ca301c2-aad0-41cb-b734-235a2aaceade' class='xr-var-data-in' type='checkbox'><label for='data-3ca301c2-aad0-41cb-b734-235a2aaceade' title='Show/Hide data repr'><svg class='icon xr-icon-database'><use xlink:href='#icon-database'></use></svg></label><div class='xr-var-attrs'><dl class='xr-attrs'></dl></div><div class='xr-var-data'><pre>array(&#x27;TBL&#x27;, dtype=&#x27;&lt;U3&#x27;)</pre></div></li><li class='xr-var-item'><div class='xr-var-name'><span>data_quality</span></div><div class='xr-var-dims'>()</div><div class='xr-var-dtype'>&lt;U4</div><div class='xr-var-preview xr-preview'>&#x27;high&#x27;</div><input id='attrs-8c1f231c-a0f6-418f-a02b-4963a3d7f5b8' class='xr-var-attrs-in' type='checkbox' disabled><label for='attrs-8c1f231c-a0f6-418f-a02b-4963a3d7f5b8' title='Show/Hide attributes'><svg class='icon xr-icon-file-text2'><use xlink:href='#icon-file-text2'></use></svg></label><input id='data-c342852e-ed3c-435a-9a46-d97a033c1a60' class='xr-var-data-in' type='checkbox'><label for='data-c342852e-ed3c-435a-9a46-d97a033c1a60' title='Show/Hide data repr'><svg class='icon xr-icon-database'><use xlink:href='#icon-database'></use></svg></label><div class='xr-var-attrs'><dl class='xr-attrs'></dl></div><div class='xr-var-data'><pre>array(&#x27;high&#x27;, dtype=&#x27;&lt;U4&#x27;)</pre></div></li></ul></div></li><li class='xr-section-item'><input id='section-c1df51f7-e2af-4c98-af77-621357d5332e' class='xr-section-summary-in' type='checkbox'  checked><label for='section-c1df51f7-e2af-4c98-af77-621357d5332e' class='xr-section-summary' >Data variables: <span>(11)</span></label><div class='xr-section-inline-details'></div><div class='xr-section-details'><ul class='xr-var-list'><li class='xr-var-item'><div class='xr-var-name'><span>COD</span></div><div class='xr-var-dims'>(datetime)</div><div class='xr-var-dtype'>float32</div><div class='xr-var-preview xr-preview'>nan</div><input id='attrs-3c8bf0ba-65af-4ee6-b87b-de8b8ac28427' class='xr-var-attrs-in' type='checkbox' ><label for='attrs-3c8bf0ba-65af-4ee6-b87b-de8b8ac28427' title='Show/Hide attributes'><svg class='icon xr-icon-file-text2'><use xlink:href='#icon-file-text2'></use></svg></label><input id='data-bf471449-67a5-4695-99d6-3d509e232f4b' class='xr-var-data-in' type='checkbox'><label for='data-bf471449-67a5-4695-99d6-3d509e232f4b' title='Show/Hide data repr'><svg class='icon xr-icon-database'><use xlink:href='#icon-database'></use></svg></label><div class='xr-var-attrs'><dl class='xr-attrs'><dt><span>long_name :</span></dt><dd>ABI L2+ Cloud Optical Depth at 640 nm</dd><dt><span>standard_name :</span></dt><dd>atmosphere_optical_thickness_due_to_cloud</dd><dt><span>valid_range :</span></dt><dd>[ 0 -6]</dd><dt><span>units :</span></dt><dd>1</dd><dt><span>resolution :</span></dt><dd>y: 0.000056 rad x: 0.000056 rad</dd><dt><span>grid_mapping :</span></dt><dd>goes_imager_projection</dd><dt><span>cell_methods :</span></dt><dd>day_retrieval_local_zenith_angle: point (good or degraded quality pixel produced, day algorithm only) night_retrieval_local_zenith_angle: point (good or degraded quality pixel produced, night algorithm only) quantitative_local_zenith_angle: point (good quality pixel produced) day_solar_zenith_angle: point (good quality pixel produced) night_solar_zenith_angle: point (good quality pixel produced) twilight_solar_zenith_angle: point (degraded quality pixel produced) t: point area: point</dd><dt><span>ancillary_variables :</span></dt><dd>DQF</dd></dl></div><div class='xr-var-data'><pre>array([nan], dtype=float32)</pre></div></li><li class='xr-var-item'><div class='xr-var-name'><span>num_of_valid_points</span></div><div class='xr-var-dims'>(datetime)</div><div class='xr-var-dtype'>int64</div><div class='xr-var-preview xr-preview'>9</div><input id='attrs-28aec108-70da-4a5f-87ec-648b49f67ac6' class='xr-var-attrs-in' type='checkbox' ><label for='attrs-28aec108-70da-4a5f-87ec-648b49f67ac6' title='Show/Hide attributes'><svg class='icon xr-icon-file-text2'><use xlink:href='#icon-file-text2'></use></svg></label><input id='data-367c8f24-9c04-4561-872a-f251498dc9d3' class='xr-var-data-in' type='checkbox'><label for='data-367c8f24-9c04-4561-872a-f251498dc9d3' title='Show/Hide data repr'><svg class='icon xr-icon-database'><use xlink:href='#icon-database'></use></svg></label><div class='xr-var-attrs'><dl class='xr-attrs'><dt><span>long_name :</span></dt><dd>Number of valid data points used to calculating statistic.</dd></dl></div><div class='xr-var-data'><pre>array([9])</pre></div></li><li class='xr-var-item'><div class='xr-var-name'><span>COD_on_pixel</span></div><div class='xr-var-dims'>(datetime)</div><div class='xr-var-dtype'>float32</div><div class='xr-var-preview xr-preview'>25.51</div><input id='attrs-7ff4b64a-6c80-433f-b280-85e000952225' class='xr-var-attrs-in' type='checkbox' ><label for='attrs-7ff4b64a-6c80-433f-b280-85e000952225' title='Show/Hide attributes'><svg class='icon xr-icon-file-text2'><use xlink:href='#icon-file-text2'></use></svg></label><input id='data-bdc47250-2802-4c99-bc69-6aa68a65480a' class='xr-var-data-in' type='checkbox'><label for='data-bdc47250-2802-4c99-bc69-6aa68a65480a' title='Show/Hide data repr'><svg class='icon xr-icon-database'><use xlink:href='#icon-database'></use></svg></label><div class='xr-var-attrs'><dl class='xr-attrs'><dt><span>long_name :</span></dt><dd>ABI L2+ Cloud Optical Depth at 640 nm</dd><dt><span>standard_name :</span></dt><dd>atmosphere_optical_thickness_due_to_cloud</dd><dt><span>valid_range :</span></dt><dd>[ 0 -6]</dd><dt><span>units :</span></dt><dd>1</dd><dt><span>resolution :</span></dt><dd>y: 0.000056 rad x: 0.000056 rad</dd><dt><span>grid_mapping :</span></dt><dd>goes_imager_projection</dd><dt><span>cell_methods :</span></dt><dd>day_retrieval_local_zenith_angle: point (good or degraded quality pixel produced, day algorithm only) night_retrieval_local_zenith_angle: point (good or degraded quality pixel produced, night algorithm only) quantitative_local_zenith_angle: point (good quality pixel produced) day_solar_zenith_angle: point (good quality pixel produced) night_solar_zenith_angle: point (good quality pixel produced) twilight_solar_zenith_angle: point (degraded quality pixel produced) t: point area: point</dd><dt><span>ancillary_variables :</span></dt><dd>DQF</dd><dt><span>coordinates :</span></dt><dd>day_retrieval_local_zenith_angle night_retrieval_local_zenith_angle quantitative_local_zenith_angle day_solar_zenith_angle night_solar_zenith_angle twilight_solar_zenith_angle cod_product_wavelength t y x</dd></dl></div><div class='xr-var-data'><pre>array([25.50771], dtype=float32)</pre></div></li><li class='xr-var-item'><div class='xr-var-name'><span>DQF_on_pixel</span></div><div class='xr-var-dims'>(datetime)</div><div class='xr-var-dtype'>int64</div><div class='xr-var-preview xr-preview'>2</div><input id='attrs-66f84d40-a459-4de7-b27d-cae592fb14f3' class='xr-var-attrs-in' type='checkbox' ><label for='attrs-66f84d40-a459-4de7-b27d-cae592fb14f3' title='Show/Hide attributes'><svg class='icon xr-icon-file-text2'><use xlink:href='#icon-file-text2'></use></svg></label><input id='data-a8995270-bd93-4b2b-83f7-ebb9b28a0cf9' class='xr-var-data-in' type='checkbox'><label for='data-a8995270-bd93-4b2b-83f7-ebb9b28a0cf9' title='Show/Hide data repr'><svg class='icon xr-icon-database'><use xlink:href='#icon-database'></use></svg></label><div class='xr-var-attrs'><dl class='xr-attrs'><dt><span>long_name :</span></dt><dd>ABI L2+ Cloud Optical Depth at 640 nm data quality flags</dd><dt><span>standard_name :</span></dt><dd>status_flag</dd><dt><span>valid_range :</span></dt><dd>[ 0 16]</dd><dt><span>units :</span></dt><dd>1</dd><dt><span>grid_mapping :</span></dt><dd>goes_imager_projection</dd><dt><span>cell_methods :</span></dt><dd>day_retrieval_local_zenith_angle: point night_retrieval_local_zenith_angle: point quantitative_local_zenith_angle: point day_solar_zenith_angle: point night_solar_zenith_angle: point twilight_solar_zenith_angle: point t: point area: point</dd><dt><span>flag_masks :</span></dt><dd>[ 1  1 30 30 30 30 30 30 30 30 30]</dd><dt><span>flag_values :</span></dt><dd>[ 0  1  0  2  4  6  8 10 12 14 16]</dd><dt><span>flag_meanings :</span></dt><dd>day_algorithm_pixel_qf night_algorithm_pixel_qf good_quality_qf degraded_quality_due_to_snow_or_sea_ice_qf degraded_quality_due_to_twilight_qf invalid_due_to_clear_conditions_qf invalid_due_LZA_threshold_exceeded_qf degraded_due_to_LZA_threshold_exceeded_qf invalid_due_to_not_geolocated_qf invalid_due_to_missing_or_bad_input_data_qf degraded_due_to_nonconvergence_qf</dd><dt><span>number_of_qf_values :</span></dt><dd>11</dd><dt><span>percent_day_algorithm_pixel_qf :</span></dt><dd>1.0</dd><dt><span>percent_night_algorithm_pixel_qf :</span></dt><dd>0.0081019</dd><dt><span>percent_good_quality_qf :</span></dt><dd>0.5161987</dd><dt><span>percent_degraded_quality_due_to_snow_or_sea_ice_qf :</span></dt><dd>0.1028797</dd><dt><span>percent_degraded_quality_due_to_twilight_qf :</span></dt><dd>0.0002163</dd><dt><span>percent_invalid_due_to_clear_conditions_qf :</span></dt><dd>0.3152774</dd><dt><span>percent_invalid_due_LZA_threshold_exceeded_qf :</span></dt><dd>0.0543864</dd><dt><span>percent_degraded_due_to_LZA_threshold_exceeded_qf :</span></dt><dd>0.0</dd><dt><span>percent_invalid_due_to_not_geolocated_qf :</span></dt><dd>0.0127367</dd><dt><span>percent_invalid_due_to_missing_or_bad_input_data_qf :</span></dt><dd>0.009446</dd><dt><span>percent_degraded_due_to_nonconvergence_qf :</span></dt><dd>0.0096974</dd></dl></div><div class='xr-var-data'><pre>array([2])</pre></div></li><li class='xr-var-item'><div class='xr-var-name'><span>argmin_x</span></div><div class='xr-var-dims'>(datetime)</div><div class='xr-var-dtype'>float32</div><div class='xr-var-preview xr-preview'>373.0</div><input id='attrs-b4f60302-117f-4ee4-ab07-aedd835643be' class='xr-var-attrs-in' type='checkbox' disabled><label for='attrs-b4f60302-117f-4ee4-ab07-aedd835643be' title='Show/Hide attributes'><svg class='icon xr-icon-file-text2'><use xlink:href='#icon-file-text2'></use></svg></label><input id='data-4355df15-5614-40a3-9078-67095cd7083d' class='xr-var-data-in' type='checkbox'><label for='data-4355df15-5614-40a3-9078-67095cd7083d' title='Show/Hide data repr'><svg class='icon xr-icon-database'><use xlink:href='#icon-database'></use></svg></label><div class='xr-var-attrs'><dl class='xr-attrs'></dl></div><div class='xr-var-data'><pre>array([373.], dtype=float32)</pre></div></li><li class='xr-var-item'><div class='xr-var-name'><span>argmin_y</span></div><div class='xr-var-dims'>(datetime)</div><div class='xr-var-dtype'>float32</div><div class='xr-var-preview xr-preview'>660.0</div><input id='attrs-367416cd-4fb4-41b2-a29e-d918ba0eb5ca' class='xr-var-attrs-in' type='checkbox' disabled><label for='attrs-367416cd-4fb4-41b2-a29e-d918ba0eb5ca' title='Show/Hide attributes'><svg class='icon xr-icon-file-text2'><use xlink:href='#icon-file-text2'></use></svg></label><input id='data-609b53e4-a7a0-47b4-bb11-13ee351adc22' class='xr-var-data-in' type='checkbox'><label for='data-609b53e4-a7a0-47b4-bb11-13ee351adc22' title='Show/Hide data repr'><svg class='icon xr-icon-database'><use xlink:href='#icon-database'></use></svg></label><div class='xr-var-attrs'><dl class='xr-attrs'></dl></div><div class='xr-var-data'><pre>array([660.], dtype=float32)</pre></div></li><li class='xr-var-item'><div class='xr-var-name'><span>lon_gritpoint</span></div><div class='xr-var-dims'>(datetime)</div><div class='xr-var-dtype'>float32</div><div class='xr-var-preview xr-preview'>-105.2</div><input id='attrs-22532382-2cf2-4784-9497-0b40c5529e92' class='xr-var-attrs-in' type='checkbox' disabled><label for='attrs-22532382-2cf2-4784-9497-0b40c5529e92' title='Show/Hide attributes'><svg class='icon xr-icon-file-text2'><use xlink:href='#icon-file-text2'></use></svg></label><input id='data-73a244b1-1094-40c6-bc50-10ae2fcb530a' class='xr-var-data-in' type='checkbox'><label for='data-73a244b1-1094-40c6-bc50-10ae2fcb530a' title='Show/Hide data repr'><svg class='icon xr-icon-database'><use xlink:href='#icon-database'></use></svg></label><div class='xr-var-attrs'><dl class='xr-attrs'></dl></div><div class='xr-var-data'><pre>array([-105.244255], dtype=float32)</pre></div></li><li class='xr-var-item'><div class='xr-var-name'><span>lat_gridpoint</span></div><div class='xr-var-dims'>(datetime)</div><div class='xr-var-dtype'>float32</div><div class='xr-var-preview xr-preview'>40.12</div><input id='attrs-d7703327-3ac7-48d6-856b-e52826f077d7' class='xr-var-attrs-in' type='checkbox' disabled><label for='attrs-d7703327-3ac7-48d6-856b-e52826f077d7' title='Show/Hide attributes'><svg class='icon xr-icon-file-text2'><use xlink:href='#icon-file-text2'></use></svg></label><input id='data-d568f2f0-7d1b-454f-8d1c-a8cc0f83aa8b' class='xr-var-data-in' type='checkbox'><label for='data-d568f2f0-7d1b-454f-8d1c-a8cc0f83aa8b' title='Show/Hide data repr'><svg class='icon xr-icon-database'><use xlink:href='#icon-database'></use></svg></label><div class='xr-var-attrs'><dl class='xr-attrs'></dl></div><div class='xr-var-data'><pre>array([40.11892], dtype=float32)</pre></div></li><li class='xr-var-item'><div class='xr-var-name'><span>lon_station</span></div><div class='xr-var-dims'>(datetime)</div><div class='xr-var-dtype'>float32</div><div class='xr-var-preview xr-preview'>-105.2</div><input id='attrs-06bb3fb7-206b-44b2-9dfe-353de076c158' class='xr-var-attrs-in' type='checkbox' disabled><label for='attrs-06bb3fb7-206b-44b2-9dfe-353de076c158' title='Show/Hide attributes'><svg class='icon xr-icon-file-text2'><use xlink:href='#icon-file-text2'></use></svg></label><input id='data-875d36f7-7000-44b0-8191-9d590df7f3eb' class='xr-var-data-in' type='checkbox'><label for='data-875d36f7-7000-44b0-8191-9d590df7f3eb' title='Show/Hide data repr'><svg class='icon xr-icon-database'><use xlink:href='#icon-database'></use></svg></label><div class='xr-var-attrs'><dl class='xr-attrs'></dl></div><div class='xr-var-data'><pre>array([-105.2368], dtype=float32)</pre></div></li><li class='xr-var-item'><div class='xr-var-name'><span>lat_station</span></div><div class='xr-var-dims'>(datetime)</div><div class='xr-var-dtype'>float32</div><div class='xr-var-preview xr-preview'>40.12</div><input id='attrs-2ec4008e-3d88-4164-b5ff-9814ecd339b2' class='xr-var-attrs-in' type='checkbox' disabled><label for='attrs-2ec4008e-3d88-4164-b5ff-9814ecd339b2' title='Show/Hide attributes'><svg class='icon xr-icon-file-text2'><use xlink:href='#icon-file-text2'></use></svg></label><input id='data-439dee19-6ea0-4430-953e-897968d2c5a2' class='xr-var-data-in' type='checkbox'><label for='data-439dee19-6ea0-4430-953e-897968d2c5a2' title='Show/Hide data repr'><svg class='icon xr-icon-database'><use xlink:href='#icon-database'></use></svg></label><div class='xr-var-attrs'><dl class='xr-attrs'></dl></div><div class='xr-var-data'><pre>array([40.12498], dtype=float32)</pre></div></li><li class='xr-var-item'><div class='xr-var-name'><span>distance_station_gridpoint</span></div><div class='xr-var-dims'>(datetime)</div><div class='xr-var-dtype'>float32</div><div class='xr-var-preview xr-preview'>0.9249</div><input id='attrs-7fb43b10-4c47-450a-a2c8-6cce89841eb9' class='xr-var-attrs-in' type='checkbox' disabled><label for='attrs-7fb43b10-4c47-450a-a2c8-6cce89841eb9' title='Show/Hide attributes'><svg class='icon xr-icon-file-text2'><use xlink:href='#icon-file-text2'></use></svg></label><input id='data-2cac4d49-7312-4009-a0a1-33dc06f9bf70' class='xr-var-data-in' type='checkbox'><label for='data-2cac4d49-7312-4009-a0a1-33dc06f9bf70' title='Show/Hide data repr'><svg class='icon xr-icon-database'><use xlink:href='#icon-database'></use></svg></label><div class='xr-var-attrs'><dl class='xr-attrs'></dl></div><div class='xr-var-data'><pre>array([0.924905], dtype=float32)</pre></div></li></ul></div></li><li class='xr-section-item'><input id='section-325cf8a9-0d8c-4e68-b246-822d4723571a' class='xr-section-summary-in' type='checkbox'  checked><label for='section-325cf8a9-0d8c-4e68-b246-822d4723571a' class='xr-section-summary' >Attributes: <span>(1)</span></label><div class='xr-section-inline-details'></div><div class='xr-section-details'><dl class='xr-attrs'><dt><span>info :</span></dt><dd>This file contains a projection of satellite data onto SURFRAD sites.\n",
       "It includes the closest pixel data as well as the average over circular\n",
       "areas with various radii. Note, for the averaged data only data is\n",
       "considered with a qulity flag given by the prooduct class in the\n",
       "nesdis_gml_synergy package.</dd></dl></div></li></ul></div></div>"
      ],
      "text/plain": [
       "<xarray.Dataset>\n",
       "Dimensions:                     (datetime: 1)\n",
       "Coordinates:\n",
       "  * datetime                    (datetime) datetime64[ns] 2020-03-01T18:02:32...\n",
       "    radius                      int64 5\n",
       "    stats                       <U4 'mean'\n",
       "    site                        <U3 'TBL'\n",
       "    data_quality                <U4 'high'\n",
       "Data variables:\n",
       "    COD                         (datetime) float32 nan\n",
       "    num_of_valid_points         (datetime) int64 9\n",
       "    COD_on_pixel                (datetime) float32 25.51\n",
       "    DQF_on_pixel                (datetime) int64 2\n",
       "    argmin_x                    (datetime) float32 373.0\n",
       "    argmin_y                    (datetime) float32 660.0\n",
       "    lon_gritpoint               (datetime) float32 -105.2\n",
       "    lat_gridpoint               (datetime) float32 40.12\n",
       "    lon_station                 (datetime) float32 -105.2\n",
       "    lat_station                 (datetime) float32 40.12\n",
       "    distance_station_gridpoint  (datetime) float32 0.9249\n",
       "Attributes:\n",
       "    info:     This file contains a projection of satellite data onto SURFRAD ..."
      ]
     },
     "execution_count": 28,
     "metadata": {},
     "output_type": "execute_result"
    }
   ],
   "source": [
    "ds.sel(site = 'TBL', data_quality = 'high', radius = 5, stats = 'mean')"
   ]
  },
  {
   "cell_type": "code",
   "execution_count": null,
   "id": "e9247df3-991e-4cc1-be2a-b428ec1b88bf",
   "metadata": {},
   "outputs": [],
   "source": []
  },
  {
   "cell_type": "code",
   "execution_count": null,
   "id": "8150cb4e-a368-46c0-97e7-0f965e8ef81a",
   "metadata": {},
   "outputs": [],
   "source": []
  },
  {
   "cell_type": "code",
   "execution_count": null,
   "id": "da1fef0f-7f50-4f94-b258-3087957b89df",
   "metadata": {},
   "outputs": [],
   "source": []
  },
  {
   "cell_type": "code",
   "execution_count": null,
   "id": "f1433127-380d-477a-bcea-bf7f82e77eeb",
   "metadata": {},
   "outputs": [],
   "source": []
  },
  {
   "cell_type": "code",
   "execution_count": 22,
   "id": "be7b4a8a-b1b9-4960-8a2e-ad4bcc836a2a",
   "metadata": {},
   "outputs": [],
   "source": [
    "query.workplan.path2file_local_processed.iloc[0].unlink()"
   ]
  },
  {
   "cell_type": "markdown",
   "id": "2e23e59e-7f46-4817-82bd-ecb4d230fc06",
   "metadata": {},
   "source": [
    "# Concatenate"
   ]
  },
  {
   "cell_type": "code",
   "execution_count": null,
   "id": "054563a6-955e-4a45-8c7e-3317695d8dc6",
   "metadata": {},
   "outputs": [],
   "source": [
    "reload(ngs)"
   ]
  },
  {
   "cell_type": "code",
   "execution_count": null,
   "id": "fa5d88c3-52da-4b04-86ae-fb9c99c325d3",
   "metadata": {},
   "outputs": [],
   "source": [
    "adapt to COD\n",
    "cc = ngs.Concatonator(path2scraped_files='/nfs/stu3data2/Satellite_data/goes/16/ABI_L2_CTP_projected2surfrad/',\n",
    "                 path2concat_files ='/nfs/stu3data2/Satellite_data/goes/16/ABI_L2_CTP_projected2surfrad_concat/',\n",
    "                 datetime_format='ABI_L2_CTP_projected2surfrad_%Y%m%d_%H%M%S.nc',\n",
    "                 test = False,)"
   ]
  },
  {
   "cell_type": "code",
   "execution_count": null,
   "id": "8de3ce76-e21c-42bf-92d8-361d2929fb5a",
   "metadata": {},
   "outputs": [],
   "source": [
    "cc.workplan"
   ]
  },
  {
   "cell_type": "code",
   "execution_count": null,
   "id": "28a00376-b200-4869-be41-46061f560b7e",
   "metadata": {},
   "outputs": [],
   "source": [
    "ds=cc.concat_and_save(save=True, test=False, verbose=False)"
   ]
  },
  {
   "cell_type": "code",
   "execution_count": null,
   "id": "74449797-b744-4b1b-9187-07c429cf7196",
   "metadata": {},
   "outputs": [],
   "source": []
  },
  {
   "cell_type": "code",
   "execution_count": null,
   "id": "750d4793-cc13-449d-98f1-1b60101c3a94",
   "metadata": {},
   "outputs": [],
   "source": []
  }
 ],
 "metadata": {
  "kernelspec": {
   "display_name": "py38",
   "language": "python",
   "name": "py38"
  },
  "language_info": {
   "codemirror_mode": {
    "name": "ipython",
    "version": 3
   },
   "file_extension": ".py",
   "mimetype": "text/x-python",
   "name": "python",
   "nbconvert_exporter": "python",
   "pygments_lexer": "ipython3",
   "version": "3.8.12"
  }
 },
 "nbformat": 4,
 "nbformat_minor": 5
}
