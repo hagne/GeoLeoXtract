{
 "cells": [
  {
   "cell_type": "code",
   "execution_count": null,
   "id": "de1f8642-9326-4623-b99b-b8442e8b8a82",
   "metadata": {},
   "outputs": [],
   "source": []
  },
  {
   "cell_type": "code",
   "execution_count": null,
   "id": "327a83c2-3dd7-4516-9d95-e328e9018d27",
   "metadata": {},
   "outputs": [],
   "source": []
  },
  {
   "cell_type": "code",
   "execution_count": null,
   "id": "6031a94e-748c-4bb1-a9e4-b34c3387d4d6",
   "metadata": {},
   "outputs": [],
   "source": []
  },
  {
   "cell_type": "code",
   "execution_count": null,
   "id": "2cac50a2-0980-46e0-8ce9-6156a7b3add9",
   "metadata": {},
   "outputs": [],
   "source": []
  },
  {
   "cell_type": "markdown",
   "id": "f59c67b8-0169-483c-badc-99db65326f56",
   "metadata": {},
   "source": [
    "# Imports"
   ]
  },
  {
   "cell_type": "code",
   "execution_count": 2,
   "id": "abb8ffcf-4f16-470d-a5bf-5a62c1e6b293",
   "metadata": {
    "execution": {
     "iopub.execute_input": "2023-08-24T20:51:49.876725Z",
     "iopub.status.busy": "2023-08-24T20:51:49.875101Z",
     "iopub.status.idle": "2023-08-24T20:51:53.217958Z",
     "shell.execute_reply": "2023-08-24T20:51:53.217379Z",
     "shell.execute_reply.started": "2023-08-24T20:51:49.876661Z"
    }
   },
   "outputs": [
    {
     "data": {
      "text/plain": [
       "1031461"
      ]
     },
     "execution_count": 2,
     "metadata": {},
     "output_type": "execute_result"
    }
   ],
   "source": [
    "import pathlib as pl\n",
    "# import nesdis_aws\n",
    "import nesdis_gml_synergy.satlab as ngs\n",
    "import nesdis_gml_synergy.cloud_interface as ngsci\n",
    "import atmPy.data_archives.NOAA_ESRL_GMD_GRAD.surfrad.surfrad as surfrad\n",
    "import os\n",
    "os.getpid()"
   ]
  },
  {
   "cell_type": "code",
   "execution_count": 3,
   "id": "75d07f9f-c5c5-4a08-9d48-ca025280b76a",
   "metadata": {
    "execution": {
     "iopub.execute_input": "2023-08-24T20:51:53.219726Z",
     "iopub.status.busy": "2023-08-24T20:51:53.219346Z",
     "iopub.status.idle": "2023-08-24T20:51:53.224058Z",
     "shell.execute_reply": "2023-08-24T20:51:53.222787Z",
     "shell.execute_reply.started": "2023-08-24T20:51:53.219709Z"
    }
   },
   "outputs": [],
   "source": [
    "import warnings\n",
    "warnings.filterwarnings(\"ignore\")"
   ]
  },
  {
   "cell_type": "code",
   "execution_count": 4,
   "id": "78a5289a-a815-42d7-8fa2-22a42d6987fa",
   "metadata": {
    "execution": {
     "iopub.execute_input": "2023-08-24T20:51:53.226167Z",
     "iopub.status.busy": "2023-08-24T20:51:53.225636Z",
     "iopub.status.idle": "2023-08-24T20:51:53.252835Z",
     "shell.execute_reply": "2023-08-24T20:51:53.251740Z",
     "shell.execute_reply.started": "2023-08-24T20:51:53.226125Z"
    }
   },
   "outputs": [],
   "source": [
    "# warnings.filterwarnings(\"default\")"
   ]
  },
  {
   "cell_type": "code",
   "execution_count": 5,
   "id": "e2703542-f751-4ff9-ad81-5ff094b29f09",
   "metadata": {
    "execution": {
     "iopub.execute_input": "2023-08-24T20:51:53.256080Z",
     "iopub.status.busy": "2023-08-24T20:51:53.255562Z",
     "iopub.status.idle": "2023-08-24T20:51:53.288398Z",
     "shell.execute_reply": "2023-08-24T20:51:53.287491Z",
     "shell.execute_reply.started": "2023-08-24T20:51:53.256035Z"
    }
   },
   "outputs": [],
   "source": [
    "plt.rcParams['figure.dpi'] = 200"
   ]
  },
  {
   "cell_type": "markdown",
   "id": "88b67829-638c-45a8-90a6-847a1a041beb",
   "metadata": {},
   "source": [
    "# download some data"
   ]
  },
  {
   "cell_type": "code",
   "execution_count": 7,
   "id": "dfd0d4bf-6c58-4653-8789-1ee382d7cc33",
   "metadata": {
    "execution": {
     "iopub.execute_input": "2023-08-24T20:52:10.162962Z",
     "iopub.status.busy": "2023-08-24T20:52:10.162251Z",
     "iopub.status.idle": "2023-08-24T20:52:10.174614Z",
     "shell.execute_reply": "2023-08-24T20:52:10.172949Z",
     "shell.execute_reply.started": "2023-08-24T20:52:10.162911Z"
    }
   },
   "outputs": [
    {
     "data": {
      "text/plain": [
       "<module 'nesdis_gml_synergy.cloud_interface' from '/export/htelg/prog/nesdis_gml_synergy/nesdis_gml_synergy/cloud_interface.py'>"
      ]
     },
     "execution_count": 7,
     "metadata": {},
     "output_type": "execute_result"
    }
   ],
   "source": [
    "reload(ngsci)\n",
    "# reload()"
   ]
  },
  {
   "cell_type": "code",
   "execution_count": 24,
   "id": "d650b873-b413-4cd0-a277-b4a1c125e788",
   "metadata": {
    "execution": {
     "iopub.execute_input": "2023-08-24T21:16:47.881758Z",
     "iopub.status.busy": "2023-08-24T21:16:47.880855Z",
     "iopub.status.idle": "2023-08-24T21:16:47.898197Z",
     "shell.execute_reply": "2023-08-24T21:16:47.896457Z",
     "shell.execute_reply.started": "2023-08-24T21:16:47.881692Z"
    }
   },
   "outputs": [],
   "source": [
    "product = 'ACHA' #FDC\n",
    "# path2folder_local=f'/mnt/telg/data/nesdis/goes/ABI_L2_{product}/'\n",
    "path2folder_local=f'/export/htelg/tmp'\n",
    "# pl.Path(path2folder_local).mkdir()\n",
    "query = ngsci.AwsQuery(path2folder_local=path2folder_local,\n",
    "                        satellite='16',\n",
    "                        product=f'ABI-L2-{product}',\n",
    "                        scan_sector='C',\n",
    "                        # start='2020-09-30 18:00:00',\n",
    "                        # end='2020-09-30 19:35:00',\n",
    "                        start='2023-01-01 18:00:00',\n",
    "                        # end='2018-11-01 00:00:00',\n",
    "                        end='2023-01-01 18:05:00',\n",
    "                        verbose = True,\n",
    "                        overwrite = True,\n",
    "                           )\n"
   ]
  },
  {
   "cell_type": "code",
   "execution_count": 25,
   "id": "0c5ab362-b3d8-46ff-b24f-eea7d9eb4ff2",
   "metadata": {
    "execution": {
     "iopub.execute_input": "2023-08-24T21:16:48.392392Z",
     "iopub.status.busy": "2023-08-24T21:16:48.391092Z",
     "iopub.status.idle": "2023-08-24T21:16:50.907388Z",
     "shell.execute_reply": "2023-08-24T21:16:50.905976Z",
     "shell.execute_reply.started": "2023-08-24T21:16:48.392339Z"
    }
   },
   "outputs": [
    {
     "name": "stdout",
     "output_type": "stream",
     "text": [
      "Get workplan:\n",
      "workplan done\n"
     ]
    },
    {
     "data": {
      "text/html": [
       "<div>\n",
       "<style scoped>\n",
       "    .dataframe tbody tr th:only-of-type {\n",
       "        vertical-align: middle;\n",
       "    }\n",
       "\n",
       "    .dataframe tbody tr th {\n",
       "        vertical-align: top;\n",
       "    }\n",
       "\n",
       "    .dataframe thead th {\n",
       "        text-align: right;\n",
       "    }\n",
       "</style>\n",
       "<table border=\"1\" class=\"dataframe\">\n",
       "  <thead>\n",
       "    <tr style=\"text-align: right;\">\n",
       "      <th></th>\n",
       "      <th>path2file_aws</th>\n",
       "      <th>path2file_local</th>\n",
       "    </tr>\n",
       "  </thead>\n",
       "  <tbody>\n",
       "    <tr>\n",
       "      <th>2023-01-01 18:01:17</th>\n",
       "      <td>noaa-goes16/ABI-L2-ACHAC/2023/001/18/OR_ABI-L2...</td>\n",
       "      <td>/export/htelg/tmp/OR_ABI-L2-ACHAC-M6_G16_s2023...</td>\n",
       "    </tr>\n",
       "  </tbody>\n",
       "</table>\n",
       "</div>"
      ],
      "text/plain": [
       "                                                         path2file_aws  \\\n",
       "2023-01-01 18:01:17  noaa-goes16/ABI-L2-ACHAC/2023/001/18/OR_ABI-L2...   \n",
       "\n",
       "                                                       path2file_local  \n",
       "2023-01-01 18:01:17  /export/htelg/tmp/OR_ABI-L2-ACHAC-M6_G16_s2023...  "
      ]
     },
     "execution_count": 25,
     "metadata": {},
     "output_type": "execute_result"
    }
   ],
   "source": [
    "query.workplan"
   ]
  },
  {
   "cell_type": "code",
   "execution_count": 26,
   "id": "75c3baca-ffaa-4e0a-ac8d-ebcad9947caa",
   "metadata": {
    "execution": {
     "iopub.execute_input": "2023-08-24T21:16:52.212102Z",
     "iopub.status.busy": "2023-08-24T21:16:52.211476Z",
     "iopub.status.idle": "2023-08-24T21:16:52.222866Z",
     "shell.execute_reply": "2023-08-24T21:16:52.220749Z",
     "shell.execute_reply.started": "2023-08-24T21:16:52.212052Z"
    }
   },
   "outputs": [
    {
     "data": {
      "text/plain": [
       "PosixPath('/export/htelg/tmp/OR_ABI-L2-ACHAC-M6_G16_s20230011801174_e20230011803547_c20230011806315.nc')"
      ]
     },
     "execution_count": 26,
     "metadata": {},
     "output_type": "execute_result"
    }
   ],
   "source": [
    "query.workplan.path2file_local[0]"
   ]
  },
  {
   "cell_type": "code",
   "execution_count": 10,
   "id": "eab85974-4cc7-49a3-bf8f-8ba94494dd6b",
   "metadata": {
    "execution": {
     "iopub.execute_input": "2023-08-24T20:52:12.017292Z",
     "iopub.status.busy": "2023-08-24T20:52:12.016642Z",
     "iopub.status.idle": "2023-08-24T20:52:12.085507Z",
     "shell.execute_reply": "2023-08-24T20:52:12.083760Z",
     "shell.execute_reply.started": "2023-08-24T20:52:12.017245Z"
    }
   },
   "outputs": [
    {
     "name": "stdout",
     "output_type": "stream",
     "text": [
      "no of files: 1\n",
      "estimated disk usage: 0 mb\n",
      "remaining disk space after download: 50 %\n",
      "\n"
     ]
    }
   ],
   "source": [
    "print(query.info_on_current_query())"
   ]
  },
  {
   "cell_type": "code",
   "execution_count": 11,
   "id": "fe144f49-555d-41da-8e9c-6e8027f6e82d",
   "metadata": {
    "execution": {
     "iopub.execute_input": "2023-08-24T20:52:17.244292Z",
     "iopub.status.busy": "2023-08-24T20:52:17.243460Z",
     "iopub.status.idle": "2023-08-24T20:52:17.396642Z",
     "shell.execute_reply": "2023-08-24T20:52:17.395304Z",
     "shell.execute_reply.started": "2023-08-24T20:52:17.244239Z"
    }
   },
   "outputs": [
    {
     "data": {
      "text/plain": [
       "Timestamp('2019-12-03 00:00:00')"
      ]
     },
     "execution_count": 11,
     "metadata": {},
     "output_type": "execute_result"
    }
   ],
   "source": [
    "query.product_available_since"
   ]
  },
  {
   "cell_type": "code",
   "execution_count": 12,
   "id": "befde3d4-6dc9-42e9-a167-284435a00b92",
   "metadata": {
    "execution": {
     "iopub.execute_input": "2023-08-24T20:52:19.503939Z",
     "iopub.status.busy": "2023-08-24T20:52:19.503122Z",
     "iopub.status.idle": "2023-08-24T20:52:19.778892Z",
     "shell.execute_reply": "2023-08-24T20:52:19.777985Z",
     "shell.execute_reply.started": "2023-08-24T20:52:19.503869Z"
    }
   },
   "outputs": [
    {
     "ename": "UnboundLocalError",
     "evalue": "local variable 'out' referenced before assignment",
     "output_type": "error",
     "traceback": [
      "\u001b[0;31m---------------------------------------------------------------------------\u001b[0m",
      "\u001b[0;31mUnboundLocalError\u001b[0m                         Traceback (most recent call last)",
      "Cell \u001b[0;32mIn[12], line 1\u001b[0m\n\u001b[0;32m----> 1\u001b[0m \u001b[43mquery\u001b[49m\u001b[38;5;241;43m.\u001b[39;49m\u001b[43mdownload\u001b[49m\u001b[43m(\u001b[49m\u001b[43m)\u001b[49m\n",
      "File \u001b[0;32m/export/htelg/prog/nesdis_gml_synergy/nesdis_gml_synergy/cloud_interface.py:707\u001b[0m, in \u001b[0;36mAwsQuery.download\u001b[0;34m(self, test, overwrite, alternative_workplan, error_if_low_disk_space)\u001b[0m\n\u001b[1;32m    705\u001b[0m     \u001b[38;5;28;01mif\u001b[39;00m test:\n\u001b[1;32m    706\u001b[0m         \u001b[38;5;28;01mbreak\u001b[39;00m\n\u001b[0;32m--> 707\u001b[0m \u001b[38;5;28;01mreturn\u001b[39;00m \u001b[43mout\u001b[49m\n",
      "\u001b[0;31mUnboundLocalError\u001b[0m: local variable 'out' referenced before assignment"
     ]
    }
   ],
   "source": [
    "query.download()\n"
   ]
  },
  {
   "cell_type": "markdown",
   "id": "2ebe7c9a-42a1-4802-814a-ca09be05ef08",
   "metadata": {},
   "source": [
    "# open"
   ]
  },
  {
   "cell_type": "code",
   "execution_count": 14,
   "id": "3985f7d2-1591-4be4-9e57-484fceb6b8ee",
   "metadata": {
    "execution": {
     "iopub.execute_input": "2023-08-24T21:12:48.595558Z",
     "iopub.status.busy": "2023-08-24T21:12:48.594912Z",
     "iopub.status.idle": "2023-08-24T21:12:48.603074Z",
     "shell.execute_reply": "2023-08-24T21:12:48.601150Z",
     "shell.execute_reply.started": "2023-08-24T21:12:48.595510Z"
    }
   },
   "outputs": [],
   "source": [
    "import atmPy.data_archives.NOAA_ESRL_GMD_GRAD.surfrad.surfrad as surfrad\n",
    "stations = surfrad.network.stations"
   ]
  },
  {
   "cell_type": "code",
   "execution_count": 15,
   "id": "04f17c1d-4ee6-4051-90af-4a3b9332ac51",
   "metadata": {
    "execution": {
     "iopub.execute_input": "2023-08-24T21:12:49.010704Z",
     "iopub.status.busy": "2023-08-24T21:12:49.009198Z",
     "iopub.status.idle": "2023-08-24T21:12:49.022420Z",
     "shell.execute_reply": "2023-08-24T21:12:49.021130Z",
     "shell.execute_reply.started": "2023-08-24T21:12:49.010616Z"
    }
   },
   "outputs": [
    {
     "data": {
      "text/plain": [
       "<module 'nesdis_gml_synergy.satlab' from '/export/htelg/prog/nesdis_gml_synergy/nesdis_gml_synergy/satlab.py'>"
      ]
     },
     "execution_count": 15,
     "metadata": {},
     "output_type": "execute_result"
    }
   ],
   "source": [
    "reload(ngs)"
   ]
  },
  {
   "cell_type": "code",
   "execution_count": 16,
   "id": "84a59ed2-6022-4c46-8d27-b9248d0d7e4e",
   "metadata": {
    "execution": {
     "iopub.execute_input": "2023-08-24T21:12:49.440787Z",
     "iopub.status.busy": "2023-08-24T21:12:49.440114Z",
     "iopub.status.idle": "2023-08-24T21:12:49.447351Z",
     "shell.execute_reply": "2023-08-24T21:12:49.445702Z",
     "shell.execute_reply.started": "2023-08-24T21:12:49.440744Z"
    }
   },
   "outputs": [],
   "source": [
    "# sat_ds = ngs.open_file('/mnt/telg/data/nesdis/goes/ABI_L2_ADP/OR_ABI-L2-ADPC-M6_G16_s20211431801169_e20211431803542_c20211431804531.nc', verbose=True)"
   ]
  },
  {
   "cell_type": "code",
   "execution_count": 17,
   "id": "bbf558d4-6dae-4bb7-93cb-227209ff356b",
   "metadata": {
    "execution": {
     "iopub.execute_input": "2023-08-24T21:13:11.016962Z",
     "iopub.status.busy": "2023-08-24T21:13:11.016194Z",
     "iopub.status.idle": "2023-08-24T21:13:11.023270Z",
     "shell.execute_reply": "2023-08-24T21:13:11.021962Z",
     "shell.execute_reply.started": "2023-08-24T21:13:11.016912Z"
    }
   },
   "outputs": [],
   "source": [
    "fn = '/export/htelg/tmp/OR_ABI-L2-ACHAC-M6_G16_s20202141801156_e20202141803528_c20202141806053.nc'\n",
    "fn = query.workplan.path2file_local[0]"
   ]
  },
  {
   "cell_type": "code",
   "execution_count": 18,
   "id": "0c632e00-ce95-469d-b575-3c84ec122bac",
   "metadata": {
    "execution": {
     "iopub.execute_input": "2023-08-24T21:13:11.375248Z",
     "iopub.status.busy": "2023-08-24T21:13:11.374706Z",
     "iopub.status.idle": "2023-08-24T21:13:12.659321Z",
     "shell.execute_reply": "2023-08-24T21:13:12.658677Z",
     "shell.execute_reply.started": "2023-08-24T21:13:11.375203Z"
    }
   },
   "outputs": [],
   "source": [
    "ds= xr.open_dataset(fn)"
   ]
  },
  {
   "cell_type": "code",
   "execution_count": 19,
   "id": "1ad6d024-e07d-4cdc-8a0e-4e5f92503731",
   "metadata": {
    "execution": {
     "iopub.execute_input": "2023-08-24T21:13:12.997945Z",
     "iopub.status.busy": "2023-08-24T21:13:12.996593Z",
     "iopub.status.idle": "2023-08-24T21:13:13.038783Z",
     "shell.execute_reply": "2023-08-24T21:13:13.037152Z",
     "shell.execute_reply.started": "2023-08-24T21:13:12.997872Z"
    }
   },
   "outputs": [
    {
     "data": {
      "text/html": [
       "<div><svg style=\"position: absolute; width: 0; height: 0; overflow: hidden\">\n",
       "<defs>\n",
       "<symbol id=\"icon-database\" viewBox=\"0 0 32 32\">\n",
       "<path d=\"M16 0c-8.837 0-16 2.239-16 5v4c0 2.761 7.163 5 16 5s16-2.239 16-5v-4c0-2.761-7.163-5-16-5z\"></path>\n",
       "<path d=\"M16 17c-8.837 0-16-2.239-16-5v6c0 2.761 7.163 5 16 5s16-2.239 16-5v-6c0 2.761-7.163 5-16 5z\"></path>\n",
       "<path d=\"M16 26c-8.837 0-16-2.239-16-5v6c0 2.761 7.163 5 16 5s16-2.239 16-5v-6c0 2.761-7.163 5-16 5z\"></path>\n",
       "</symbol>\n",
       "<symbol id=\"icon-file-text2\" viewBox=\"0 0 32 32\">\n",
       "<path d=\"M28.681 7.159c-0.694-0.947-1.662-2.053-2.724-3.116s-2.169-2.030-3.116-2.724c-1.612-1.182-2.393-1.319-2.841-1.319h-15.5c-1.378 0-2.5 1.121-2.5 2.5v27c0 1.378 1.122 2.5 2.5 2.5h23c1.378 0 2.5-1.122 2.5-2.5v-19.5c0-0.448-0.137-1.23-1.319-2.841zM24.543 5.457c0.959 0.959 1.712 1.825 2.268 2.543h-4.811v-4.811c0.718 0.556 1.584 1.309 2.543 2.268zM28 29.5c0 0.271-0.229 0.5-0.5 0.5h-23c-0.271 0-0.5-0.229-0.5-0.5v-27c0-0.271 0.229-0.5 0.5-0.5 0 0 15.499-0 15.5 0v7c0 0.552 0.448 1 1 1h7v19.5z\"></path>\n",
       "<path d=\"M23 26h-14c-0.552 0-1-0.448-1-1s0.448-1 1-1h14c0.552 0 1 0.448 1 1s-0.448 1-1 1z\"></path>\n",
       "<path d=\"M23 22h-14c-0.552 0-1-0.448-1-1s0.448-1 1-1h14c0.552 0 1 0.448 1 1s-0.448 1-1 1z\"></path>\n",
       "<path d=\"M23 18h-14c-0.552 0-1-0.448-1-1s0.448-1 1-1h14c0.552 0 1 0.448 1 1s-0.448 1-1 1z\"></path>\n",
       "</symbol>\n",
       "</defs>\n",
       "</svg>\n",
       "<style>/* CSS stylesheet for displaying xarray objects in jupyterlab.\n",
       " *\n",
       " */\n",
       "\n",
       ":root {\n",
       "  --xr-font-color0: var(--jp-content-font-color0, rgba(0, 0, 0, 1));\n",
       "  --xr-font-color2: var(--jp-content-font-color2, rgba(0, 0, 0, 0.54));\n",
       "  --xr-font-color3: var(--jp-content-font-color3, rgba(0, 0, 0, 0.38));\n",
       "  --xr-border-color: var(--jp-border-color2, #e0e0e0);\n",
       "  --xr-disabled-color: var(--jp-layout-color3, #bdbdbd);\n",
       "  --xr-background-color: var(--jp-layout-color0, white);\n",
       "  --xr-background-color-row-even: var(--jp-layout-color1, white);\n",
       "  --xr-background-color-row-odd: var(--jp-layout-color2, #eeeeee);\n",
       "}\n",
       "\n",
       "html[theme=dark],\n",
       "body[data-theme=dark],\n",
       "body.vscode-dark {\n",
       "  --xr-font-color0: rgba(255, 255, 255, 1);\n",
       "  --xr-font-color2: rgba(255, 255, 255, 0.54);\n",
       "  --xr-font-color3: rgba(255, 255, 255, 0.38);\n",
       "  --xr-border-color: #1F1F1F;\n",
       "  --xr-disabled-color: #515151;\n",
       "  --xr-background-color: #111111;\n",
       "  --xr-background-color-row-even: #111111;\n",
       "  --xr-background-color-row-odd: #313131;\n",
       "}\n",
       "\n",
       ".xr-wrap {\n",
       "  display: block !important;\n",
       "  min-width: 300px;\n",
       "  max-width: 700px;\n",
       "}\n",
       "\n",
       ".xr-text-repr-fallback {\n",
       "  /* fallback to plain text repr when CSS is not injected (untrusted notebook) */\n",
       "  display: none;\n",
       "}\n",
       "\n",
       ".xr-header {\n",
       "  padding-top: 6px;\n",
       "  padding-bottom: 6px;\n",
       "  margin-bottom: 4px;\n",
       "  border-bottom: solid 1px var(--xr-border-color);\n",
       "}\n",
       "\n",
       ".xr-header > div,\n",
       ".xr-header > ul {\n",
       "  display: inline;\n",
       "  margin-top: 0;\n",
       "  margin-bottom: 0;\n",
       "}\n",
       "\n",
       ".xr-obj-type,\n",
       ".xr-array-name {\n",
       "  margin-left: 2px;\n",
       "  margin-right: 10px;\n",
       "}\n",
       "\n",
       ".xr-obj-type {\n",
       "  color: var(--xr-font-color2);\n",
       "}\n",
       "\n",
       ".xr-sections {\n",
       "  padding-left: 0 !important;\n",
       "  display: grid;\n",
       "  grid-template-columns: 150px auto auto 1fr 20px 20px;\n",
       "}\n",
       "\n",
       ".xr-section-item {\n",
       "  display: contents;\n",
       "}\n",
       "\n",
       ".xr-section-item input {\n",
       "  display: none;\n",
       "}\n",
       "\n",
       ".xr-section-item input + label {\n",
       "  color: var(--xr-disabled-color);\n",
       "}\n",
       "\n",
       ".xr-section-item input:enabled + label {\n",
       "  cursor: pointer;\n",
       "  color: var(--xr-font-color2);\n",
       "}\n",
       "\n",
       ".xr-section-item input:enabled + label:hover {\n",
       "  color: var(--xr-font-color0);\n",
       "}\n",
       "\n",
       ".xr-section-summary {\n",
       "  grid-column: 1;\n",
       "  color: var(--xr-font-color2);\n",
       "  font-weight: 500;\n",
       "}\n",
       "\n",
       ".xr-section-summary > span {\n",
       "  display: inline-block;\n",
       "  padding-left: 0.5em;\n",
       "}\n",
       "\n",
       ".xr-section-summary-in:disabled + label {\n",
       "  color: var(--xr-font-color2);\n",
       "}\n",
       "\n",
       ".xr-section-summary-in + label:before {\n",
       "  display: inline-block;\n",
       "  content: '►';\n",
       "  font-size: 11px;\n",
       "  width: 15px;\n",
       "  text-align: center;\n",
       "}\n",
       "\n",
       ".xr-section-summary-in:disabled + label:before {\n",
       "  color: var(--xr-disabled-color);\n",
       "}\n",
       "\n",
       ".xr-section-summary-in:checked + label:before {\n",
       "  content: '▼';\n",
       "}\n",
       "\n",
       ".xr-section-summary-in:checked + label > span {\n",
       "  display: none;\n",
       "}\n",
       "\n",
       ".xr-section-summary,\n",
       ".xr-section-inline-details {\n",
       "  padding-top: 4px;\n",
       "  padding-bottom: 4px;\n",
       "}\n",
       "\n",
       ".xr-section-inline-details {\n",
       "  grid-column: 2 / -1;\n",
       "}\n",
       "\n",
       ".xr-section-details {\n",
       "  display: none;\n",
       "  grid-column: 1 / -1;\n",
       "  margin-bottom: 5px;\n",
       "}\n",
       "\n",
       ".xr-section-summary-in:checked ~ .xr-section-details {\n",
       "  display: contents;\n",
       "}\n",
       "\n",
       ".xr-array-wrap {\n",
       "  grid-column: 1 / -1;\n",
       "  display: grid;\n",
       "  grid-template-columns: 20px auto;\n",
       "}\n",
       "\n",
       ".xr-array-wrap > label {\n",
       "  grid-column: 1;\n",
       "  vertical-align: top;\n",
       "}\n",
       "\n",
       ".xr-preview {\n",
       "  color: var(--xr-font-color3);\n",
       "}\n",
       "\n",
       ".xr-array-preview,\n",
       ".xr-array-data {\n",
       "  padding: 0 5px !important;\n",
       "  grid-column: 2;\n",
       "}\n",
       "\n",
       ".xr-array-data,\n",
       ".xr-array-in:checked ~ .xr-array-preview {\n",
       "  display: none;\n",
       "}\n",
       "\n",
       ".xr-array-in:checked ~ .xr-array-data,\n",
       ".xr-array-preview {\n",
       "  display: inline-block;\n",
       "}\n",
       "\n",
       ".xr-dim-list {\n",
       "  display: inline-block !important;\n",
       "  list-style: none;\n",
       "  padding: 0 !important;\n",
       "  margin: 0;\n",
       "}\n",
       "\n",
       ".xr-dim-list li {\n",
       "  display: inline-block;\n",
       "  padding: 0;\n",
       "  margin: 0;\n",
       "}\n",
       "\n",
       ".xr-dim-list:before {\n",
       "  content: '(';\n",
       "}\n",
       "\n",
       ".xr-dim-list:after {\n",
       "  content: ')';\n",
       "}\n",
       "\n",
       ".xr-dim-list li:not(:last-child):after {\n",
       "  content: ',';\n",
       "  padding-right: 5px;\n",
       "}\n",
       "\n",
       ".xr-has-index {\n",
       "  font-weight: bold;\n",
       "}\n",
       "\n",
       ".xr-var-list,\n",
       ".xr-var-item {\n",
       "  display: contents;\n",
       "}\n",
       "\n",
       ".xr-var-item > div,\n",
       ".xr-var-item label,\n",
       ".xr-var-item > .xr-var-name span {\n",
       "  background-color: var(--xr-background-color-row-even);\n",
       "  margin-bottom: 0;\n",
       "}\n",
       "\n",
       ".xr-var-item > .xr-var-name:hover span {\n",
       "  padding-right: 5px;\n",
       "}\n",
       "\n",
       ".xr-var-list > li:nth-child(odd) > div,\n",
       ".xr-var-list > li:nth-child(odd) > label,\n",
       ".xr-var-list > li:nth-child(odd) > .xr-var-name span {\n",
       "  background-color: var(--xr-background-color-row-odd);\n",
       "}\n",
       "\n",
       ".xr-var-name {\n",
       "  grid-column: 1;\n",
       "}\n",
       "\n",
       ".xr-var-dims {\n",
       "  grid-column: 2;\n",
       "}\n",
       "\n",
       ".xr-var-dtype {\n",
       "  grid-column: 3;\n",
       "  text-align: right;\n",
       "  color: var(--xr-font-color2);\n",
       "}\n",
       "\n",
       ".xr-var-preview {\n",
       "  grid-column: 4;\n",
       "}\n",
       "\n",
       ".xr-index-preview {\n",
       "  grid-column: 2 / 5;\n",
       "  color: var(--xr-font-color2);\n",
       "}\n",
       "\n",
       ".xr-var-name,\n",
       ".xr-var-dims,\n",
       ".xr-var-dtype,\n",
       ".xr-preview,\n",
       ".xr-attrs dt {\n",
       "  white-space: nowrap;\n",
       "  overflow: hidden;\n",
       "  text-overflow: ellipsis;\n",
       "  padding-right: 10px;\n",
       "}\n",
       "\n",
       ".xr-var-name:hover,\n",
       ".xr-var-dims:hover,\n",
       ".xr-var-dtype:hover,\n",
       ".xr-attrs dt:hover {\n",
       "  overflow: visible;\n",
       "  width: auto;\n",
       "  z-index: 1;\n",
       "}\n",
       "\n",
       ".xr-var-attrs,\n",
       ".xr-var-data,\n",
       ".xr-index-data {\n",
       "  display: none;\n",
       "  background-color: var(--xr-background-color) !important;\n",
       "  padding-bottom: 5px !important;\n",
       "}\n",
       "\n",
       ".xr-var-attrs-in:checked ~ .xr-var-attrs,\n",
       ".xr-var-data-in:checked ~ .xr-var-data,\n",
       ".xr-index-data-in:checked ~ .xr-index-data {\n",
       "  display: block;\n",
       "}\n",
       "\n",
       ".xr-var-data > table {\n",
       "  float: right;\n",
       "}\n",
       "\n",
       ".xr-var-name span,\n",
       ".xr-var-data,\n",
       ".xr-index-name div,\n",
       ".xr-index-data,\n",
       ".xr-attrs {\n",
       "  padding-left: 25px !important;\n",
       "}\n",
       "\n",
       ".xr-attrs,\n",
       ".xr-var-attrs,\n",
       ".xr-var-data,\n",
       ".xr-index-data {\n",
       "  grid-column: 1 / -1;\n",
       "}\n",
       "\n",
       "dl.xr-attrs {\n",
       "  padding: 0;\n",
       "  margin: 0;\n",
       "  display: grid;\n",
       "  grid-template-columns: 125px auto;\n",
       "}\n",
       "\n",
       ".xr-attrs dt,\n",
       ".xr-attrs dd {\n",
       "  padding: 0;\n",
       "  margin: 0;\n",
       "  float: left;\n",
       "  padding-right: 10px;\n",
       "  width: auto;\n",
       "}\n",
       "\n",
       ".xr-attrs dt {\n",
       "  font-weight: normal;\n",
       "  grid-column: 1;\n",
       "}\n",
       "\n",
       ".xr-attrs dt:hover span {\n",
       "  display: inline-block;\n",
       "  background: var(--xr-background-color);\n",
       "  padding-right: 10px;\n",
       "}\n",
       "\n",
       ".xr-attrs dd {\n",
       "  grid-column: 2;\n",
       "  white-space: pre-wrap;\n",
       "  word-break: break-all;\n",
       "}\n",
       "\n",
       ".xr-icon-database,\n",
       ".xr-icon-file-text2,\n",
       ".xr-no-icon {\n",
       "  display: inline-block;\n",
       "  vertical-align: middle;\n",
       "  width: 1em;\n",
       "  height: 1.5em !important;\n",
       "  stroke-width: 0;\n",
       "  stroke: currentColor;\n",
       "  fill: currentColor;\n",
       "}\n",
       "</style><pre class='xr-text-repr-fallback'>&lt;xarray.Dataset&gt;\n",
       "Dimensions:                                 (y: 300, x: 500,\n",
       "                                             number_of_time_bounds: 2,\n",
       "                                             number_of_image_bounds: 2,\n",
       "                                             number_of_LZA_bounds: 2,\n",
       "                                             number_of_SZA_bounds: 2)\n",
       "Coordinates:\n",
       "    t                                       datetime64[ns] ...\n",
       "  * y                                       (y) float64 0.1281 ... 0.04438\n",
       "  * x                                       (x) float64 -0.1012 ... 0.0385\n",
       "    y_image                                 float32 ...\n",
       "    x_image                                 float32 ...\n",
       "    local_zenith_angle                      float32 ...\n",
       "    solar_zenith_angle                      float32 ...\n",
       "Dimensions without coordinates: number_of_time_bounds, number_of_image_bounds,\n",
       "                                number_of_LZA_bounds, number_of_SZA_bounds\n",
       "Data variables: (12/23)\n",
       "    HT                                      (y, x) float32 ...\n",
       "    DQF                                     (y, x) float32 ...\n",
       "    time_bounds                             (number_of_time_bounds) datetime64[ns] ...\n",
       "    goes_imager_projection                  int32 ...\n",
       "    y_image_bounds                          (number_of_image_bounds) float32 ...\n",
       "    x_image_bounds                          (number_of_image_bounds) float32 ...\n",
       "    ...                                      ...\n",
       "    algorithm_product_version_container     int32 ...\n",
       "    local_zenith_angle_bounds               (number_of_LZA_bounds) float32 ...\n",
       "    solar_zenith_angle_bounds               (number_of_SZA_bounds) float32 ...\n",
       "    percent_uncorrectable_GRB_errors        float32 ...\n",
       "    percent_uncorrectable_L0_errors         float32 ...\n",
       "    cloud_pixels                            float64 ...\n",
       "Attributes: (12/29)\n",
       "    naming_authority:          gov.nesdis.noaa\n",
       "    Conventions:               CF-1.7\n",
       "    Metadata_Conventions:      Unidata Dataset Discovery v1.0\n",
       "    standard_name_vocabulary:  CF Standard Name Table (v35, 20 July 2016)\n",
       "    institution:               DOC/NOAA/NESDIS &gt; U.S. Department of Commerce,...\n",
       "    project:                   GOES\n",
       "    ...                        ...\n",
       "    cdm_data_type:             Image\n",
       "    time_coverage_start:       2020-08-01T18:01:15.6Z\n",
       "    time_coverage_end:         2020-08-01T18:03:52.8Z\n",
       "    timeline_id:               ABI Mode 6\n",
       "    production_data_source:    Realtime\n",
       "    id:                        f17e7a36-2737-4d90-87e7-938da9dd43cc</pre><div class='xr-wrap' style='display:none'><div class='xr-header'><div class='xr-obj-type'>xarray.Dataset</div></div><ul class='xr-sections'><li class='xr-section-item'><input id='section-89a9814a-f5d3-4f3f-8ecf-8fcf915610aa' class='xr-section-summary-in' type='checkbox' disabled ><label for='section-89a9814a-f5d3-4f3f-8ecf-8fcf915610aa' class='xr-section-summary'  title='Expand/collapse section'>Dimensions:</label><div class='xr-section-inline-details'><ul class='xr-dim-list'><li><span class='xr-has-index'>y</span>: 300</li><li><span class='xr-has-index'>x</span>: 500</li><li><span>number_of_time_bounds</span>: 2</li><li><span>number_of_image_bounds</span>: 2</li><li><span>number_of_LZA_bounds</span>: 2</li><li><span>number_of_SZA_bounds</span>: 2</li></ul></div><div class='xr-section-details'></div></li><li class='xr-section-item'><input id='section-9163bb66-28fb-4907-8827-00666c212845' class='xr-section-summary-in' type='checkbox'  checked><label for='section-9163bb66-28fb-4907-8827-00666c212845' class='xr-section-summary' >Coordinates: <span>(7)</span></label><div class='xr-section-inline-details'></div><div class='xr-section-details'><ul class='xr-var-list'><li class='xr-var-item'><div class='xr-var-name'><span>t</span></div><div class='xr-var-dims'>()</div><div class='xr-var-dtype'>datetime64[ns]</div><div class='xr-var-preview xr-preview'>...</div><input id='attrs-3e81aec8-b14c-46f4-b798-6a535ff4e53f' class='xr-var-attrs-in' type='checkbox' ><label for='attrs-3e81aec8-b14c-46f4-b798-6a535ff4e53f' title='Show/Hide attributes'><svg class='icon xr-icon-file-text2'><use xlink:href='#icon-file-text2'></use></svg></label><input id='data-29e616af-89b5-47e9-a153-1cf78c2fa977' class='xr-var-data-in' type='checkbox'><label for='data-29e616af-89b5-47e9-a153-1cf78c2fa977' title='Show/Hide data repr'><svg class='icon xr-icon-database'><use xlink:href='#icon-database'></use></svg></label><div class='xr-var-attrs'><dl class='xr-attrs'><dt><span>long_name :</span></dt><dd>time variable (t) is the mid-point between the start and end image scan in seconds since epoch (2000-01-01 12:00:00)</dd><dt><span>standard_name :</span></dt><dd>time</dd><dt><span>axis :</span></dt><dd>T</dd><dt><span>bounds :</span></dt><dd>time_bounds</dd></dl></div><div class='xr-var-data'><pre>[1 values with dtype=datetime64[ns]]</pre></div></li><li class='xr-var-item'><div class='xr-var-name'><span class='xr-has-index'>y</span></div><div class='xr-var-dims'>(y)</div><div class='xr-var-dtype'>float64</div><div class='xr-var-preview xr-preview'>0.1281 0.1278 ... 0.04466 0.04438</div><input id='attrs-28a3435f-5733-48e4-b771-cc518dfdeecf' class='xr-var-attrs-in' type='checkbox' ><label for='attrs-28a3435f-5733-48e4-b771-cc518dfdeecf' title='Show/Hide attributes'><svg class='icon xr-icon-file-text2'><use xlink:href='#icon-file-text2'></use></svg></label><input id='data-9c042d7e-9e2c-4602-a712-6311419aeee9' class='xr-var-data-in' type='checkbox'><label for='data-9c042d7e-9e2c-4602-a712-6311419aeee9' title='Show/Hide data repr'><svg class='icon xr-icon-database'><use xlink:href='#icon-database'></use></svg></label><div class='xr-var-attrs'><dl class='xr-attrs'><dt><span>units :</span></dt><dd>rad</dd><dt><span>axis :</span></dt><dd>Y</dd><dt><span>long_name :</span></dt><dd>GOES Projection y-Coordinate</dd><dt><span>standard_name :</span></dt><dd>projection_y_coordinate</dd></dl></div><div class='xr-var-data'><pre>array([0.1281 , 0.12782, 0.12754, ..., 0.04494, 0.04466, 0.04438])</pre></div></li><li class='xr-var-item'><div class='xr-var-name'><span class='xr-has-index'>x</span></div><div class='xr-var-dims'>(x)</div><div class='xr-var-dtype'>float64</div><div class='xr-var-preview xr-preview'>-0.1012 -0.1009 ... 0.03822 0.0385</div><input id='attrs-c3d3ea87-2afe-4724-a38e-101180a7c5f4' class='xr-var-attrs-in' type='checkbox' ><label for='attrs-c3d3ea87-2afe-4724-a38e-101180a7c5f4' title='Show/Hide attributes'><svg class='icon xr-icon-file-text2'><use xlink:href='#icon-file-text2'></use></svg></label><input id='data-d64adcbc-2f06-4526-88e3-a1c3b9f0db7f' class='xr-var-data-in' type='checkbox'><label for='data-d64adcbc-2f06-4526-88e3-a1c3b9f0db7f' title='Show/Hide data repr'><svg class='icon xr-icon-database'><use xlink:href='#icon-database'></use></svg></label><div class='xr-var-attrs'><dl class='xr-attrs'><dt><span>units :</span></dt><dd>rad</dd><dt><span>axis :</span></dt><dd>X</dd><dt><span>long_name :</span></dt><dd>GOES Projection x-Coordinate</dd><dt><span>standard_name :</span></dt><dd>projection_x_coordinate</dd></dl></div><div class='xr-var-data'><pre>array([-0.10122, -0.10094, -0.10066, ...,  0.03794,  0.03822,  0.0385 ])</pre></div></li><li class='xr-var-item'><div class='xr-var-name'><span>y_image</span></div><div class='xr-var-dims'>()</div><div class='xr-var-dtype'>float32</div><div class='xr-var-preview xr-preview'>...</div><input id='attrs-3ddad9d3-e1b7-49be-83a4-551910db0409' class='xr-var-attrs-in' type='checkbox' ><label for='attrs-3ddad9d3-e1b7-49be-83a4-551910db0409' title='Show/Hide attributes'><svg class='icon xr-icon-file-text2'><use xlink:href='#icon-file-text2'></use></svg></label><input id='data-17f8a682-de37-4fac-b15c-2e1deb4e406b' class='xr-var-data-in' type='checkbox'><label for='data-17f8a682-de37-4fac-b15c-2e1deb4e406b' title='Show/Hide data repr'><svg class='icon xr-icon-database'><use xlink:href='#icon-database'></use></svg></label><div class='xr-var-attrs'><dl class='xr-attrs'><dt><span>long_name :</span></dt><dd>GOES-R fixed grid projection y-coordinate center of image</dd><dt><span>standard_name :</span></dt><dd>projection_y_coordinate</dd><dt><span>units :</span></dt><dd>rad</dd><dt><span>axis :</span></dt><dd>Y</dd></dl></div><div class='xr-var-data'><pre>[1 values with dtype=float32]</pre></div></li><li class='xr-var-item'><div class='xr-var-name'><span>x_image</span></div><div class='xr-var-dims'>()</div><div class='xr-var-dtype'>float32</div><div class='xr-var-preview xr-preview'>...</div><input id='attrs-21ae9d87-0849-4c7d-9f6d-d82dc0f35c31' class='xr-var-attrs-in' type='checkbox' ><label for='attrs-21ae9d87-0849-4c7d-9f6d-d82dc0f35c31' title='Show/Hide attributes'><svg class='icon xr-icon-file-text2'><use xlink:href='#icon-file-text2'></use></svg></label><input id='data-bd13f8c1-d32d-4bd5-8b1a-53c357b42115' class='xr-var-data-in' type='checkbox'><label for='data-bd13f8c1-d32d-4bd5-8b1a-53c357b42115' title='Show/Hide data repr'><svg class='icon xr-icon-database'><use xlink:href='#icon-database'></use></svg></label><div class='xr-var-attrs'><dl class='xr-attrs'><dt><span>long_name :</span></dt><dd>GOES-R fixed grid projection x-coordinate center of image</dd><dt><span>standard_name :</span></dt><dd>projection_x_coordinate</dd><dt><span>units :</span></dt><dd>rad</dd><dt><span>axis :</span></dt><dd>X</dd></dl></div><div class='xr-var-data'><pre>[1 values with dtype=float32]</pre></div></li><li class='xr-var-item'><div class='xr-var-name'><span>local_zenith_angle</span></div><div class='xr-var-dims'>()</div><div class='xr-var-dtype'>float32</div><div class='xr-var-preview xr-preview'>...</div><input id='attrs-07c4aaa5-2b78-4b8f-90a1-fecd48881713' class='xr-var-attrs-in' type='checkbox' ><label for='attrs-07c4aaa5-2b78-4b8f-90a1-fecd48881713' title='Show/Hide attributes'><svg class='icon xr-icon-file-text2'><use xlink:href='#icon-file-text2'></use></svg></label><input id='data-46a627b5-2670-4dd1-af93-e0281572a1c7' class='xr-var-data-in' type='checkbox'><label for='data-46a627b5-2670-4dd1-af93-e0281572a1c7' title='Show/Hide data repr'><svg class='icon xr-icon-database'><use xlink:href='#icon-database'></use></svg></label><div class='xr-var-attrs'><dl class='xr-attrs'><dt><span>long_name :</span></dt><dd>threshold angle between the line of sight to the satellite and the local zenith at the observation target for good quality cloud top temperature, pressure and height data production</dd><dt><span>standard_name :</span></dt><dd>platform_zenith_angle</dd><dt><span>units :</span></dt><dd>degree</dd><dt><span>bounds :</span></dt><dd>local_zenith_angle_bounds</dd></dl></div><div class='xr-var-data'><pre>[1 values with dtype=float32]</pre></div></li><li class='xr-var-item'><div class='xr-var-name'><span>solar_zenith_angle</span></div><div class='xr-var-dims'>()</div><div class='xr-var-dtype'>float32</div><div class='xr-var-preview xr-preview'>...</div><input id='attrs-7fe5d85b-a525-492e-acf8-459691d02cb8' class='xr-var-attrs-in' type='checkbox' ><label for='attrs-7fe5d85b-a525-492e-acf8-459691d02cb8' title='Show/Hide attributes'><svg class='icon xr-icon-file-text2'><use xlink:href='#icon-file-text2'></use></svg></label><input id='data-23cf6988-81f0-4eab-8e4d-082cf84a3b28' class='xr-var-data-in' type='checkbox'><label for='data-23cf6988-81f0-4eab-8e4d-082cf84a3b28' title='Show/Hide data repr'><svg class='icon xr-icon-database'><use xlink:href='#icon-database'></use></svg></label><div class='xr-var-attrs'><dl class='xr-attrs'><dt><span>long_name :</span></dt><dd>threshold angle between the line of sight to the sun and the local zenith at the observation target for good quality cloud top temperature, pressure and height data production</dd><dt><span>standard_name :</span></dt><dd>solar_zenith_angle</dd><dt><span>units :</span></dt><dd>degree</dd><dt><span>bounds :</span></dt><dd>solar_zenith_angle_bounds</dd></dl></div><div class='xr-var-data'><pre>[1 values with dtype=float32]</pre></div></li></ul></div></li><li class='xr-section-item'><input id='section-22dd8beb-e6b0-4866-a02a-b101722ddd87' class='xr-section-summary-in' type='checkbox'  ><label for='section-22dd8beb-e6b0-4866-a02a-b101722ddd87' class='xr-section-summary' >Data variables: <span>(23)</span></label><div class='xr-section-inline-details'></div><div class='xr-section-details'><ul class='xr-var-list'><li class='xr-var-item'><div class='xr-var-name'><span>HT</span></div><div class='xr-var-dims'>(y, x)</div><div class='xr-var-dtype'>float32</div><div class='xr-var-preview xr-preview'>...</div><input id='attrs-14f15558-2971-40a0-a437-0eacb8932e4e' class='xr-var-attrs-in' type='checkbox' ><label for='attrs-14f15558-2971-40a0-a437-0eacb8932e4e' title='Show/Hide attributes'><svg class='icon xr-icon-file-text2'><use xlink:href='#icon-file-text2'></use></svg></label><input id='data-d2e1bb40-ea53-425c-9e38-32b53ffb3250' class='xr-var-data-in' type='checkbox'><label for='data-d2e1bb40-ea53-425c-9e38-32b53ffb3250' title='Show/Hide data repr'><svg class='icon xr-icon-database'><use xlink:href='#icon-database'></use></svg></label><div class='xr-var-attrs'><dl class='xr-attrs'><dt><span>long_name :</span></dt><dd>ABI L2+ Cloud Top Height</dd><dt><span>standard_name :</span></dt><dd>geopotential_height_at_cloud_top</dd><dt><span>valid_range :</span></dt><dd>[ 0 -6]</dd><dt><span>units :</span></dt><dd>m</dd><dt><span>resolution :</span></dt><dd>y: 0.000280 rad x: 0.000280 rad</dd><dt><span>grid_mapping :</span></dt><dd>goes_imager_projection</dd><dt><span>cell_methods :</span></dt><dd>local_zenith_angle: point (good quality pixel produced) solar_zenith_angle: point (good quality pixel produced) t: point area: point</dd><dt><span>ancillary_variables :</span></dt><dd>DQF</dd></dl></div><div class='xr-var-data'><pre>[150000 values with dtype=float32]</pre></div></li><li class='xr-var-item'><div class='xr-var-name'><span>DQF</span></div><div class='xr-var-dims'>(y, x)</div><div class='xr-var-dtype'>float32</div><div class='xr-var-preview xr-preview'>...</div><input id='attrs-a32c0613-7edb-4349-80a3-2cda3d917906' class='xr-var-attrs-in' type='checkbox' ><label for='attrs-a32c0613-7edb-4349-80a3-2cda3d917906' title='Show/Hide attributes'><svg class='icon xr-icon-file-text2'><use xlink:href='#icon-file-text2'></use></svg></label><input id='data-d1dd6384-74b2-4669-a449-53a4f2f0d27a' class='xr-var-data-in' type='checkbox'><label for='data-d1dd6384-74b2-4669-a449-53a4f2f0d27a' title='Show/Hide data repr'><svg class='icon xr-icon-database'><use xlink:href='#icon-database'></use></svg></label><div class='xr-var-attrs'><dl class='xr-attrs'><dt><span>long_name :</span></dt><dd>ABI L2+ Cloud Top Height data quality flags</dd><dt><span>standard_name :</span></dt><dd>status_flag</dd><dt><span>valid_range :</span></dt><dd>[0 6]</dd><dt><span>units :</span></dt><dd>1</dd><dt><span>grid_mapping :</span></dt><dd>goes_imager_projection</dd><dt><span>cell_methods :</span></dt><dd>local_zenith_angle: point solar_zenith_angle: point t: point area: point</dd><dt><span>flag_values :</span></dt><dd>[0 1 2 3 4 5 6]</dd><dt><span>flag_meanings :</span></dt><dd>good_quality_qf invalid_due_to_not_geolocated_qf invalid_due_to_LZA_threshold_exceeded_qf invalid_due_to_bad_or_missing_brightness_temp_data_qf invalid_due_to_clear_or_probably_clear_sky_qf invalid_due_to_unknown_cloud_type_qf invalid_due_to_nonconvergent_retrieval_qf</dd><dt><span>number_of_qf_values :</span></dt><dd>7</dd><dt><span>percent_good_quality_qf :</span></dt><dd>0.7817794</dd><dt><span>percent_invalid_due_to_not_geolocated_qf :</span></dt><dd>0.0130803</dd><dt><span>percent_invalid_due_to_LZA_threshold_exceeded_qf :</span></dt><dd>0.0287051</dd><dt><span>percent_invalid_due_to_bad_or_missing_brightness_temp_data_qf :</span></dt><dd>0.0080992</dd><dt><span>percent_invalid_due_to_clear_or_probably_clear_sky_qf :</span></dt><dd>0.1887664</dd><dt><span>percent_invalid_due_to_unknown_cloud_type_qf :</span></dt><dd>0.0</dd><dt><span>percent_invalid_due_to_nonconvergent_retrieval_qf :</span></dt><dd>7.42e-05</dd></dl></div><div class='xr-var-data'><pre>[150000 values with dtype=float32]</pre></div></li><li class='xr-var-item'><div class='xr-var-name'><span>time_bounds</span></div><div class='xr-var-dims'>(number_of_time_bounds)</div><div class='xr-var-dtype'>datetime64[ns]</div><div class='xr-var-preview xr-preview'>...</div><input id='attrs-cc58a514-10d3-434e-bf4d-c1e525866821' class='xr-var-attrs-in' type='checkbox' ><label for='attrs-cc58a514-10d3-434e-bf4d-c1e525866821' title='Show/Hide attributes'><svg class='icon xr-icon-file-text2'><use xlink:href='#icon-file-text2'></use></svg></label><input id='data-20c6c230-4490-4579-8c2e-7f4367dd2772' class='xr-var-data-in' type='checkbox'><label for='data-20c6c230-4490-4579-8c2e-7f4367dd2772' title='Show/Hide data repr'><svg class='icon xr-icon-database'><use xlink:href='#icon-database'></use></svg></label><div class='xr-var-attrs'><dl class='xr-attrs'><dt><span>long_name :</span></dt><dd>Scan start and end times in seconds since epoch (2000-01-01 12:00:00)</dd></dl></div><div class='xr-var-data'><pre>[2 values with dtype=datetime64[ns]]</pre></div></li><li class='xr-var-item'><div class='xr-var-name'><span>goes_imager_projection</span></div><div class='xr-var-dims'>()</div><div class='xr-var-dtype'>int32</div><div class='xr-var-preview xr-preview'>...</div><input id='attrs-0031c711-5efb-4cb4-ade3-89e120f68d9a' class='xr-var-attrs-in' type='checkbox' ><label for='attrs-0031c711-5efb-4cb4-ade3-89e120f68d9a' title='Show/Hide attributes'><svg class='icon xr-icon-file-text2'><use xlink:href='#icon-file-text2'></use></svg></label><input id='data-bf08e13f-a86a-418a-ae62-937802d4e6a0' class='xr-var-data-in' type='checkbox'><label for='data-bf08e13f-a86a-418a-ae62-937802d4e6a0' title='Show/Hide data repr'><svg class='icon xr-icon-database'><use xlink:href='#icon-database'></use></svg></label><div class='xr-var-attrs'><dl class='xr-attrs'><dt><span>long_name :</span></dt><dd>GOES-R ABI fixed grid projection</dd><dt><span>grid_mapping_name :</span></dt><dd>geostationary</dd><dt><span>perspective_point_height :</span></dt><dd>35786023.0</dd><dt><span>semi_major_axis :</span></dt><dd>6378137.0</dd><dt><span>semi_minor_axis :</span></dt><dd>6356752.31414</dd><dt><span>inverse_flattening :</span></dt><dd>298.2572221</dd><dt><span>latitude_of_projection_origin :</span></dt><dd>0.0</dd><dt><span>longitude_of_projection_origin :</span></dt><dd>-75.0</dd><dt><span>sweep_angle_axis :</span></dt><dd>x</dd></dl></div><div class='xr-var-data'><pre>[1 values with dtype=int32]</pre></div></li><li class='xr-var-item'><div class='xr-var-name'><span>y_image_bounds</span></div><div class='xr-var-dims'>(number_of_image_bounds)</div><div class='xr-var-dtype'>float32</div><div class='xr-var-preview xr-preview'>...</div><input id='attrs-373db84e-147a-458d-90e8-01d2222c5420' class='xr-var-attrs-in' type='checkbox' ><label for='attrs-373db84e-147a-458d-90e8-01d2222c5420' title='Show/Hide attributes'><svg class='icon xr-icon-file-text2'><use xlink:href='#icon-file-text2'></use></svg></label><input id='data-7f168b72-6ee4-44c5-b14c-248eaee88ac2' class='xr-var-data-in' type='checkbox'><label for='data-7f168b72-6ee4-44c5-b14c-248eaee88ac2' title='Show/Hide data repr'><svg class='icon xr-icon-database'><use xlink:href='#icon-database'></use></svg></label><div class='xr-var-attrs'><dl class='xr-attrs'><dt><span>long_name :</span></dt><dd>GOES-R fixed grid projection y-coordinate north/south extent of image</dd><dt><span>units :</span></dt><dd>rad</dd></dl></div><div class='xr-var-data'><pre>[2 values with dtype=float32]</pre></div></li><li class='xr-var-item'><div class='xr-var-name'><span>x_image_bounds</span></div><div class='xr-var-dims'>(number_of_image_bounds)</div><div class='xr-var-dtype'>float32</div><div class='xr-var-preview xr-preview'>...</div><input id='attrs-9ca7f04d-8380-4b04-8226-e82df61741c8' class='xr-var-attrs-in' type='checkbox' ><label for='attrs-9ca7f04d-8380-4b04-8226-e82df61741c8' title='Show/Hide attributes'><svg class='icon xr-icon-file-text2'><use xlink:href='#icon-file-text2'></use></svg></label><input id='data-63d7f962-7a0d-4c72-84aa-862d9200502f' class='xr-var-data-in' type='checkbox'><label for='data-63d7f962-7a0d-4c72-84aa-862d9200502f' title='Show/Hide data repr'><svg class='icon xr-icon-database'><use xlink:href='#icon-database'></use></svg></label><div class='xr-var-attrs'><dl class='xr-attrs'><dt><span>long_name :</span></dt><dd>GOES-R fixed grid projection x-coordinate west/east extent of image</dd><dt><span>units :</span></dt><dd>rad</dd></dl></div><div class='xr-var-data'><pre>[2 values with dtype=float32]</pre></div></li><li class='xr-var-item'><div class='xr-var-name'><span>nominal_satellite_subpoint_lat</span></div><div class='xr-var-dims'>()</div><div class='xr-var-dtype'>float32</div><div class='xr-var-preview xr-preview'>...</div><input id='attrs-49f29323-9315-4dbc-9431-f7b9ab19339f' class='xr-var-attrs-in' type='checkbox' ><label for='attrs-49f29323-9315-4dbc-9431-f7b9ab19339f' title='Show/Hide attributes'><svg class='icon xr-icon-file-text2'><use xlink:href='#icon-file-text2'></use></svg></label><input id='data-a0c3ce1c-c8fe-4984-b887-52612caefa75' class='xr-var-data-in' type='checkbox'><label for='data-a0c3ce1c-c8fe-4984-b887-52612caefa75' title='Show/Hide data repr'><svg class='icon xr-icon-database'><use xlink:href='#icon-database'></use></svg></label><div class='xr-var-attrs'><dl class='xr-attrs'><dt><span>long_name :</span></dt><dd>nominal satellite subpoint latitude (platform latitude)</dd><dt><span>standard_name :</span></dt><dd>latitude</dd><dt><span>units :</span></dt><dd>degrees_north</dd></dl></div><div class='xr-var-data'><pre>[1 values with dtype=float32]</pre></div></li><li class='xr-var-item'><div class='xr-var-name'><span>nominal_satellite_subpoint_lon</span></div><div class='xr-var-dims'>()</div><div class='xr-var-dtype'>float32</div><div class='xr-var-preview xr-preview'>...</div><input id='attrs-cce97e57-6439-45b0-b1d1-467e267e027e' class='xr-var-attrs-in' type='checkbox' ><label for='attrs-cce97e57-6439-45b0-b1d1-467e267e027e' title='Show/Hide attributes'><svg class='icon xr-icon-file-text2'><use xlink:href='#icon-file-text2'></use></svg></label><input id='data-818bf85a-9c34-4a36-b447-05f2e892233a' class='xr-var-data-in' type='checkbox'><label for='data-818bf85a-9c34-4a36-b447-05f2e892233a' title='Show/Hide data repr'><svg class='icon xr-icon-database'><use xlink:href='#icon-database'></use></svg></label><div class='xr-var-attrs'><dl class='xr-attrs'><dt><span>long_name :</span></dt><dd>nominal satellite subpoint longitude (platform longitude)</dd><dt><span>standard_name :</span></dt><dd>longitude</dd><dt><span>units :</span></dt><dd>degrees_east</dd></dl></div><div class='xr-var-data'><pre>[1 values with dtype=float32]</pre></div></li><li class='xr-var-item'><div class='xr-var-name'><span>nominal_satellite_height</span></div><div class='xr-var-dims'>()</div><div class='xr-var-dtype'>float32</div><div class='xr-var-preview xr-preview'>...</div><input id='attrs-c589e7bd-ac8d-43f1-8c59-dcc581cda52e' class='xr-var-attrs-in' type='checkbox' ><label for='attrs-c589e7bd-ac8d-43f1-8c59-dcc581cda52e' title='Show/Hide attributes'><svg class='icon xr-icon-file-text2'><use xlink:href='#icon-file-text2'></use></svg></label><input id='data-421a3100-dc49-4369-a0bf-fd9a83705ad8' class='xr-var-data-in' type='checkbox'><label for='data-421a3100-dc49-4369-a0bf-fd9a83705ad8' title='Show/Hide data repr'><svg class='icon xr-icon-database'><use xlink:href='#icon-database'></use></svg></label><div class='xr-var-attrs'><dl class='xr-attrs'><dt><span>long_name :</span></dt><dd>nominal satellite height above GRS 80 ellipsoid (platform altitude)</dd><dt><span>standard_name :</span></dt><dd>height_above_reference_ellipsoid</dd><dt><span>units :</span></dt><dd>km</dd></dl></div><div class='xr-var-data'><pre>[1 values with dtype=float32]</pre></div></li><li class='xr-var-item'><div class='xr-var-name'><span>geospatial_lat_lon_extent</span></div><div class='xr-var-dims'>()</div><div class='xr-var-dtype'>float32</div><div class='xr-var-preview xr-preview'>...</div><input id='attrs-c89a0cb5-3aa2-4ea2-863f-4b59c97751ac' class='xr-var-attrs-in' type='checkbox' ><label for='attrs-c89a0cb5-3aa2-4ea2-863f-4b59c97751ac' title='Show/Hide attributes'><svg class='icon xr-icon-file-text2'><use xlink:href='#icon-file-text2'></use></svg></label><input id='data-79573571-755f-4ea8-ac25-c0c6ed7cbd19' class='xr-var-data-in' type='checkbox'><label for='data-79573571-755f-4ea8-ac25-c0c6ed7cbd19' title='Show/Hide data repr'><svg class='icon xr-icon-database'><use xlink:href='#icon-database'></use></svg></label><div class='xr-var-attrs'><dl class='xr-attrs'><dt><span>long_name :</span></dt><dd>geospatial latitude and longitude references</dd><dt><span>geospatial_westbound_longitude :</span></dt><dd>-152.10928</dd><dt><span>geospatial_northbound_latitude :</span></dt><dd>56.76145</dd><dt><span>geospatial_eastbound_longitude :</span></dt><dd>-52.94688</dd><dt><span>geospatial_southbound_latitude :</span></dt><dd>14.57134</dd><dt><span>geospatial_lat_center :</span></dt><dd>30.083002</dd><dt><span>geospatial_lon_center :</span></dt><dd>-87.096954</dd><dt><span>geospatial_lat_nadir :</span></dt><dd>0.0</dd><dt><span>geospatial_lon_nadir :</span></dt><dd>-75.0</dd><dt><span>geospatial_lat_units :</span></dt><dd>degrees_north</dd><dt><span>geospatial_lon_units :</span></dt><dd>degrees_east</dd></dl></div><div class='xr-var-data'><pre>[1 values with dtype=float32]</pre></div></li><li class='xr-var-item'><div class='xr-var-name'><span>outlier_pixels</span></div><div class='xr-var-dims'>()</div><div class='xr-var-dtype'>float64</div><div class='xr-var-preview xr-preview'>...</div><input id='attrs-27038bcb-42da-48dd-8ec3-b6bd1b8c6e8a' class='xr-var-attrs-in' type='checkbox' ><label for='attrs-27038bcb-42da-48dd-8ec3-b6bd1b8c6e8a' title='Show/Hide attributes'><svg class='icon xr-icon-file-text2'><use xlink:href='#icon-file-text2'></use></svg></label><input id='data-c10d2bb1-7da1-4db3-97bd-c675298f452f' class='xr-var-data-in' type='checkbox'><label for='data-c10d2bb1-7da1-4db3-97bd-c675298f452f' title='Show/Hide data repr'><svg class='icon xr-icon-database'><use xlink:href='#icon-database'></use></svg></label><div class='xr-var-attrs'><dl class='xr-attrs'><dt><span>long_name :</span></dt><dd>number of cloud top height pixels whose value is outside valid measurement range</dd><dt><span>units :</span></dt><dd>count</dd><dt><span>grid_mapping :</span></dt><dd>goes_imager_projection</dd><dt><span>cell_methods :</span></dt><dd>local_zenith_angle: sum solar_zenith_angle: sum t: sum area: sum (interval: 0.000280 rad comment: good quality pixels whose values are outside valid measurement range only) where cloud</dd></dl></div><div class='xr-var-data'><pre>[1 values with dtype=float64]</pre></div></li><li class='xr-var-item'><div class='xr-var-name'><span>minimum_cloud_top_height</span></div><div class='xr-var-dims'>()</div><div class='xr-var-dtype'>float32</div><div class='xr-var-preview xr-preview'>...</div><input id='attrs-da02658e-fdb0-4463-932c-c87a8be6a09d' class='xr-var-attrs-in' type='checkbox' ><label for='attrs-da02658e-fdb0-4463-932c-c87a8be6a09d' title='Show/Hide attributes'><svg class='icon xr-icon-file-text2'><use xlink:href='#icon-file-text2'></use></svg></label><input id='data-06fc4c02-4ab8-4d49-9499-806ab5a04ffb' class='xr-var-data-in' type='checkbox'><label for='data-06fc4c02-4ab8-4d49-9499-806ab5a04ffb' title='Show/Hide data repr'><svg class='icon xr-icon-database'><use xlink:href='#icon-database'></use></svg></label><div class='xr-var-attrs'><dl class='xr-attrs'><dt><span>long_name :</span></dt><dd>minimum cloud top height</dd><dt><span>standard_name :</span></dt><dd>geopotential_height_at_cloud_top</dd><dt><span>valid_range :</span></dt><dd>[    0. 20000.]</dd><dt><span>units :</span></dt><dd>m</dd><dt><span>grid_mapping :</span></dt><dd>goes_imager_projection</dd><dt><span>cell_methods :</span></dt><dd>local_zenith_angle: sum solar_zenith_angle: sum t: sum area: minimum (interval: 0.000280  rad comment: good quality pixels only) where cloud</dd></dl></div><div class='xr-var-data'><pre>[1 values with dtype=float32]</pre></div></li><li class='xr-var-item'><div class='xr-var-name'><span>maximum_cloud_top_height</span></div><div class='xr-var-dims'>()</div><div class='xr-var-dtype'>float32</div><div class='xr-var-preview xr-preview'>...</div><input id='attrs-2563e5a6-c1d4-45ee-9a92-2c44f13dd408' class='xr-var-attrs-in' type='checkbox' ><label for='attrs-2563e5a6-c1d4-45ee-9a92-2c44f13dd408' title='Show/Hide attributes'><svg class='icon xr-icon-file-text2'><use xlink:href='#icon-file-text2'></use></svg></label><input id='data-af3f5c78-f5b3-42f7-a107-7cbb6949d762' class='xr-var-data-in' type='checkbox'><label for='data-af3f5c78-f5b3-42f7-a107-7cbb6949d762' title='Show/Hide data repr'><svg class='icon xr-icon-database'><use xlink:href='#icon-database'></use></svg></label><div class='xr-var-attrs'><dl class='xr-attrs'><dt><span>long_name :</span></dt><dd>maximum cloud top height</dd><dt><span>standard_name :</span></dt><dd>geopotential_height_at_cloud_top</dd><dt><span>valid_range :</span></dt><dd>[    0. 20000.]</dd><dt><span>units :</span></dt><dd>m</dd><dt><span>grid_mapping :</span></dt><dd>goes_imager_projection</dd><dt><span>cell_methods :</span></dt><dd>local_zenith_angle: sum solar_zenith_angle: sum t: sum area: maximum (interval: 0.000280  rad comment: good quality pixels only) where cloud</dd></dl></div><div class='xr-var-data'><pre>[1 values with dtype=float32]</pre></div></li><li class='xr-var-item'><div class='xr-var-name'><span>mean_cloud_top_height</span></div><div class='xr-var-dims'>()</div><div class='xr-var-dtype'>float32</div><div class='xr-var-preview xr-preview'>...</div><input id='attrs-14236b9f-dae7-4c75-b452-004afa5e1081' class='xr-var-attrs-in' type='checkbox' ><label for='attrs-14236b9f-dae7-4c75-b452-004afa5e1081' title='Show/Hide attributes'><svg class='icon xr-icon-file-text2'><use xlink:href='#icon-file-text2'></use></svg></label><input id='data-fcc7fd89-6ec5-4456-99f5-b515e249dc07' class='xr-var-data-in' type='checkbox'><label for='data-fcc7fd89-6ec5-4456-99f5-b515e249dc07' title='Show/Hide data repr'><svg class='icon xr-icon-database'><use xlink:href='#icon-database'></use></svg></label><div class='xr-var-attrs'><dl class='xr-attrs'><dt><span>long_name :</span></dt><dd>mean cloud top height</dd><dt><span>standard_name :</span></dt><dd>geopotential_height_at_cloud_top</dd><dt><span>valid_range :</span></dt><dd>[    0. 20000.]</dd><dt><span>units :</span></dt><dd>m</dd><dt><span>grid_mapping :</span></dt><dd>goes_imager_projection</dd><dt><span>cell_methods :</span></dt><dd>local_zenith_angle: sum solar_zenith_angle: sum t: sum area: mean (interval: 0.000280  rad comment: good quality pixels only) where cloud</dd></dl></div><div class='xr-var-data'><pre>[1 values with dtype=float32]</pre></div></li><li class='xr-var-item'><div class='xr-var-name'><span>std_dev_cloud_top_height</span></div><div class='xr-var-dims'>()</div><div class='xr-var-dtype'>float32</div><div class='xr-var-preview xr-preview'>...</div><input id='attrs-cdaa7261-e459-4052-a3bd-894b9b5ee75c' class='xr-var-attrs-in' type='checkbox' ><label for='attrs-cdaa7261-e459-4052-a3bd-894b9b5ee75c' title='Show/Hide attributes'><svg class='icon xr-icon-file-text2'><use xlink:href='#icon-file-text2'></use></svg></label><input id='data-bcc50f03-6435-4ebf-b8f2-c6e88d27dd85' class='xr-var-data-in' type='checkbox'><label for='data-bcc50f03-6435-4ebf-b8f2-c6e88d27dd85' title='Show/Hide data repr'><svg class='icon xr-icon-database'><use xlink:href='#icon-database'></use></svg></label><div class='xr-var-attrs'><dl class='xr-attrs'><dt><span>long_name :</span></dt><dd>standard deviation of cloud top height values</dd><dt><span>standard_name :</span></dt><dd>geopotential_height_at_cloud_top</dd><dt><span>units :</span></dt><dd>m</dd><dt><span>grid_mapping :</span></dt><dd>goes_imager_projection</dd><dt><span>cell_methods :</span></dt><dd>local_zenith_angle: sum solar_zenith_angle: sum t: sum area: standard_deviation (interval: 0.000280  rad comment: good quality pixels only) where cloud</dd></dl></div><div class='xr-var-data'><pre>[1 values with dtype=float32]</pre></div></li><li class='xr-var-item'><div class='xr-var-name'><span>algorithm_dynamic_input_data_container</span></div><div class='xr-var-dims'>()</div><div class='xr-var-dtype'>int32</div><div class='xr-var-preview xr-preview'>...</div><input id='attrs-dbfd9ebe-e80f-4c98-b4e2-4f6e8347a577' class='xr-var-attrs-in' type='checkbox' ><label for='attrs-dbfd9ebe-e80f-4c98-b4e2-4f6e8347a577' title='Show/Hide attributes'><svg class='icon xr-icon-file-text2'><use xlink:href='#icon-file-text2'></use></svg></label><input id='data-67412e91-bd2a-4d9a-a53d-1f445da6e283' class='xr-var-data-in' type='checkbox'><label for='data-67412e91-bd2a-4d9a-a53d-1f445da6e283' title='Show/Hide data repr'><svg class='icon xr-icon-database'><use xlink:href='#icon-database'></use></svg></label><div class='xr-var-attrs'><dl class='xr-attrs'><dt><span>long_name :</span></dt><dd>container for filenames of dynamic algorithm input data</dd><dt><span>input_ABI_L1b_radiance_band_14_2km_data :</span></dt><dd>OR_ABI-L1b-RADC-M6C14_G16_s20202141801156_e20202141803528_c*.nc</dd><dt><span>input_ABI_L2_brightness_temperature_band_14_2km_data :</span></dt><dd>OR_ABI-L2-CMIPC-M6C14_G16_s20202141801156_e20202141803528_c*.nc</dd><dt><span>input_ABI_L2_brightness_temperature_band_15_2km_data :</span></dt><dd>OR_ABI-L2-CMIPC-M6C15_G16_s20202141801156_e20202141803528_c*.nc</dd><dt><span>input_ABI_L2_brightness_temperature_band_16_2km_data :</span></dt><dd>OR_ABI-L2-CMIPC-M6C16_G16_s20202141801156_e20202141803528_c*.nc</dd><dt><span>input_ABI_L2_intermediate_product_4_level_cloud_mask_data :</span></dt><dd>null</dd><dt><span>input_ABI_L2_intermediate_product_cloud_type_data :</span></dt><dd>null</dd><dt><span>input_ABI_L2_intermediate_product_CRTM_clear_sky_radiance_band_14_data :</span></dt><dd>null</dd><dt><span>input_ABI_L2_intermediate_product_CRTM_clear_sky_radiance_band_15_data :</span></dt><dd>null</dd><dt><span>input_ABI_L2_intermediate_product_CRTM_clear_sky_radiance_band_16_data :</span></dt><dd>null</dd><dt><span>input_ABI_L2_intermediate_product_CRTM_clear_sky_radiance_band_14_profile_data :</span></dt><dd>null</dd><dt><span>input_ABI_L2_intermediate_product_CRTM_clear_sky_radiance_band_15_profile_data :</span></dt><dd>null</dd><dt><span>input_ABI_L2_intermediate_product_CRTM_clear_sky_radiance_band_16_profile_data :</span></dt><dd>null</dd><dt><span>input_ABI_L2_intermediate_product_CRTM_clear_sky_transmittance_band_14_profile_data :</span></dt><dd>null</dd><dt><span>input_ABI_L2_intermediate_product_CRTM_clear_sky_transmittance_band_15_profile_data :</span></dt><dd>null</dd><dt><span>input_ABI_L2_intermediate_product_CRTM_clear_sky_transmittance_band_16_profile_data :</span></dt><dd>null</dd><dt><span>input_ABI_L2_intermediate_product_CRTM_cloudy_sky_radiance_band_14_profile_data :</span></dt><dd>null</dd><dt><span>input_ABI_L2_intermediate_product_CRTM_cloudy_sky_radiance_band_15_profile_data :</span></dt><dd>null</dd><dt><span>input_ABI_L2_intermediate_product_CRTM_cloudy_sky_radiance_band_16_profile_data :</span></dt><dd>null</dd><dt><span>input_dynamic_ancillary_NWP_surface_pressure_data :</span></dt><dd>null</dd><dt><span>input_dynamic_ancillary_NWP_surface_temperature_data :</span></dt><dd>null</dd><dt><span>input_dynamic_ancillary_NWP_tropopause_temperature_data :</span></dt><dd>null</dd><dt><span>input_dynamic_ancillary_NWP_temperature_profile_data :</span></dt><dd>null</dd><dt><span>input_dynamic_ancillary_NWP_temperature_inversion_profile_data :</span></dt><dd>null</dd><dt><span>input_dynamic_ancillary_NWP_geopotential_height_profile_data :</span></dt><dd>null</dd><dt><span>input_dynamic_ancillary_NWP_pressure_profile_data :</span></dt><dd>null</dd><dt><span>input_dynamic_ancillary_NWP_surface_level_index_data :</span></dt><dd>null</dd><dt><span>input_dynamic_ancillary_NWP_tropopause_level_index_data :</span></dt><dd>null</dd></dl></div><div class='xr-var-data'><pre>[1 values with dtype=int32]</pre></div></li><li class='xr-var-item'><div class='xr-var-name'><span>processing_parm_version_container</span></div><div class='xr-var-dims'>()</div><div class='xr-var-dtype'>int32</div><div class='xr-var-preview xr-preview'>...</div><input id='attrs-cc76b3b0-cf2e-4489-863a-a64a9c0897b1' class='xr-var-attrs-in' type='checkbox' ><label for='attrs-cc76b3b0-cf2e-4489-863a-a64a9c0897b1' title='Show/Hide attributes'><svg class='icon xr-icon-file-text2'><use xlink:href='#icon-file-text2'></use></svg></label><input id='data-e9492c76-7777-479f-95c4-cd2d3f9d2d1b' class='xr-var-data-in' type='checkbox'><label for='data-e9492c76-7777-479f-95c4-cd2d3f9d2d1b' title='Show/Hide data repr'><svg class='icon xr-icon-database'><use xlink:href='#icon-database'></use></svg></label><div class='xr-var-attrs'><dl class='xr-attrs'><dt><span>long_name :</span></dt><dd>container for processing parameter filenames</dd><dt><span>L2_processing_parm_version :</span></dt><dd>OR-PARM-ACH_v01r00.zip, OR-PARM-SEMISTATIC_v01r00.zip, OR-PARM-ANCILLARY_v01r00.zip, OR-PARM-AUXILIARY_v01r00.zip</dd></dl></div><div class='xr-var-data'><pre>[1 values with dtype=int32]</pre></div></li><li class='xr-var-item'><div class='xr-var-name'><span>algorithm_product_version_container</span></div><div class='xr-var-dims'>()</div><div class='xr-var-dtype'>int32</div><div class='xr-var-preview xr-preview'>...</div><input id='attrs-28c7d726-208a-48ad-a651-8983bd0c55c8' class='xr-var-attrs-in' type='checkbox' ><label for='attrs-28c7d726-208a-48ad-a651-8983bd0c55c8' title='Show/Hide attributes'><svg class='icon xr-icon-file-text2'><use xlink:href='#icon-file-text2'></use></svg></label><input id='data-35311fcd-9be7-4962-af3d-9663e4c23b94' class='xr-var-data-in' type='checkbox'><label for='data-35311fcd-9be7-4962-af3d-9663e4c23b94' title='Show/Hide data repr'><svg class='icon xr-icon-database'><use xlink:href='#icon-database'></use></svg></label><div class='xr-var-attrs'><dl class='xr-attrs'><dt><span>long_name :</span></dt><dd>container for algorithm package filename and product version</dd><dt><span>algorithm_version :</span></dt><dd>OR_ABI-L2-ALG-ACH_v01r00.zip</dd><dt><span>product_version :</span></dt><dd>v01r00</dd></dl></div><div class='xr-var-data'><pre>[1 values with dtype=int32]</pre></div></li><li class='xr-var-item'><div class='xr-var-name'><span>local_zenith_angle_bounds</span></div><div class='xr-var-dims'>(number_of_LZA_bounds)</div><div class='xr-var-dtype'>float32</div><div class='xr-var-preview xr-preview'>...</div><input id='attrs-801085c5-653b-4e1b-9b61-3f4a24acccbc' class='xr-var-attrs-in' type='checkbox' ><label for='attrs-801085c5-653b-4e1b-9b61-3f4a24acccbc' title='Show/Hide attributes'><svg class='icon xr-icon-file-text2'><use xlink:href='#icon-file-text2'></use></svg></label><input id='data-f3808c25-66d5-4749-9df0-ae36e7c1f110' class='xr-var-data-in' type='checkbox'><label for='data-f3808c25-66d5-4749-9df0-ae36e7c1f110' title='Show/Hide data repr'><svg class='icon xr-icon-database'><use xlink:href='#icon-database'></use></svg></label><div class='xr-var-attrs'><dl class='xr-attrs'><dt><span>long_name :</span></dt><dd>local zenith angle degree range where good quality cloud top temperature, pressure and height data is produced</dd></dl></div><div class='xr-var-data'><pre>[2 values with dtype=float32]</pre></div></li><li class='xr-var-item'><div class='xr-var-name'><span>solar_zenith_angle_bounds</span></div><div class='xr-var-dims'>(number_of_SZA_bounds)</div><div class='xr-var-dtype'>float32</div><div class='xr-var-preview xr-preview'>...</div><input id='attrs-b50feb3f-5f49-4413-a26e-aab03dc74a70' class='xr-var-attrs-in' type='checkbox' ><label for='attrs-b50feb3f-5f49-4413-a26e-aab03dc74a70' title='Show/Hide attributes'><svg class='icon xr-icon-file-text2'><use xlink:href='#icon-file-text2'></use></svg></label><input id='data-38c1503e-1485-4875-a0ca-4de5279bd0b4' class='xr-var-data-in' type='checkbox'><label for='data-38c1503e-1485-4875-a0ca-4de5279bd0b4' title='Show/Hide data repr'><svg class='icon xr-icon-database'><use xlink:href='#icon-database'></use></svg></label><div class='xr-var-attrs'><dl class='xr-attrs'><dt><span>long_name :</span></dt><dd>solar zenith angle degree range where good quality cloud top temperature, pressure and height data is produced</dd></dl></div><div class='xr-var-data'><pre>[2 values with dtype=float32]</pre></div></li><li class='xr-var-item'><div class='xr-var-name'><span>percent_uncorrectable_GRB_errors</span></div><div class='xr-var-dims'>()</div><div class='xr-var-dtype'>float32</div><div class='xr-var-preview xr-preview'>...</div><input id='attrs-d90b7be6-7c9b-4be8-853a-1fd94c219cd0' class='xr-var-attrs-in' type='checkbox' ><label for='attrs-d90b7be6-7c9b-4be8-853a-1fd94c219cd0' title='Show/Hide attributes'><svg class='icon xr-icon-file-text2'><use xlink:href='#icon-file-text2'></use></svg></label><input id='data-6855b4c3-04be-4da2-bab2-b7e7b0b570f0' class='xr-var-data-in' type='checkbox'><label for='data-6855b4c3-04be-4da2-bab2-b7e7b0b570f0' title='Show/Hide data repr'><svg class='icon xr-icon-database'><use xlink:href='#icon-database'></use></svg></label><div class='xr-var-attrs'><dl class='xr-attrs'><dt><span>long_name :</span></dt><dd>percent data lost due to uncorrectable GRB errors</dd><dt><span>valid_range :</span></dt><dd>[0. 1.]</dd><dt><span>units :</span></dt><dd>percent</dd><dt><span>grid_mapping :</span></dt><dd>goes_imager_projection</dd><dt><span>cell_methods :</span></dt><dd>t: sum area: sum (uncorrectable GRB errors only)</dd></dl></div><div class='xr-var-data'><pre>[1 values with dtype=float32]</pre></div></li><li class='xr-var-item'><div class='xr-var-name'><span>percent_uncorrectable_L0_errors</span></div><div class='xr-var-dims'>()</div><div class='xr-var-dtype'>float32</div><div class='xr-var-preview xr-preview'>...</div><input id='attrs-e02838f0-0c40-45d3-bc0b-336cab64ef23' class='xr-var-attrs-in' type='checkbox' ><label for='attrs-e02838f0-0c40-45d3-bc0b-336cab64ef23' title='Show/Hide attributes'><svg class='icon xr-icon-file-text2'><use xlink:href='#icon-file-text2'></use></svg></label><input id='data-b4a6a79d-35c3-42e2-a038-fe80ee279ae9' class='xr-var-data-in' type='checkbox'><label for='data-b4a6a79d-35c3-42e2-a038-fe80ee279ae9' title='Show/Hide data repr'><svg class='icon xr-icon-database'><use xlink:href='#icon-database'></use></svg></label><div class='xr-var-attrs'><dl class='xr-attrs'><dt><span>long_name :</span></dt><dd>percent data lost due to uncorrectable L0 errors</dd><dt><span>valid_range :</span></dt><dd>[0. 1.]</dd><dt><span>units :</span></dt><dd>percent</dd><dt><span>grid_mapping :</span></dt><dd>goes_imager_projection</dd><dt><span>cell_methods :</span></dt><dd>t: sum area: sum (uncorrectable L0 errors only)</dd></dl></div><div class='xr-var-data'><pre>[1 values with dtype=float32]</pre></div></li><li class='xr-var-item'><div class='xr-var-name'><span>cloud_pixels</span></div><div class='xr-var-dims'>()</div><div class='xr-var-dtype'>float64</div><div class='xr-var-preview xr-preview'>...</div><input id='attrs-1b399e60-1f57-4ffc-9feb-b925bfec291f' class='xr-var-attrs-in' type='checkbox' ><label for='attrs-1b399e60-1f57-4ffc-9feb-b925bfec291f' title='Show/Hide attributes'><svg class='icon xr-icon-file-text2'><use xlink:href='#icon-file-text2'></use></svg></label><input id='data-a61ec4e0-ab3a-4413-bf4e-be58b190abcd' class='xr-var-data-in' type='checkbox'><label for='data-a61ec4e0-ab3a-4413-bf4e-be58b190abcd' title='Show/Hide data repr'><svg class='icon xr-icon-database'><use xlink:href='#icon-database'></use></svg></label><div class='xr-var-attrs'><dl class='xr-attrs'><dt><span>long_name :</span></dt><dd>number of cloudy or probably cloudy pixels</dd><dt><span>units :</span></dt><dd>count</dd><dt><span>grid_mapping :</span></dt><dd>goes_imager_projection</dd><dt><span>cell_methods :</span></dt><dd>t: sum area: sum (interval: 0.000056 rad comment: based on temporally coincident intermediate 4-level cloud mask produced by clear sky mask algorithm) where cloud</dd></dl></div><div class='xr-var-data'><pre>[1 values with dtype=float64]</pre></div></li></ul></div></li><li class='xr-section-item'><input id='section-c46ddd86-4221-4f36-af90-244aa46577f3' class='xr-section-summary-in' type='checkbox'  ><label for='section-c46ddd86-4221-4f36-af90-244aa46577f3' class='xr-section-summary' >Indexes: <span>(2)</span></label><div class='xr-section-inline-details'></div><div class='xr-section-details'><ul class='xr-var-list'><li class='xr-var-item'><div class='xr-index-name'><div>y</div></div><div class='xr-index-preview'>PandasIndex</div><div></div><input id='index-252bc43d-61c7-465a-86ce-2bd67a9eeaee' class='xr-index-data-in' type='checkbox'/><label for='index-252bc43d-61c7-465a-86ce-2bd67a9eeaee' title='Show/Hide index repr'><svg class='icon xr-icon-database'><use xlink:href='#icon-database'></use></svg></label><div class='xr-index-data'><pre>PandasIndex(Index([ 0.12809999287128448,  0.12781999286380596,  0.12753999285632744,\n",
       "        0.12725999284884892,   0.1269799928413704,  0.12669999283389188,\n",
       "        0.12641999282641336,  0.12613999281893484,  0.12585999281145632,\n",
       "         0.1255799928039778,\n",
       "       ...\n",
       "       0.046899990702513605, 0.046619990695035085, 0.046339990687556565,\n",
       "       0.046059990680078045, 0.045779990672599524, 0.045499990665121004,\n",
       "       0.045219990657642484,  0.04493999065016396,  0.04465999064268544,\n",
       "        0.04437999063520692],\n",
       "      dtype=&#x27;float64&#x27;, name=&#x27;y&#x27;, length=300))</pre></div></li><li class='xr-var-item'><div class='xr-index-name'><div>x</div></div><div class='xr-index-preview'>PandasIndex</div><div></div><input id='index-b5032281-09fc-4e8a-ac0b-e555b29ff14b' class='xr-index-data-in' type='checkbox'/><label for='index-b5032281-09fc-4e8a-ac0b-e555b29ff14b' title='Show/Hide index repr'><svg class='icon xr-icon-database'><use xlink:href='#icon-database'></use></svg></label><div class='xr-index-data'><pre>PandasIndex(Index([-0.10121999680995941, -0.10093999680248089, -0.10065999679500237,\n",
       "       -0.10037999678752385, -0.10009999678004533, -0.09981999677256681,\n",
       "       -0.09953999676508829, -0.09925999675760977, -0.09897999675013125,\n",
       "       -0.09869999674265273,\n",
       "       ...\n",
       "        0.03598000685451552,  0.03626000686199404,  0.03654000686947256,\n",
       "       0.036820006876951084, 0.037100006884429604, 0.037380006891908124,\n",
       "       0.037660006899386644, 0.037940006906865165, 0.038220006914343685,\n",
       "       0.038500006921822205],\n",
       "      dtype=&#x27;float64&#x27;, name=&#x27;x&#x27;, length=500))</pre></div></li></ul></div></li><li class='xr-section-item'><input id='section-e2c0c642-d965-46be-935e-b97e280017be' class='xr-section-summary-in' type='checkbox'  ><label for='section-e2c0c642-d965-46be-935e-b97e280017be' class='xr-section-summary' >Attributes: <span>(29)</span></label><div class='xr-section-inline-details'></div><div class='xr-section-details'><dl class='xr-attrs'><dt><span>naming_authority :</span></dt><dd>gov.nesdis.noaa</dd><dt><span>Conventions :</span></dt><dd>CF-1.7</dd><dt><span>Metadata_Conventions :</span></dt><dd>Unidata Dataset Discovery v1.0</dd><dt><span>standard_name_vocabulary :</span></dt><dd>CF Standard Name Table (v35, 20 July 2016)</dd><dt><span>institution :</span></dt><dd>DOC/NOAA/NESDIS &gt; U.S. Department of Commerce, National Oceanic and Atmospheric Administration, National Environmental Satellite, Data, and Information Services</dd><dt><span>project :</span></dt><dd>GOES</dd><dt><span>production_site :</span></dt><dd>NSOF</dd><dt><span>production_environment :</span></dt><dd>OE</dd><dt><span>spatial_resolution :</span></dt><dd>10km at nadir</dd><dt><span>orbital_slot :</span></dt><dd>GOES-East</dd><dt><span>platform_ID :</span></dt><dd>G16</dd><dt><span>instrument_type :</span></dt><dd>GOES R Series Advanced Baseline Imager</dd><dt><span>scene_id :</span></dt><dd>CONUS</dd><dt><span>instrument_ID :</span></dt><dd>FM1</dd><dt><span>dataset_name :</span></dt><dd>OR_ABI-L2-ACHAC-M6_G16_s20202141801156_e20202141803528_c20202141806053.nc</dd><dt><span>iso_series_metadata_id :</span></dt><dd>4571d650-b00c-11e1-afa6-0800200c9a66</dd><dt><span>title :</span></dt><dd>ABI L2 Cloud Top Height</dd><dt><span>summary :</span></dt><dd>The Cloud Top Height product consists of the height at the top of clouds. The product is derived using a physical retrieval composed of a radiative transfer model that calculates clear sky radiances, which is then used to compute the air temperature at cloud top. Product data is generated both day and night.</dd><dt><span>keywords :</span></dt><dd>ATMOSPHERE &gt; CLOUDS &gt; CLOUD HEIGHT</dd><dt><span>keywords_vocabulary :</span></dt><dd>NASA Global Change Master Directory (GCMD) Earth Science Keywords, Version 7.0.0.0.0</dd><dt><span>license :</span></dt><dd>Unclassified data.  Access is restricted to approved users only.</dd><dt><span>processing_level :</span></dt><dd>National Aeronautics and Space Administration (NASA) L2</dd><dt><span>date_created :</span></dt><dd>2020-08-01T18:06:05.3Z</dd><dt><span>cdm_data_type :</span></dt><dd>Image</dd><dt><span>time_coverage_start :</span></dt><dd>2020-08-01T18:01:15.6Z</dd><dt><span>time_coverage_end :</span></dt><dd>2020-08-01T18:03:52.8Z</dd><dt><span>timeline_id :</span></dt><dd>ABI Mode 6</dd><dt><span>production_data_source :</span></dt><dd>Realtime</dd><dt><span>id :</span></dt><dd>f17e7a36-2737-4d90-87e7-938da9dd43cc</dd></dl></div></li></ul></div></div>"
      ],
      "text/plain": [
       "<xarray.Dataset>\n",
       "Dimensions:                                 (y: 300, x: 500,\n",
       "                                             number_of_time_bounds: 2,\n",
       "                                             number_of_image_bounds: 2,\n",
       "                                             number_of_LZA_bounds: 2,\n",
       "                                             number_of_SZA_bounds: 2)\n",
       "Coordinates:\n",
       "    t                                       datetime64[ns] ...\n",
       "  * y                                       (y) float64 0.1281 ... 0.04438\n",
       "  * x                                       (x) float64 -0.1012 ... 0.0385\n",
       "    y_image                                 float32 ...\n",
       "    x_image                                 float32 ...\n",
       "    local_zenith_angle                      float32 ...\n",
       "    solar_zenith_angle                      float32 ...\n",
       "Dimensions without coordinates: number_of_time_bounds, number_of_image_bounds,\n",
       "                                number_of_LZA_bounds, number_of_SZA_bounds\n",
       "Data variables: (12/23)\n",
       "    HT                                      (y, x) float32 ...\n",
       "    DQF                                     (y, x) float32 ...\n",
       "    time_bounds                             (number_of_time_bounds) datetime64[ns] ...\n",
       "    goes_imager_projection                  int32 ...\n",
       "    y_image_bounds                          (number_of_image_bounds) float32 ...\n",
       "    x_image_bounds                          (number_of_image_bounds) float32 ...\n",
       "    ...                                      ...\n",
       "    algorithm_product_version_container     int32 ...\n",
       "    local_zenith_angle_bounds               (number_of_LZA_bounds) float32 ...\n",
       "    solar_zenith_angle_bounds               (number_of_SZA_bounds) float32 ...\n",
       "    percent_uncorrectable_GRB_errors        float32 ...\n",
       "    percent_uncorrectable_L0_errors         float32 ...\n",
       "    cloud_pixels                            float64 ...\n",
       "Attributes: (12/29)\n",
       "    naming_authority:          gov.nesdis.noaa\n",
       "    Conventions:               CF-1.7\n",
       "    Metadata_Conventions:      Unidata Dataset Discovery v1.0\n",
       "    standard_name_vocabulary:  CF Standard Name Table (v35, 20 July 2016)\n",
       "    institution:               DOC/NOAA/NESDIS > U.S. Department of Commerce,...\n",
       "    project:                   GOES\n",
       "    ...                        ...\n",
       "    cdm_data_type:             Image\n",
       "    time_coverage_start:       2020-08-01T18:01:15.6Z\n",
       "    time_coverage_end:         2020-08-01T18:03:52.8Z\n",
       "    timeline_id:               ABI Mode 6\n",
       "    production_data_source:    Realtime\n",
       "    id:                        f17e7a36-2737-4d90-87e7-938da9dd43cc"
      ]
     },
     "execution_count": 19,
     "metadata": {},
     "output_type": "execute_result"
    }
   ],
   "source": [
    "ds"
   ]
  },
  {
   "cell_type": "code",
   "execution_count": 20,
   "id": "0153f632-8a2f-4a28-9f54-32f70564c43c",
   "metadata": {
    "execution": {
     "iopub.execute_input": "2023-08-24T21:13:13.281996Z",
     "iopub.status.busy": "2023-08-24T21:13:13.281165Z",
     "iopub.status.idle": "2023-08-24T21:13:13.562814Z",
     "shell.execute_reply": "2023-08-24T21:13:13.561469Z",
     "shell.execute_reply.started": "2023-08-24T21:13:13.281934Z"
    }
   },
   "outputs": [
    {
     "name": "stdout",
     "output_type": "stream",
     "text": [
      "product name: ABI-L2-ACHAC-M6\n"
     ]
    },
    {
     "ename": "GoesExceptionVerionNotRecognized",
     "evalue": "The version of this product (M6) has not been tested and might return false results.",
     "output_type": "error",
     "traceback": [
      "\u001b[0;31m---------------------------------------------------------------------------\u001b[0m",
      "\u001b[0;31mGoesExceptionVerionNotRecognized\u001b[0m          Traceback (most recent call last)",
      "Cell \u001b[0;32mIn[20], line 1\u001b[0m\n\u001b[0;32m----> 1\u001b[0m sat_ds \u001b[38;5;241m=\u001b[39m \u001b[43mngs\u001b[49m\u001b[38;5;241;43m.\u001b[39;49m\u001b[43mopen_file\u001b[49m\u001b[43m(\u001b[49m\u001b[43mfn\u001b[49m\u001b[43m,\u001b[49m\u001b[43m \u001b[49m\u001b[43mverbose\u001b[49m\u001b[38;5;241;43m=\u001b[39;49m\u001b[38;5;28;43;01mTrue\u001b[39;49;00m\u001b[43m)\u001b[49m\n",
      "File \u001b[0;32m/export/htelg/prog/nesdis_gml_synergy/nesdis_gml_synergy/satlab.py:122\u001b[0m, in \u001b[0;36mopen_file\u001b[0;34m(p2f, auto_assign_product, bypass_time_unit_error, extent, verbose)\u001b[0m\n\u001b[1;32m    120\u001b[0m         \u001b[38;5;28mprint\u001b[39m(\u001b[38;5;124m'\u001b[39m\u001b[38;5;124midentified as: ABI_L2_ADP.\u001b[39m\u001b[38;5;124m'\u001b[39m)\n\u001b[1;32m    121\u001b[0m \u001b[38;5;28;01melif\u001b[39;00m product_name[:\u001b[38;5;241m-\u001b[39m\u001b[38;5;241m4\u001b[39m] \u001b[38;5;241m==\u001b[39m \u001b[38;5;124m'\u001b[39m\u001b[38;5;124mABI-L2-ACHA\u001b[39m\u001b[38;5;124m'\u001b[39m:\n\u001b[0;32m--> 122\u001b[0m     classinst \u001b[38;5;241m=\u001b[39m \u001b[43mABI_L2_ACHA\u001b[49m\u001b[43m(\u001b[49m\u001b[43mds\u001b[49m\u001b[43m)\u001b[49m\n\u001b[1;32m    123\u001b[0m     \u001b[38;5;28;01mif\u001b[39;00m verbose:\n\u001b[1;32m    124\u001b[0m         \u001b[38;5;28mprint\u001b[39m(\u001b[38;5;124m'\u001b[39m\u001b[38;5;124midentified as: ABI_L2_ACHA.\u001b[39m\u001b[38;5;124m'\u001b[39m)\n",
      "File \u001b[0;32m/export/htelg/prog/nesdis_gml_synergy/nesdis_gml_synergy/satlab.py:2218\u001b[0m, in \u001b[0;36mABI_L2_ACHA.__init__\u001b[0;34m(self, *args)\u001b[0m\n\u001b[1;32m   2212\u001b[0m     \u001b[38;5;28mself\u001b[39m\u001b[38;5;241m.\u001b[39mqf_managment \u001b[38;5;241m=\u001b[39m QfManagment(\u001b[38;5;28mself\u001b[39m, \n\u001b[1;32m   2213\u001b[0m                                     qf_representation\u001b[38;5;241m=\u001b[39m\u001b[38;5;124m'\u001b[39m\u001b[38;5;124mas_is\u001b[39m\u001b[38;5;124m'\u001b[39m, \n\u001b[1;32m   2214\u001b[0m                                     global_qf\u001b[38;5;241m=\u001b[39m global_qf, \n\u001b[1;32m   2215\u001b[0m                                    )\n\u001b[1;32m   2217\u001b[0m \u001b[38;5;28;01melse\u001b[39;00m:\n\u001b[0;32m-> 2218\u001b[0m     \u001b[38;5;28;01mraise\u001b[39;00m GoesExceptionVerionNotRecognized(\u001b[38;5;28mself\u001b[39m)\n",
      "\u001b[0;31mGoesExceptionVerionNotRecognized\u001b[0m: The version of this product (M6) has not been tested and might return false results."
     ]
    }
   ],
   "source": [
    "sat_ds = ngs.open_file(fn, verbose=True)"
   ]
  },
  {
   "cell_type": "code",
   "execution_count": null,
   "id": "6cc145a7-75b1-47b8-b951-ce0b8b8e4fef",
   "metadata": {},
   "outputs": [],
   "source": [
    "sat_ds.valid_2D_variables"
   ]
  },
  {
   "cell_type": "code",
   "execution_count": null,
   "id": "ff73dc3a-83e0-446e-8ab2-287e7279d4bc",
   "metadata": {},
   "outputs": [],
   "source": [
    "list(sat_ds.ds.variables)"
   ]
  },
  {
   "cell_type": "code",
   "execution_count": null,
   "id": "a40488e5-dafb-480a-9121-9d36f95d6f0a",
   "metadata": {},
   "outputs": [],
   "source": [
    "proj = sat_ds.project_on_sites(stations)"
   ]
  },
  {
   "cell_type": "code",
   "execution_count": null,
   "id": "59b4fb99-dc87-4e4b-b6a5-97a42fd3f08d",
   "metadata": {},
   "outputs": [],
   "source": [
    "proj.projection2area.sel(site = 'BND', stats = 'mean', radius = 50, \n",
    "                         # data_quality = 'good'\n",
    "                        )"
   ]
  },
  {
   "cell_type": "code",
   "execution_count": null,
   "id": "b58eff27-ccb9-451a-9917-0b538c2d0ed9",
   "metadata": {},
   "outputs": [],
   "source": [
    "proj.projection2point"
   ]
  },
  {
   "cell_type": "markdown",
   "id": "fb6f35e6-c973-4a38-a24c-9fc555f1448f",
   "metadata": {},
   "source": [
    "# Plot on map"
   ]
  },
  {
   "cell_type": "code",
   "execution_count": null,
   "id": "cdd09fa9-421b-40a7-a22b-067b264d79f2",
   "metadata": {},
   "outputs": [],
   "source": [
    "scale = 0.5\n",
    "width=2800000 *scale\n",
    "height=1700000 * scale\n",
    "a, bmap = surfrad.network.stations.Table_Mountain.plot(width=width, height=height)\n",
    "bmap, pc, cb = sat_ds.plot('Temp', bmap = bmap)\n",
    "bmap.drawcounties()\n",
    "# f = plt.gcf()\n",
    "# pc.set_clim(vmax= 10)"
   ]
  },
  {
   "cell_type": "markdown",
   "id": "ac5d7f8e-0867-4299-b52c-af66d2a4f3c2",
   "metadata": {},
   "source": [
    "# Download and project"
   ]
  },
  {
   "cell_type": "code",
   "execution_count": 24,
   "id": "3b0fc0ab-2e7e-4e12-8c07-a3ec009cad4c",
   "metadata": {},
   "outputs": [
    {
     "data": {
      "text/plain": [
       "15300"
      ]
     },
     "execution_count": 24,
     "metadata": {},
     "output_type": "execute_result"
    }
   ],
   "source": [
    "import pathlib as pl\n",
    "import nesdis_aws\n",
    "import nesdis_gml_synergy.satlab as ngs\n",
    "import atmPy.data_archives.NOAA_ESRL_GMD_GRAD.surfrad.surfrad as surfrad\n",
    "import os\n",
    "os.getpid()"
   ]
  },
  {
   "cell_type": "code",
   "execution_count": 25,
   "id": "5d16d65c-5558-413e-bf30-97ed59f838b1",
   "metadata": {},
   "outputs": [],
   "source": [
    "import atmPy.data_archives.NOAA_ESRL_GMD_GRAD.surfrad.surfrad as surfrad\n",
    "\n",
    "stations = surfrad.network.stations"
   ]
  },
  {
   "cell_type": "code",
   "execution_count": 26,
   "id": "2c3d38a7-77d3-4b29-9955-59f1ee3b9acd",
   "metadata": {},
   "outputs": [],
   "source": [
    "def function(row, stations):#, alt_var = None):\n",
    "    # if isinstance(alt_var, type(None)):\n",
    "    #     alt_var = variable\n",
    "    # read the file\n",
    "    ngsinst = ngs.open_file(row.path2file_local)\n",
    "    \n",
    "    # project to stations\n",
    "    projection = ngsinst.project_on_sites(stations)\n",
    "\n",
    "    # merge closest gridpoint and area\n",
    "    point = projection.projection2point.copy()#.sel(site = 'TBL')\n",
    "    point['DQF'] = point.DQF.astype(int) # for some reason this was float64... because there are some nans in there\n",
    "    \n",
    "    # change var names to distinguish from area\n",
    "    for var in ngsinst.valid_2D_variables:\n",
    "        point = point.rename({var: f'{var}_on_pixel',})\n",
    "    point = point.rename({'DQF': 'DQF_on_pixel'})\n",
    "    \n",
    "    # merge aerea and point\n",
    "    ds = projection.projection2area.merge(point)#.rename({alt_var: f'{alt_var}_on_pixel', 'DQF': 'DQF_on_pixel'}))\n",
    "    \n",
    "    # add a time stamp\n",
    "    dt = pd.Series([pd.to_datetime(ngsinst.ds.attrs['time_coverage_start']), pd.to_datetime(ngsinst.ds.attrs['time_coverage_end'])]).mean().to_datetime64()\n",
    "    ds = ds.expand_dims({'datetime': [dt]}, )\n",
    "    \n",
    "    # there was another time coordinate without dimention though ... dropit\n",
    "    ds = ds.drop_vars('t')\n",
    "\n",
    "    # global attribute\n",
    "    ds.attrs['info'] = ('This file contains a projection of satellite data onto SURFRAD sites.\\n'\n",
    "                         'It includes the closest pixel data as well as the average over circular\\n'\n",
    "                         'areas with various radii. Note, for the averaged data only data is\\n'\n",
    "                         'considered with a qulity flag given by the prooduct class in the\\n'\n",
    "                         'nesdis_gml_synergy package.')\n",
    "    \n",
    "\n",
    "    # save2file\n",
    "    ds.to_netcdf(row.path2file_local_processed)\n",
    "    return "
   ]
  },
  {
   "cell_type": "code",
   "execution_count": 27,
   "id": "011ecaa7-3322-4f4a-98b6-5d8b1f01b41e",
   "metadata": {},
   "outputs": [],
   "source": [
    "product = 'ACHA'\n",
    "# alt_var = 'BCM'# None, if the varialbe name is not equal to product name\n",
    "query = nesdis_aws.nesdis_aws.AwsQuery(\n",
    "                                        path2folder_local=f'/nfs/stu3data2/Satellite_data/goes/16/ABI_L2_{product}/',\n",
    "                                        satellite='16',\n",
    "                                        product=f'ABI-L2-{product}',\n",
    "                                        scan_sector='C',\n",
    "                                        # start='2020-03-01 18:00:00',\n",
    "                                        # end='2020-03-01 18:05:00',\n",
    "                                        start='2020-03-01 00:00:00',\n",
    "                                        end='2020-06-01 00:00:00',\n",
    "                                        # start='2018-08-01 00:00:00',\n",
    "                                        # end='2018-11-01 00:00:00',\n",
    "                                        process = dict(#concatenate = 'daily',\n",
    "                                                       function = lambda row: function(row, stations), #,, alt_var),\n",
    "                                                       prefix = f'ABI_L2_{product}_projected2surfrad',\n",
    "                                                       path2processed = f'/nfs/stu3data2/Satellite_data/goes/16/ABI_L2_{product}_projected2surfrad/'),\n",
    "                                        # keep_files=True\n",
    "                                      )\n",
    "\n",
    "# pl.Path(f'/nfs/stu3data2/Satellite_data/goes/16/ABI_L2_{product}').mkdir()\n",
    "# pl.Path(f'/nfs/stu3data2/Satellite_data/goes/16/ABI_L2_{product}_projected2surfrad/').mkdir()"
   ]
  },
  {
   "cell_type": "code",
   "execution_count": 28,
   "id": "4a9e15cd-a4a2-4a9c-b876-9d7bb6bf7224",
   "metadata": {},
   "outputs": [
    {
     "data": {
      "text/html": [
       "<div>\n",
       "<style scoped>\n",
       "    .dataframe tbody tr th:only-of-type {\n",
       "        vertical-align: middle;\n",
       "    }\n",
       "\n",
       "    .dataframe tbody tr th {\n",
       "        vertical-align: top;\n",
       "    }\n",
       "\n",
       "    .dataframe thead th {\n",
       "        text-align: right;\n",
       "    }\n",
       "</style>\n",
       "<table border=\"1\" class=\"dataframe\">\n",
       "  <thead>\n",
       "    <tr style=\"text-align: right;\">\n",
       "      <th></th>\n",
       "      <th>path2file_aws</th>\n",
       "      <th>path2file_local</th>\n",
       "      <th>path2file_local_processed</th>\n",
       "    </tr>\n",
       "  </thead>\n",
       "  <tbody>\n",
       "  </tbody>\n",
       "</table>\n",
       "</div>"
      ],
      "text/plain": [
       "Empty DataFrame\n",
       "Columns: [path2file_aws, path2file_local, path2file_local_processed]\n",
       "Index: []"
      ]
     },
     "execution_count": 28,
     "metadata": {},
     "output_type": "execute_result"
    }
   ],
   "source": [
    "query.workplan"
   ]
  },
  {
   "cell_type": "code",
   "execution_count": 29,
   "id": "74edf4f0-d44d-4922-92a3-5128f5f2c708",
   "metadata": {},
   "outputs": [
    {
     "ename": "IndexError",
     "evalue": "single positional indexer is out-of-bounds",
     "output_type": "error",
     "traceback": [
      "\u001b[0;31m---------------------------------------------------------------------------\u001b[0m",
      "\u001b[0;31mIndexError\u001b[0m                                Traceback (most recent call last)",
      "\u001b[0;32m/tmp/ipykernel_15300/3836681405.py\u001b[0m in \u001b[0;36m<cell line: 1>\u001b[0;34m()\u001b[0m\n\u001b[0;32m----> 1\u001b[0;31m \u001b[0;32mfor\u001b[0m \u001b[0mi\u001b[0m \u001b[0;32min\u001b[0m \u001b[0mquery\u001b[0m\u001b[0;34m.\u001b[0m\u001b[0mworkplan\u001b[0m\u001b[0;34m.\u001b[0m\u001b[0miloc\u001b[0m\u001b[0;34m[\u001b[0m\u001b[0;36m0\u001b[0m\u001b[0;34m]\u001b[0m\u001b[0;34m:\u001b[0m\u001b[0;34m\u001b[0m\u001b[0;34m\u001b[0m\u001b[0m\n\u001b[0m\u001b[1;32m      2\u001b[0m     \u001b[0mprint\u001b[0m\u001b[0;34m(\u001b[0m\u001b[0mi\u001b[0m\u001b[0;34m)\u001b[0m\u001b[0;34m\u001b[0m\u001b[0;34m\u001b[0m\u001b[0m\n",
      "\u001b[0;32m/mnt/telg/programs/anaconda3/envs/py38/lib/python3.8/site-packages/pandas/core/indexing.py\u001b[0m in \u001b[0;36m__getitem__\u001b[0;34m(self, key)\u001b[0m\n\u001b[1;32m    965\u001b[0m \u001b[0;34m\u001b[0m\u001b[0m\n\u001b[1;32m    966\u001b[0m             \u001b[0mmaybe_callable\u001b[0m \u001b[0;34m=\u001b[0m \u001b[0mcom\u001b[0m\u001b[0;34m.\u001b[0m\u001b[0mapply_if_callable\u001b[0m\u001b[0;34m(\u001b[0m\u001b[0mkey\u001b[0m\u001b[0;34m,\u001b[0m \u001b[0mself\u001b[0m\u001b[0;34m.\u001b[0m\u001b[0mobj\u001b[0m\u001b[0;34m)\u001b[0m\u001b[0;34m\u001b[0m\u001b[0;34m\u001b[0m\u001b[0m\n\u001b[0;32m--> 967\u001b[0;31m             \u001b[0;32mreturn\u001b[0m \u001b[0mself\u001b[0m\u001b[0;34m.\u001b[0m\u001b[0m_getitem_axis\u001b[0m\u001b[0;34m(\u001b[0m\u001b[0mmaybe_callable\u001b[0m\u001b[0;34m,\u001b[0m \u001b[0maxis\u001b[0m\u001b[0;34m=\u001b[0m\u001b[0maxis\u001b[0m\u001b[0;34m)\u001b[0m\u001b[0;34m\u001b[0m\u001b[0;34m\u001b[0m\u001b[0m\n\u001b[0m\u001b[1;32m    968\u001b[0m \u001b[0;34m\u001b[0m\u001b[0m\n\u001b[1;32m    969\u001b[0m     \u001b[0;32mdef\u001b[0m \u001b[0m_is_scalar_access\u001b[0m\u001b[0;34m(\u001b[0m\u001b[0mself\u001b[0m\u001b[0;34m,\u001b[0m \u001b[0mkey\u001b[0m\u001b[0;34m:\u001b[0m \u001b[0mtuple\u001b[0m\u001b[0;34m)\u001b[0m\u001b[0;34m:\u001b[0m\u001b[0;34m\u001b[0m\u001b[0;34m\u001b[0m\u001b[0m\n",
      "\u001b[0;32m/mnt/telg/programs/anaconda3/envs/py38/lib/python3.8/site-packages/pandas/core/indexing.py\u001b[0m in \u001b[0;36m_getitem_axis\u001b[0;34m(self, key, axis)\u001b[0m\n\u001b[1;32m   1518\u001b[0m \u001b[0;34m\u001b[0m\u001b[0m\n\u001b[1;32m   1519\u001b[0m             \u001b[0;31m# validate the location\u001b[0m\u001b[0;34m\u001b[0m\u001b[0;34m\u001b[0m\u001b[0;34m\u001b[0m\u001b[0m\n\u001b[0;32m-> 1520\u001b[0;31m             \u001b[0mself\u001b[0m\u001b[0;34m.\u001b[0m\u001b[0m_validate_integer\u001b[0m\u001b[0;34m(\u001b[0m\u001b[0mkey\u001b[0m\u001b[0;34m,\u001b[0m \u001b[0maxis\u001b[0m\u001b[0;34m)\u001b[0m\u001b[0;34m\u001b[0m\u001b[0;34m\u001b[0m\u001b[0m\n\u001b[0m\u001b[1;32m   1521\u001b[0m \u001b[0;34m\u001b[0m\u001b[0m\n\u001b[1;32m   1522\u001b[0m             \u001b[0;32mreturn\u001b[0m \u001b[0mself\u001b[0m\u001b[0;34m.\u001b[0m\u001b[0mobj\u001b[0m\u001b[0;34m.\u001b[0m\u001b[0m_ixs\u001b[0m\u001b[0;34m(\u001b[0m\u001b[0mkey\u001b[0m\u001b[0;34m,\u001b[0m \u001b[0maxis\u001b[0m\u001b[0;34m=\u001b[0m\u001b[0maxis\u001b[0m\u001b[0;34m)\u001b[0m\u001b[0;34m\u001b[0m\u001b[0;34m\u001b[0m\u001b[0m\n",
      "\u001b[0;32m/mnt/telg/programs/anaconda3/envs/py38/lib/python3.8/site-packages/pandas/core/indexing.py\u001b[0m in \u001b[0;36m_validate_integer\u001b[0;34m(self, key, axis)\u001b[0m\n\u001b[1;32m   1450\u001b[0m         \u001b[0mlen_axis\u001b[0m \u001b[0;34m=\u001b[0m \u001b[0mlen\u001b[0m\u001b[0;34m(\u001b[0m\u001b[0mself\u001b[0m\u001b[0;34m.\u001b[0m\u001b[0mobj\u001b[0m\u001b[0;34m.\u001b[0m\u001b[0m_get_axis\u001b[0m\u001b[0;34m(\u001b[0m\u001b[0maxis\u001b[0m\u001b[0;34m)\u001b[0m\u001b[0;34m)\u001b[0m\u001b[0;34m\u001b[0m\u001b[0;34m\u001b[0m\u001b[0m\n\u001b[1;32m   1451\u001b[0m         \u001b[0;32mif\u001b[0m \u001b[0mkey\u001b[0m \u001b[0;34m>=\u001b[0m \u001b[0mlen_axis\u001b[0m \u001b[0;32mor\u001b[0m \u001b[0mkey\u001b[0m \u001b[0;34m<\u001b[0m \u001b[0;34m-\u001b[0m\u001b[0mlen_axis\u001b[0m\u001b[0;34m:\u001b[0m\u001b[0;34m\u001b[0m\u001b[0;34m\u001b[0m\u001b[0m\n\u001b[0;32m-> 1452\u001b[0;31m             \u001b[0;32mraise\u001b[0m \u001b[0mIndexError\u001b[0m\u001b[0;34m(\u001b[0m\u001b[0;34m\"single positional indexer is out-of-bounds\"\u001b[0m\u001b[0;34m)\u001b[0m\u001b[0;34m\u001b[0m\u001b[0;34m\u001b[0m\u001b[0m\n\u001b[0m\u001b[1;32m   1453\u001b[0m \u001b[0;34m\u001b[0m\u001b[0m\n\u001b[1;32m   1454\u001b[0m     \u001b[0;31m# -------------------------------------------------------------------\u001b[0m\u001b[0;34m\u001b[0m\u001b[0;34m\u001b[0m\u001b[0;34m\u001b[0m\u001b[0m\n",
      "\u001b[0;31mIndexError\u001b[0m: single positional indexer is out-of-bounds"
     ]
    }
   ],
   "source": [
    "for i in query.workplan.iloc[0]:\n",
    "    print(i)"
   ]
  },
  {
   "cell_type": "code",
   "execution_count": null,
   "id": "8df212a7-8f43-4a58-94f6-12309fe00772",
   "metadata": {},
   "outputs": [],
   "source": [
    "query.process(raise_exception=True)"
   ]
  },
  {
   "cell_type": "code",
   "execution_count": 14,
   "id": "0f2dde7f-5178-4d4f-8571-6ed06a7ccfcd",
   "metadata": {},
   "outputs": [],
   "source": [
    "ds = xr.open_dataset('/nfs/stu3data2/Satellite_data/goes/16/ABI_L2_ACHA_projected2surfrad/ABI_L2_ACHA_projected2surfrad_20200301_180114.nc')"
   ]
  },
  {
   "cell_type": "code",
   "execution_count": 15,
   "id": "a221adca-80a0-4c31-97e9-dfccd1219287",
   "metadata": {},
   "outputs": [
    {
     "data": {
      "text/html": [
       "<div><svg style=\"position: absolute; width: 0; height: 0; overflow: hidden\">\n",
       "<defs>\n",
       "<symbol id=\"icon-database\" viewBox=\"0 0 32 32\">\n",
       "<path d=\"M16 0c-8.837 0-16 2.239-16 5v4c0 2.761 7.163 5 16 5s16-2.239 16-5v-4c0-2.761-7.163-5-16-5z\"></path>\n",
       "<path d=\"M16 17c-8.837 0-16-2.239-16-5v6c0 2.761 7.163 5 16 5s16-2.239 16-5v-6c0 2.761-7.163 5-16 5z\"></path>\n",
       "<path d=\"M16 26c-8.837 0-16-2.239-16-5v6c0 2.761 7.163 5 16 5s16-2.239 16-5v-6c0 2.761-7.163 5-16 5z\"></path>\n",
       "</symbol>\n",
       "<symbol id=\"icon-file-text2\" viewBox=\"0 0 32 32\">\n",
       "<path d=\"M28.681 7.159c-0.694-0.947-1.662-2.053-2.724-3.116s-2.169-2.030-3.116-2.724c-1.612-1.182-2.393-1.319-2.841-1.319h-15.5c-1.378 0-2.5 1.121-2.5 2.5v27c0 1.378 1.122 2.5 2.5 2.5h23c1.378 0 2.5-1.122 2.5-2.5v-19.5c0-0.448-0.137-1.23-1.319-2.841zM24.543 5.457c0.959 0.959 1.712 1.825 2.268 2.543h-4.811v-4.811c0.718 0.556 1.584 1.309 2.543 2.268zM28 29.5c0 0.271-0.229 0.5-0.5 0.5h-23c-0.271 0-0.5-0.229-0.5-0.5v-27c0-0.271 0.229-0.5 0.5-0.5 0 0 15.499-0 15.5 0v7c0 0.552 0.448 1 1 1h7v19.5z\"></path>\n",
       "<path d=\"M23 26h-14c-0.552 0-1-0.448-1-1s0.448-1 1-1h14c0.552 0 1 0.448 1 1s-0.448 1-1 1z\"></path>\n",
       "<path d=\"M23 22h-14c-0.552 0-1-0.448-1-1s0.448-1 1-1h14c0.552 0 1 0.448 1 1s-0.448 1-1 1z\"></path>\n",
       "<path d=\"M23 18h-14c-0.552 0-1-0.448-1-1s0.448-1 1-1h14c0.552 0 1 0.448 1 1s-0.448 1-1 1z\"></path>\n",
       "</symbol>\n",
       "</defs>\n",
       "</svg>\n",
       "<style>/* CSS stylesheet for displaying xarray objects in jupyterlab.\n",
       " *\n",
       " */\n",
       "\n",
       ":root {\n",
       "  --xr-font-color0: var(--jp-content-font-color0, rgba(0, 0, 0, 1));\n",
       "  --xr-font-color2: var(--jp-content-font-color2, rgba(0, 0, 0, 0.54));\n",
       "  --xr-font-color3: var(--jp-content-font-color3, rgba(0, 0, 0, 0.38));\n",
       "  --xr-border-color: var(--jp-border-color2, #e0e0e0);\n",
       "  --xr-disabled-color: var(--jp-layout-color3, #bdbdbd);\n",
       "  --xr-background-color: var(--jp-layout-color0, white);\n",
       "  --xr-background-color-row-even: var(--jp-layout-color1, white);\n",
       "  --xr-background-color-row-odd: var(--jp-layout-color2, #eeeeee);\n",
       "}\n",
       "\n",
       "html[theme=dark],\n",
       "body.vscode-dark {\n",
       "  --xr-font-color0: rgba(255, 255, 255, 1);\n",
       "  --xr-font-color2: rgba(255, 255, 255, 0.54);\n",
       "  --xr-font-color3: rgba(255, 255, 255, 0.38);\n",
       "  --xr-border-color: #1F1F1F;\n",
       "  --xr-disabled-color: #515151;\n",
       "  --xr-background-color: #111111;\n",
       "  --xr-background-color-row-even: #111111;\n",
       "  --xr-background-color-row-odd: #313131;\n",
       "}\n",
       "\n",
       ".xr-wrap {\n",
       "  display: block !important;\n",
       "  min-width: 300px;\n",
       "  max-width: 700px;\n",
       "}\n",
       "\n",
       ".xr-text-repr-fallback {\n",
       "  /* fallback to plain text repr when CSS is not injected (untrusted notebook) */\n",
       "  display: none;\n",
       "}\n",
       "\n",
       ".xr-header {\n",
       "  padding-top: 6px;\n",
       "  padding-bottom: 6px;\n",
       "  margin-bottom: 4px;\n",
       "  border-bottom: solid 1px var(--xr-border-color);\n",
       "}\n",
       "\n",
       ".xr-header > div,\n",
       ".xr-header > ul {\n",
       "  display: inline;\n",
       "  margin-top: 0;\n",
       "  margin-bottom: 0;\n",
       "}\n",
       "\n",
       ".xr-obj-type,\n",
       ".xr-array-name {\n",
       "  margin-left: 2px;\n",
       "  margin-right: 10px;\n",
       "}\n",
       "\n",
       ".xr-obj-type {\n",
       "  color: var(--xr-font-color2);\n",
       "}\n",
       "\n",
       ".xr-sections {\n",
       "  padding-left: 0 !important;\n",
       "  display: grid;\n",
       "  grid-template-columns: 150px auto auto 1fr 20px 20px;\n",
       "}\n",
       "\n",
       ".xr-section-item {\n",
       "  display: contents;\n",
       "}\n",
       "\n",
       ".xr-section-item input {\n",
       "  display: none;\n",
       "}\n",
       "\n",
       ".xr-section-item input + label {\n",
       "  color: var(--xr-disabled-color);\n",
       "}\n",
       "\n",
       ".xr-section-item input:enabled + label {\n",
       "  cursor: pointer;\n",
       "  color: var(--xr-font-color2);\n",
       "}\n",
       "\n",
       ".xr-section-item input:enabled + label:hover {\n",
       "  color: var(--xr-font-color0);\n",
       "}\n",
       "\n",
       ".xr-section-summary {\n",
       "  grid-column: 1;\n",
       "  color: var(--xr-font-color2);\n",
       "  font-weight: 500;\n",
       "}\n",
       "\n",
       ".xr-section-summary > span {\n",
       "  display: inline-block;\n",
       "  padding-left: 0.5em;\n",
       "}\n",
       "\n",
       ".xr-section-summary-in:disabled + label {\n",
       "  color: var(--xr-font-color2);\n",
       "}\n",
       "\n",
       ".xr-section-summary-in + label:before {\n",
       "  display: inline-block;\n",
       "  content: '►';\n",
       "  font-size: 11px;\n",
       "  width: 15px;\n",
       "  text-align: center;\n",
       "}\n",
       "\n",
       ".xr-section-summary-in:disabled + label:before {\n",
       "  color: var(--xr-disabled-color);\n",
       "}\n",
       "\n",
       ".xr-section-summary-in:checked + label:before {\n",
       "  content: '▼';\n",
       "}\n",
       "\n",
       ".xr-section-summary-in:checked + label > span {\n",
       "  display: none;\n",
       "}\n",
       "\n",
       ".xr-section-summary,\n",
       ".xr-section-inline-details {\n",
       "  padding-top: 4px;\n",
       "  padding-bottom: 4px;\n",
       "}\n",
       "\n",
       ".xr-section-inline-details {\n",
       "  grid-column: 2 / -1;\n",
       "}\n",
       "\n",
       ".xr-section-details {\n",
       "  display: none;\n",
       "  grid-column: 1 / -1;\n",
       "  margin-bottom: 5px;\n",
       "}\n",
       "\n",
       ".xr-section-summary-in:checked ~ .xr-section-details {\n",
       "  display: contents;\n",
       "}\n",
       "\n",
       ".xr-array-wrap {\n",
       "  grid-column: 1 / -1;\n",
       "  display: grid;\n",
       "  grid-template-columns: 20px auto;\n",
       "}\n",
       "\n",
       ".xr-array-wrap > label {\n",
       "  grid-column: 1;\n",
       "  vertical-align: top;\n",
       "}\n",
       "\n",
       ".xr-preview {\n",
       "  color: var(--xr-font-color3);\n",
       "}\n",
       "\n",
       ".xr-array-preview,\n",
       ".xr-array-data {\n",
       "  padding: 0 5px !important;\n",
       "  grid-column: 2;\n",
       "}\n",
       "\n",
       ".xr-array-data,\n",
       ".xr-array-in:checked ~ .xr-array-preview {\n",
       "  display: none;\n",
       "}\n",
       "\n",
       ".xr-array-in:checked ~ .xr-array-data,\n",
       ".xr-array-preview {\n",
       "  display: inline-block;\n",
       "}\n",
       "\n",
       ".xr-dim-list {\n",
       "  display: inline-block !important;\n",
       "  list-style: none;\n",
       "  padding: 0 !important;\n",
       "  margin: 0;\n",
       "}\n",
       "\n",
       ".xr-dim-list li {\n",
       "  display: inline-block;\n",
       "  padding: 0;\n",
       "  margin: 0;\n",
       "}\n",
       "\n",
       ".xr-dim-list:before {\n",
       "  content: '(';\n",
       "}\n",
       "\n",
       ".xr-dim-list:after {\n",
       "  content: ')';\n",
       "}\n",
       "\n",
       ".xr-dim-list li:not(:last-child):after {\n",
       "  content: ',';\n",
       "  padding-right: 5px;\n",
       "}\n",
       "\n",
       ".xr-has-index {\n",
       "  font-weight: bold;\n",
       "}\n",
       "\n",
       ".xr-var-list,\n",
       ".xr-var-item {\n",
       "  display: contents;\n",
       "}\n",
       "\n",
       ".xr-var-item > div,\n",
       ".xr-var-item label,\n",
       ".xr-var-item > .xr-var-name span {\n",
       "  background-color: var(--xr-background-color-row-even);\n",
       "  margin-bottom: 0;\n",
       "}\n",
       "\n",
       ".xr-var-item > .xr-var-name:hover span {\n",
       "  padding-right: 5px;\n",
       "}\n",
       "\n",
       ".xr-var-list > li:nth-child(odd) > div,\n",
       ".xr-var-list > li:nth-child(odd) > label,\n",
       ".xr-var-list > li:nth-child(odd) > .xr-var-name span {\n",
       "  background-color: var(--xr-background-color-row-odd);\n",
       "}\n",
       "\n",
       ".xr-var-name {\n",
       "  grid-column: 1;\n",
       "}\n",
       "\n",
       ".xr-var-dims {\n",
       "  grid-column: 2;\n",
       "}\n",
       "\n",
       ".xr-var-dtype {\n",
       "  grid-column: 3;\n",
       "  text-align: right;\n",
       "  color: var(--xr-font-color2);\n",
       "}\n",
       "\n",
       ".xr-var-preview {\n",
       "  grid-column: 4;\n",
       "}\n",
       "\n",
       ".xr-var-name,\n",
       ".xr-var-dims,\n",
       ".xr-var-dtype,\n",
       ".xr-preview,\n",
       ".xr-attrs dt {\n",
       "  white-space: nowrap;\n",
       "  overflow: hidden;\n",
       "  text-overflow: ellipsis;\n",
       "  padding-right: 10px;\n",
       "}\n",
       "\n",
       ".xr-var-name:hover,\n",
       ".xr-var-dims:hover,\n",
       ".xr-var-dtype:hover,\n",
       ".xr-attrs dt:hover {\n",
       "  overflow: visible;\n",
       "  width: auto;\n",
       "  z-index: 1;\n",
       "}\n",
       "\n",
       ".xr-var-attrs,\n",
       ".xr-var-data {\n",
       "  display: none;\n",
       "  background-color: var(--xr-background-color) !important;\n",
       "  padding-bottom: 5px !important;\n",
       "}\n",
       "\n",
       ".xr-var-attrs-in:checked ~ .xr-var-attrs,\n",
       ".xr-var-data-in:checked ~ .xr-var-data {\n",
       "  display: block;\n",
       "}\n",
       "\n",
       ".xr-var-data > table {\n",
       "  float: right;\n",
       "}\n",
       "\n",
       ".xr-var-name span,\n",
       ".xr-var-data,\n",
       ".xr-attrs {\n",
       "  padding-left: 25px !important;\n",
       "}\n",
       "\n",
       ".xr-attrs,\n",
       ".xr-var-attrs,\n",
       ".xr-var-data {\n",
       "  grid-column: 1 / -1;\n",
       "}\n",
       "\n",
       "dl.xr-attrs {\n",
       "  padding: 0;\n",
       "  margin: 0;\n",
       "  display: grid;\n",
       "  grid-template-columns: 125px auto;\n",
       "}\n",
       "\n",
       ".xr-attrs dt,\n",
       ".xr-attrs dd {\n",
       "  padding: 0;\n",
       "  margin: 0;\n",
       "  float: left;\n",
       "  padding-right: 10px;\n",
       "  width: auto;\n",
       "}\n",
       "\n",
       ".xr-attrs dt {\n",
       "  font-weight: normal;\n",
       "  grid-column: 1;\n",
       "}\n",
       "\n",
       ".xr-attrs dt:hover span {\n",
       "  display: inline-block;\n",
       "  background: var(--xr-background-color);\n",
       "  padding-right: 10px;\n",
       "}\n",
       "\n",
       ".xr-attrs dd {\n",
       "  grid-column: 2;\n",
       "  white-space: pre-wrap;\n",
       "  word-break: break-all;\n",
       "}\n",
       "\n",
       ".xr-icon-database,\n",
       ".xr-icon-file-text2 {\n",
       "  display: inline-block;\n",
       "  vertical-align: middle;\n",
       "  width: 1em;\n",
       "  height: 1.5em !important;\n",
       "  stroke-width: 0;\n",
       "  stroke: currentColor;\n",
       "  fill: currentColor;\n",
       "}\n",
       "</style><pre class='xr-text-repr-fallback'>&lt;xarray.Dataset&gt;\n",
       "Dimensions:                     (datetime: 1, radius: 5, stats: 3,\n",
       "                                 data_quality: 1, site: 7)\n",
       "Coordinates:\n",
       "  * datetime                    (datetime) datetime64[ns] 2020-03-01T18:02:32...\n",
       "  * radius                      (radius) int64 5 10 25 50 100\n",
       "  * stats                       (stats) object &#x27;median&#x27; &#x27;mean&#x27; &#x27;std&#x27;\n",
       "  * site                        (site) object &#x27;BND&#x27; &#x27;SXF&#x27; &#x27;TBL&#x27; ... &#x27;GWN&#x27; &#x27;PSU&#x27;\n",
       "  * data_quality                (data_quality) object &#x27;high&#x27;\n",
       "Data variables:\n",
       "    HT                          (datetime, data_quality, radius, stats, site) float32 ...\n",
       "    num_of_valid_points         (datetime, data_quality, radius, site) int64 ...\n",
       "    HT_on_pixel                 (datetime, site) float32 7.903e+03 ... nan\n",
       "    DQF_on_pixel                (datetime, site) int64 0 0 0 0 0 0 4\n",
       "    argmin_x                    (datetime, site) float32 69.0 46.0 ... 63.0\n",
       "    argmin_y                    (datetime, site) float32 254.0 202.0 ... 338.0\n",
       "    lon_gritpoint               (datetime, site) float32 -88.41 ... -77.93\n",
       "    lat_gridpoint               (datetime, site) float32 40.09 43.68 ... 40.74\n",
       "    lon_station                 (datetime, site) float32 -88.37 ... -77.93\n",
       "    lat_station                 (datetime, site) float32 40.05 43.73 ... 40.72\n",
       "    distance_station_gridpoint  (datetime, site) float32 5.302 5.699 ... 2.008\n",
       "Attributes:\n",
       "    info:     This file contains a projection of satellite data onto SURFRAD ...</pre><div class='xr-wrap' style='display:none'><div class='xr-header'><div class='xr-obj-type'>xarray.Dataset</div></div><ul class='xr-sections'><li class='xr-section-item'><input id='section-35e0889c-d8ee-461d-b619-2d548db44f9a' class='xr-section-summary-in' type='checkbox' disabled ><label for='section-35e0889c-d8ee-461d-b619-2d548db44f9a' class='xr-section-summary'  title='Expand/collapse section'>Dimensions:</label><div class='xr-section-inline-details'><ul class='xr-dim-list'><li><span class='xr-has-index'>datetime</span>: 1</li><li><span class='xr-has-index'>radius</span>: 5</li><li><span class='xr-has-index'>stats</span>: 3</li><li><span class='xr-has-index'>data_quality</span>: 1</li><li><span class='xr-has-index'>site</span>: 7</li></ul></div><div class='xr-section-details'></div></li><li class='xr-section-item'><input id='section-578e4ab3-8aa5-4807-ad87-0d8b0824b211' class='xr-section-summary-in' type='checkbox'  checked><label for='section-578e4ab3-8aa5-4807-ad87-0d8b0824b211' class='xr-section-summary' >Coordinates: <span>(5)</span></label><div class='xr-section-inline-details'></div><div class='xr-section-details'><ul class='xr-var-list'><li class='xr-var-item'><div class='xr-var-name'><span class='xr-has-index'>datetime</span></div><div class='xr-var-dims'>(datetime)</div><div class='xr-var-dtype'>datetime64[ns]</div><div class='xr-var-preview xr-preview'>2020-03-01T18:02:32.849999872</div><input id='attrs-77cdf4e1-317b-48bf-a9f0-882c8c3ae965' class='xr-var-attrs-in' type='checkbox' disabled><label for='attrs-77cdf4e1-317b-48bf-a9f0-882c8c3ae965' title='Show/Hide attributes'><svg class='icon xr-icon-file-text2'><use xlink:href='#icon-file-text2'></use></svg></label><input id='data-410ed54a-57f5-4887-8e82-35afb960accb' class='xr-var-data-in' type='checkbox'><label for='data-410ed54a-57f5-4887-8e82-35afb960accb' title='Show/Hide data repr'><svg class='icon xr-icon-database'><use xlink:href='#icon-database'></use></svg></label><div class='xr-var-attrs'><dl class='xr-attrs'></dl></div><div class='xr-var-data'><pre>array([&#x27;2020-03-01T18:02:32.849999872&#x27;], dtype=&#x27;datetime64[ns]&#x27;)</pre></div></li><li class='xr-var-item'><div class='xr-var-name'><span class='xr-has-index'>radius</span></div><div class='xr-var-dims'>(radius)</div><div class='xr-var-dtype'>int64</div><div class='xr-var-preview xr-preview'>5 10 25 50 100</div><input id='attrs-40111049-adf6-42f2-9924-f43ff76e09da' class='xr-var-attrs-in' type='checkbox' ><label for='attrs-40111049-adf6-42f2-9924-f43ff76e09da' title='Show/Hide attributes'><svg class='icon xr-icon-file-text2'><use xlink:href='#icon-file-text2'></use></svg></label><input id='data-3b2a9d67-d0b8-41ec-89b9-be230640c716' class='xr-var-data-in' type='checkbox'><label for='data-3b2a9d67-d0b8-41ec-89b9-be230640c716' title='Show/Hide data repr'><svg class='icon xr-icon-database'><use xlink:href='#icon-database'></use></svg></label><div class='xr-var-attrs'><dl class='xr-attrs'><dt><span>long_name :</span></dt><dd>Radius of area around point over which data statistics are calsulated</dd></dl></div><div class='xr-var-data'><pre>array([  5,  10,  25,  50, 100])</pre></div></li><li class='xr-var-item'><div class='xr-var-name'><span class='xr-has-index'>stats</span></div><div class='xr-var-dims'>(stats)</div><div class='xr-var-dtype'>object</div><div class='xr-var-preview xr-preview'>&#x27;median&#x27; &#x27;mean&#x27; &#x27;std&#x27;</div><input id='attrs-766b3e8b-2fbf-4b04-8da1-480108cf18f5' class='xr-var-attrs-in' type='checkbox' ><label for='attrs-766b3e8b-2fbf-4b04-8da1-480108cf18f5' title='Show/Hide attributes'><svg class='icon xr-icon-file-text2'><use xlink:href='#icon-file-text2'></use></svg></label><input id='data-1ec36a40-9180-420d-8d57-cbf8cacda937' class='xr-var-data-in' type='checkbox'><label for='data-1ec36a40-9180-420d-8d57-cbf8cacda937' title='Show/Hide data repr'><svg class='icon xr-icon-database'><use xlink:href='#icon-database'></use></svg></label><div class='xr-var-attrs'><dl class='xr-attrs'><dt><span>long_name :</span></dt><dd>Statistics of values in circlular area around site</dd></dl></div><div class='xr-var-data'><pre>array([&#x27;median&#x27;, &#x27;mean&#x27;, &#x27;std&#x27;], dtype=object)</pre></div></li><li class='xr-var-item'><div class='xr-var-name'><span class='xr-has-index'>site</span></div><div class='xr-var-dims'>(site)</div><div class='xr-var-dtype'>object</div><div class='xr-var-preview xr-preview'>&#x27;BND&#x27; &#x27;SXF&#x27; &#x27;TBL&#x27; ... &#x27;GWN&#x27; &#x27;PSU&#x27;</div><input id='attrs-45cc2b69-7905-46a0-a6ca-579f4e05808b' class='xr-var-attrs-in' type='checkbox' disabled><label for='attrs-45cc2b69-7905-46a0-a6ca-579f4e05808b' title='Show/Hide attributes'><svg class='icon xr-icon-file-text2'><use xlink:href='#icon-file-text2'></use></svg></label><input id='data-291c2845-1db0-41d2-b3c0-8abbf9bc5b03' class='xr-var-data-in' type='checkbox'><label for='data-291c2845-1db0-41d2-b3c0-8abbf9bc5b03' title='Show/Hide data repr'><svg class='icon xr-icon-database'><use xlink:href='#icon-database'></use></svg></label><div class='xr-var-attrs'><dl class='xr-attrs'></dl></div><div class='xr-var-data'><pre>array([&#x27;BND&#x27;, &#x27;SXF&#x27;, &#x27;TBL&#x27;, &#x27;DRA&#x27;, &#x27;FPK&#x27;, &#x27;GWN&#x27;, &#x27;PSU&#x27;], dtype=object)</pre></div></li><li class='xr-var-item'><div class='xr-var-name'><span class='xr-has-index'>data_quality</span></div><div class='xr-var-dims'>(data_quality)</div><div class='xr-var-dtype'>object</div><div class='xr-var-preview xr-preview'>&#x27;high&#x27;</div><input id='attrs-532c3110-246f-4193-9e66-a05c95137ebe' class='xr-var-attrs-in' type='checkbox' disabled><label for='attrs-532c3110-246f-4193-9e66-a05c95137ebe' title='Show/Hide attributes'><svg class='icon xr-icon-file-text2'><use xlink:href='#icon-file-text2'></use></svg></label><input id='data-f59f70ef-5343-4418-a2bd-5d47042e93ca' class='xr-var-data-in' type='checkbox'><label for='data-f59f70ef-5343-4418-a2bd-5d47042e93ca' title='Show/Hide data repr'><svg class='icon xr-icon-database'><use xlink:href='#icon-database'></use></svg></label><div class='xr-var-attrs'><dl class='xr-attrs'></dl></div><div class='xr-var-data'><pre>array([&#x27;high&#x27;], dtype=object)</pre></div></li></ul></div></li><li class='xr-section-item'><input id='section-8cc24558-bdcd-4a95-833e-8e0b1f011be9' class='xr-section-summary-in' type='checkbox'  checked><label for='section-8cc24558-bdcd-4a95-833e-8e0b1f011be9' class='xr-section-summary' >Data variables: <span>(11)</span></label><div class='xr-section-inline-details'></div><div class='xr-section-details'><ul class='xr-var-list'><li class='xr-var-item'><div class='xr-var-name'><span>HT</span></div><div class='xr-var-dims'>(datetime, data_quality, radius, stats, site)</div><div class='xr-var-dtype'>float32</div><div class='xr-var-preview xr-preview'>...</div><input id='attrs-09645a49-0f08-4fae-8c4d-67610307c4c7' class='xr-var-attrs-in' type='checkbox' ><label for='attrs-09645a49-0f08-4fae-8c4d-67610307c4c7' title='Show/Hide attributes'><svg class='icon xr-icon-file-text2'><use xlink:href='#icon-file-text2'></use></svg></label><input id='data-110a1fd5-7198-4f43-955d-8b78104f7bab' class='xr-var-data-in' type='checkbox'><label for='data-110a1fd5-7198-4f43-955d-8b78104f7bab' title='Show/Hide data repr'><svg class='icon xr-icon-database'><use xlink:href='#icon-database'></use></svg></label><div class='xr-var-attrs'><dl class='xr-attrs'><dt><span>long_name :</span></dt><dd>ABI L2+ Cloud Top Height</dd><dt><span>standard_name :</span></dt><dd>geopotential_height_at_cloud_top</dd><dt><span>valid_range :</span></dt><dd>[ 0 -6]</dd><dt><span>units :</span></dt><dd>m</dd><dt><span>resolution :</span></dt><dd>y: 0.000280 rad x: 0.000280 rad</dd><dt><span>grid_mapping :</span></dt><dd>goes_imager_projection</dd><dt><span>cell_methods :</span></dt><dd>local_zenith_angle: point (good quality pixel produced) solar_zenith_angle: point (good quality pixel produced) t: point area: point</dd><dt><span>ancillary_variables :</span></dt><dd>DQF</dd></dl></div><div class='xr-var-data'><pre>array([[[[[        nan,         nan, 6735.2354  , 1542.4995  , 1395.0862  ,\n",
       "                   nan,         nan],\n",
       "          [        nan,         nan, 6735.2354  , 1542.4995  , 1395.0862  ,\n",
       "                   nan,         nan],\n",
       "          [        nan,         nan,         nan,         nan,         nan,\n",
       "                   nan,         nan]],\n",
       "\n",
       "         [[7920.7993  , 2740.7292  , 6735.2354  , 1542.4995  , 1395.0862  ,\n",
       "           7087.4404  ,         nan],\n",
       "          [7920.7993  , 2740.7292  , 6735.2354  , 1542.4995  , 1395.0862  ,\n",
       "           7111.1445  ,         nan],\n",
       "          [  25.250065,         nan,         nan,         nan,         nan,\n",
       "            119.73412 ,         nan]],\n",
       "\n",
       "         [[7698.0005  , 2712.1929  , 6562.49    , 1262.6277  , 1544.0255  ,\n",
       "           6960.9336  ,  655.88275 ],\n",
       "          [7723.0522  , 3576.0415  , 6585.7876  , 1645.9199  , 1643.2167  ,\n",
       "           6909.4185  ,  648.3544  ],\n",
       "          [ 205.9133  , 2133.2212  ,  129.48018 ,  936.7734  ,  548.2251  ,\n",
       "            325.19522 ,   45.94033 ]],\n",
       "\n",
       "         [[7511.3687  , 5171.3716  , 6424.233   , 1338.0131  , 2183.4272  ,\n",
       "           6780.8633  ,  636.34973 ],\n",
       "          [7503.2188  , 4612.124   , 6447.545   , 1728.9691  , 1984.8868  ,\n",
       "           6521.7573  , 1168.407   ],\n",
       "          [ 340.17117 , 2095.2349  ,  281.6382  , 1152.4375  ,  559.35504 ,\n",
       "            785.57336 , 1405.7322  ]],\n",
       "\n",
       "         [[7468.7925  , 5622.463   , 6373.874   , 1724.4009  , 2489.6992  ,\n",
       "           6169.693   ,  573.4778  ],\n",
       "          [7350.097   , 5046.1484  , 6335.546   , 2197.3313  , 2307.402   ,\n",
       "           5367.65    ,  776.3091  ],\n",
       "          [ 825.6284  , 2350.5703  ,  901.96826 , 1354.4979  ,  482.8575  ,\n",
       "           2041.3195  ,  809.6474  ]]]]], dtype=float32)</pre></div></li><li class='xr-var-item'><div class='xr-var-name'><span>num_of_valid_points</span></div><div class='xr-var-dims'>(datetime, data_quality, radius, site)</div><div class='xr-var-dtype'>int64</div><div class='xr-var-preview xr-preview'>...</div><input id='attrs-592b939a-27b2-4d56-a245-8de0527e6ba2' class='xr-var-attrs-in' type='checkbox' ><label for='attrs-592b939a-27b2-4d56-a245-8de0527e6ba2' title='Show/Hide attributes'><svg class='icon xr-icon-file-text2'><use xlink:href='#icon-file-text2'></use></svg></label><input id='data-8328ae24-1862-4d4f-a84c-ac2b664151ca' class='xr-var-data-in' type='checkbox'><label for='data-8328ae24-1862-4d4f-a84c-ac2b664151ca' title='Show/Hide data repr'><svg class='icon xr-icon-database'><use xlink:href='#icon-database'></use></svg></label><div class='xr-var-attrs'><dl class='xr-attrs'><dt><span>long_name :</span></dt><dd>Number of valid data points used to calculating statistic.</dd></dl></div><div class='xr-var-data'><pre>array([[[[  0,   0,   1,   1,   1,   0,   1],\n",
       "         [  2,   1,   1,   1,   1,   3,   1],\n",
       "         [ 12,  10,   9,   8,   9,  14,  12],\n",
       "         [ 47,  41,  37,  35,  29,  54,  49],\n",
       "         [190, 158, 152, 135, 124, 206, 194]]]])</pre></div></li><li class='xr-var-item'><div class='xr-var-name'><span>HT_on_pixel</span></div><div class='xr-var-dims'>(datetime, site)</div><div class='xr-var-dtype'>float32</div><div class='xr-var-preview xr-preview'>...</div><input id='attrs-4ae4549d-248e-4a57-80b5-8ce9db45f844' class='xr-var-attrs-in' type='checkbox' ><label for='attrs-4ae4549d-248e-4a57-80b5-8ce9db45f844' title='Show/Hide attributes'><svg class='icon xr-icon-file-text2'><use xlink:href='#icon-file-text2'></use></svg></label><input id='data-26894a4b-dd7c-4ae4-8e4f-87ec68dabe25' class='xr-var-data-in' type='checkbox'><label for='data-26894a4b-dd7c-4ae4-8e4f-87ec68dabe25' title='Show/Hide data repr'><svg class='icon xr-icon-database'><use xlink:href='#icon-database'></use></svg></label><div class='xr-var-attrs'><dl class='xr-attrs'><dt><span>long_name :</span></dt><dd>ABI L2+ Cloud Top Height</dd><dt><span>standard_name :</span></dt><dd>geopotential_height_at_cloud_top</dd><dt><span>valid_range :</span></dt><dd>[ 0 -6]</dd><dt><span>units :</span></dt><dd>m</dd><dt><span>resolution :</span></dt><dd>y: 0.000280 rad x: 0.000280 rad</dd><dt><span>grid_mapping :</span></dt><dd>goes_imager_projection</dd><dt><span>cell_methods :</span></dt><dd>local_zenith_angle: point (good quality pixel produced) solar_zenith_angle: point (good quality pixel produced) t: point area: point</dd><dt><span>ancillary_variables :</span></dt><dd>DQF</dd><dt><span>coordinates :</span></dt><dd>local_zenith_angle solar_zenith_angle t y x</dd></dl></div><div class='xr-var-data'><pre>array([[7902.945 , 2740.7292, 6735.2354, 1542.4995, 1395.0862, 7087.4404,\n",
       "              nan]], dtype=float32)</pre></div></li><li class='xr-var-item'><div class='xr-var-name'><span>DQF_on_pixel</span></div><div class='xr-var-dims'>(datetime, site)</div><div class='xr-var-dtype'>int64</div><div class='xr-var-preview xr-preview'>...</div><input id='attrs-01dcbdff-52ed-483a-a0a6-26b9f2bc6bea' class='xr-var-attrs-in' type='checkbox' ><label for='attrs-01dcbdff-52ed-483a-a0a6-26b9f2bc6bea' title='Show/Hide attributes'><svg class='icon xr-icon-file-text2'><use xlink:href='#icon-file-text2'></use></svg></label><input id='data-a0f45612-88ec-47eb-bffb-472c5016e9cf' class='xr-var-data-in' type='checkbox'><label for='data-a0f45612-88ec-47eb-bffb-472c5016e9cf' title='Show/Hide data repr'><svg class='icon xr-icon-database'><use xlink:href='#icon-database'></use></svg></label><div class='xr-var-attrs'><dl class='xr-attrs'><dt><span>long_name :</span></dt><dd>ABI L2+ Cloud Top Height data quality flags</dd><dt><span>standard_name :</span></dt><dd>status_flag</dd><dt><span>valid_range :</span></dt><dd>[0 6]</dd><dt><span>units :</span></dt><dd>1</dd><dt><span>grid_mapping :</span></dt><dd>goes_imager_projection</dd><dt><span>cell_methods :</span></dt><dd>local_zenith_angle: point solar_zenith_angle: point t: point area: point</dd><dt><span>flag_values :</span></dt><dd>[0 1 2 3 4 5 6]</dd><dt><span>flag_meanings :</span></dt><dd>good_quality_qf invalid_due_to_not_geolocated_qf invalid_due_to_LZA_threshold_exceeded_qf invalid_due_to_bad_or_missing_brightness_temp_data_qf invalid_due_to_clear_or_probably_clear_sky_qf invalid_due_to_unknown_cloud_type_qf invalid_due_to_nonconvergent_retrieval_qf</dd><dt><span>number_of_qf_values :</span></dt><dd>7</dd><dt><span>percent_good_quality_qf :</span></dt><dd>0.7668228</dd><dt><span>percent_invalid_due_to_not_geolocated_qf :</span></dt><dd>0.0130803</dd><dt><span>percent_invalid_due_to_LZA_threshold_exceeded_qf :</span></dt><dd>0.0287861</dd><dt><span>percent_invalid_due_to_bad_or_missing_brightness_temp_data_qf :</span></dt><dd>0.0080992</dd><dt><span>percent_invalid_due_to_clear_or_probably_clear_sky_qf :</span></dt><dd>0.2035407</dd><dt><span>percent_invalid_due_to_unknown_cloud_type_qf :</span></dt><dd>0.0</dd><dt><span>percent_invalid_due_to_nonconvergent_retrieval_qf :</span></dt><dd>0.0001755</dd></dl></div><div class='xr-var-data'><pre>array([[0, 0, 0, 0, 0, 0, 4]])</pre></div></li><li class='xr-var-item'><div class='xr-var-name'><span>argmin_x</span></div><div class='xr-var-dims'>(datetime, site)</div><div class='xr-var-dtype'>float32</div><div class='xr-var-preview xr-preview'>...</div><input id='attrs-773934df-4ec5-483e-b326-7a42602c1d4f' class='xr-var-attrs-in' type='checkbox' disabled><label for='attrs-773934df-4ec5-483e-b326-7a42602c1d4f' title='Show/Hide attributes'><svg class='icon xr-icon-file-text2'><use xlink:href='#icon-file-text2'></use></svg></label><input id='data-9d077ea8-e83c-4d13-890d-635976bc8c2d' class='xr-var-data-in' type='checkbox'><label for='data-9d077ea8-e83c-4d13-890d-635976bc8c2d' title='Show/Hide data repr'><svg class='icon xr-icon-database'><use xlink:href='#icon-database'></use></svg></label><div class='xr-var-attrs'><dl class='xr-attrs'></dl></div><div class='xr-var-data'><pre>array([[ 69.,  46.,  74., 106.,  20., 115.,  63.]], dtype=float32)</pre></div></li><li class='xr-var-item'><div class='xr-var-name'><span>argmin_y</span></div><div class='xr-var-dims'>(datetime, site)</div><div class='xr-var-dtype'>float32</div><div class='xr-var-preview xr-preview'>...</div><input id='attrs-67090512-3e4b-407c-a224-bf025e1da772' class='xr-var-attrs-in' type='checkbox' disabled><label for='attrs-67090512-3e4b-407c-a224-bf025e1da772' title='Show/Hide attributes'><svg class='icon xr-icon-file-text2'><use xlink:href='#icon-file-text2'></use></svg></label><input id='data-5ec14d6d-9605-42b2-8a14-b2d6c9f5bf77' class='xr-var-data-in' type='checkbox'><label for='data-5ec14d6d-9605-42b2-8a14-b2d6c9f5bf77' title='Show/Hide data repr'><svg class='icon xr-icon-database'><use xlink:href='#icon-database'></use></svg></label><div class='xr-var-attrs'><dl class='xr-attrs'></dl></div><div class='xr-var-data'><pre>array([[254., 202., 132.,  50., 165., 232., 338.]], dtype=float32)</pre></div></li><li class='xr-var-item'><div class='xr-var-name'><span>lon_gritpoint</span></div><div class='xr-var-dims'>(datetime, site)</div><div class='xr-var-dtype'>float32</div><div class='xr-var-preview xr-preview'>...</div><input id='attrs-6d1155c1-5051-44ca-bf16-76712b802507' class='xr-var-attrs-in' type='checkbox' disabled><label for='attrs-6d1155c1-5051-44ca-bf16-76712b802507' title='Show/Hide attributes'><svg class='icon xr-icon-file-text2'><use xlink:href='#icon-file-text2'></use></svg></label><input id='data-e62e163d-40d9-41eb-957a-f1288c4c8668' class='xr-var-data-in' type='checkbox'><label for='data-e62e163d-40d9-41eb-957a-f1288c4c8668' title='Show/Hide data repr'><svg class='icon xr-icon-database'><use xlink:href='#icon-database'></use></svg></label><div class='xr-var-attrs'><dl class='xr-attrs'></dl></div><div class='xr-var-data'><pre>array([[ -88.40896 ,  -96.640625, -105.19785 , -116.01992 , -105.15514 ,\n",
       "         -89.81801 ,  -77.92721 ]], dtype=float32)</pre></div></li><li class='xr-var-item'><div class='xr-var-name'><span>lat_gridpoint</span></div><div class='xr-var-dims'>(datetime, site)</div><div class='xr-var-dtype'>float32</div><div class='xr-var-preview xr-preview'>...</div><input id='attrs-d8a0203a-c5ca-4e73-9fad-e4e884e0da04' class='xr-var-attrs-in' type='checkbox' disabled><label for='attrs-d8a0203a-c5ca-4e73-9fad-e4e884e0da04' title='Show/Hide attributes'><svg class='icon xr-icon-file-text2'><use xlink:href='#icon-file-text2'></use></svg></label><input id='data-a12001f2-e88b-405d-abad-e98ff8fcedfc' class='xr-var-data-in' type='checkbox'><label for='data-a12001f2-e88b-405d-abad-e98ff8fcedfc' title='Show/Hide data repr'><svg class='icon xr-icon-database'><use xlink:href='#icon-database'></use></svg></label><div class='xr-var-attrs'><dl class='xr-attrs'></dl></div><div class='xr-var-data'><pre>array([[40.090904, 43.68433 , 40.143646, 36.593876, 48.291466, 34.200848,\n",
       "        40.737965]], dtype=float32)</pre></div></li><li class='xr-var-item'><div class='xr-var-name'><span>lon_station</span></div><div class='xr-var-dims'>(datetime, site)</div><div class='xr-var-dtype'>float32</div><div class='xr-var-preview xr-preview'>...</div><input id='attrs-1e039039-9e16-4b79-9448-0beaca42bf28' class='xr-var-attrs-in' type='checkbox' disabled><label for='attrs-1e039039-9e16-4b79-9448-0beaca42bf28' title='Show/Hide attributes'><svg class='icon xr-icon-file-text2'><use xlink:href='#icon-file-text2'></use></svg></label><input id='data-7f2dda0a-54ef-4d08-80cf-2ac178cc2d70' class='xr-var-data-in' type='checkbox'><label for='data-7f2dda0a-54ef-4d08-80cf-2ac178cc2d70' title='Show/Hide data repr'><svg class='icon xr-icon-database'><use xlink:href='#icon-database'></use></svg></label><div class='xr-var-attrs'><dl class='xr-attrs'></dl></div><div class='xr-var-data'><pre>array([[ -88.37309,  -96.62328, -105.2368 , -116.01947, -105.1017 ,\n",
       "         -89.8729 ,  -77.93085]], dtype=float32)</pre></div></li><li class='xr-var-item'><div class='xr-var-name'><span>lat_station</span></div><div class='xr-var-dims'>(datetime, site)</div><div class='xr-var-dtype'>float32</div><div class='xr-var-preview xr-preview'>...</div><input id='attrs-f33198f7-116b-4bff-88fb-daffcc060e32' class='xr-var-attrs-in' type='checkbox' disabled><label for='attrs-f33198f7-116b-4bff-88fb-daffcc060e32' title='Show/Hide attributes'><svg class='icon xr-icon-file-text2'><use xlink:href='#icon-file-text2'></use></svg></label><input id='data-0ba483da-85e2-4844-a2b3-e93a725cbd7f' class='xr-var-data-in' type='checkbox'><label for='data-0ba483da-85e2-4844-a2b3-e93a725cbd7f' title='Show/Hide data repr'><svg class='icon xr-icon-database'><use xlink:href='#icon-database'></use></svg></label><div class='xr-var-attrs'><dl class='xr-attrs'></dl></div><div class='xr-var-data'><pre>array([[40.05192, 43.73403, 40.12498, 36.62373, 48.30783, 34.2547 , 40.72012]],\n",
       "      dtype=float32)</pre></div></li><li class='xr-var-item'><div class='xr-var-name'><span>distance_station_gridpoint</span></div><div class='xr-var-dims'>(datetime, site)</div><div class='xr-var-dtype'>float32</div><div class='xr-var-preview xr-preview'>...</div><input id='attrs-0ebced2f-5878-46c6-9d3f-4d08831f1f3d' class='xr-var-attrs-in' type='checkbox' disabled><label for='attrs-0ebced2f-5878-46c6-9d3f-4d08831f1f3d' title='Show/Hide attributes'><svg class='icon xr-icon-file-text2'><use xlink:href='#icon-file-text2'></use></svg></label><input id='data-806abf86-be1c-4ad6-a80a-98d9b5f120c4' class='xr-var-data-in' type='checkbox'><label for='data-806abf86-be1c-4ad6-a80a-98d9b5f120c4' title='Show/Hide data repr'><svg class='icon xr-icon-database'><use xlink:href='#icon-database'></use></svg></label><div class='xr-var-attrs'><dl class='xr-attrs'></dl></div><div class='xr-var-data'><pre>array([[5.301793, 5.699327, 3.907605, 3.319793, 4.352074, 7.831021, 2.008007]],\n",
       "      dtype=float32)</pre></div></li></ul></div></li><li class='xr-section-item'><input id='section-f3b88504-75bc-46a5-9c8b-682c45c749d4' class='xr-section-summary-in' type='checkbox'  checked><label for='section-f3b88504-75bc-46a5-9c8b-682c45c749d4' class='xr-section-summary' >Attributes: <span>(1)</span></label><div class='xr-section-inline-details'></div><div class='xr-section-details'><dl class='xr-attrs'><dt><span>info :</span></dt><dd>This file contains a projection of satellite data onto SURFRAD sites.\n",
       "It includes the closest pixel data as well as the average over circular\n",
       "areas with various radii. Note, for the averaged data only data is\n",
       "considered with a qulity flag given by the prooduct class in the\n",
       "nesdis_gml_synergy package.</dd></dl></div></li></ul></div></div>"
      ],
      "text/plain": [
       "<xarray.Dataset>\n",
       "Dimensions:                     (datetime: 1, radius: 5, stats: 3,\n",
       "                                 data_quality: 1, site: 7)\n",
       "Coordinates:\n",
       "  * datetime                    (datetime) datetime64[ns] 2020-03-01T18:02:32...\n",
       "  * radius                      (radius) int64 5 10 25 50 100\n",
       "  * stats                       (stats) object 'median' 'mean' 'std'\n",
       "  * site                        (site) object 'BND' 'SXF' 'TBL' ... 'GWN' 'PSU'\n",
       "  * data_quality                (data_quality) object 'high'\n",
       "Data variables:\n",
       "    HT                          (datetime, data_quality, radius, stats, site) float32 ...\n",
       "    num_of_valid_points         (datetime, data_quality, radius, site) int64 ...\n",
       "    HT_on_pixel                 (datetime, site) float32 ...\n",
       "    DQF_on_pixel                (datetime, site) int64 ...\n",
       "    argmin_x                    (datetime, site) float32 ...\n",
       "    argmin_y                    (datetime, site) float32 ...\n",
       "    lon_gritpoint               (datetime, site) float32 ...\n",
       "    lat_gridpoint               (datetime, site) float32 ...\n",
       "    lon_station                 (datetime, site) float32 ...\n",
       "    lat_station                 (datetime, site) float32 ...\n",
       "    distance_station_gridpoint  (datetime, site) float32 ...\n",
       "Attributes:\n",
       "    info:     This file contains a projection of satellite data onto SURFRAD ..."
      ]
     },
     "execution_count": 15,
     "metadata": {},
     "output_type": "execute_result"
    }
   ],
   "source": [
    "ds"
   ]
  },
  {
   "cell_type": "markdown",
   "id": "2277084d-15c8-4e7e-88fb-5da0e7a8a91c",
   "metadata": {},
   "source": [
    "# concatenate to daily file"
   ]
  },
  {
   "cell_type": "code",
   "execution_count": 530,
   "id": "52514a53-3809-4efe-bf25-acb4dd041cbe",
   "metadata": {},
   "outputs": [],
   "source": [
    "import pandas as _pd"
   ]
  },
  {
   "cell_type": "code",
   "execution_count": 564,
   "id": "15e2bc25-d47f-4d76-adca-ddc6681334a8",
   "metadata": {},
   "outputs": [
    {
     "data": {
      "text/plain": [
       "<module 'nesdis_gml_synergy.satlab' from '/mnt/telg/prog/nesdis_gml_synergy/nesdis_gml_synergy/satlab.py'>"
      ]
     },
     "execution_count": 564,
     "metadata": {},
     "output_type": "execute_result"
    }
   ],
   "source": [
    "reload(ngs)"
   ]
  },
  {
   "cell_type": "code",
   "execution_count": 582,
   "id": "6e2be5ad-ec16-49b2-b518-05bc299bbd7a",
   "metadata": {},
   "outputs": [],
   "source": [
    "cc = ngs.Concatonator(path2scraped_files='/nfs/stu3data2/Satellite_data/goes/16/ABI_L2_ACHA_projected2surfrad/',\n",
    "                 path2concat_files ='/nfs/stu3data2/Satellite_data/goes/16/ABI_L2_ACHA_projected2surfrad_concat/',\n",
    "                 test = True,)"
   ]
  },
  {
   "cell_type": "code",
   "execution_count": 583,
   "id": "41f92539-00e6-4e95-80da-ef47ad69cb2b",
   "metadata": {},
   "outputs": [
    {
     "data": {
      "text/html": [
       "<div>\n",
       "<style scoped>\n",
       "    .dataframe tbody tr th:only-of-type {\n",
       "        vertical-align: middle;\n",
       "    }\n",
       "\n",
       "    .dataframe tbody tr th {\n",
       "        vertical-align: top;\n",
       "    }\n",
       "\n",
       "    .dataframe thead th {\n",
       "        text-align: right;\n",
       "    }\n",
       "</style>\n",
       "<table border=\"1\" class=\"dataframe\">\n",
       "  <thead>\n",
       "    <tr style=\"text-align: right;\">\n",
       "      <th></th>\n",
       "      <th>path2scraped_files</th>\n",
       "      <th>datetime</th>\n",
       "      <th>date</th>\n",
       "      <th>product_name</th>\n",
       "      <th>path2concat_files</th>\n",
       "      <th>p2rf_exists</th>\n",
       "    </tr>\n",
       "  </thead>\n",
       "  <tbody>\n",
       "  </tbody>\n",
       "</table>\n",
       "</div>"
      ],
      "text/plain": [
       "Empty DataFrame\n",
       "Columns: [path2scraped_files, datetime, date, product_name, path2concat_files, p2rf_exists]\n",
       "Index: []"
      ]
     },
     "execution_count": 583,
     "metadata": {},
     "output_type": "execute_result"
    }
   ],
   "source": [
    "cc.workplan"
   ]
  },
  {
   "cell_type": "code",
   "execution_count": 581,
   "id": "dda32256-1e41-47ad-94ea-6e994691725a",
   "metadata": {},
   "outputs": [],
   "source": [
    "ds=cc.concat_and_save(save=True, test=False, verbose=False)"
   ]
  },
  {
   "cell_type": "code",
   "execution_count": null,
   "id": "750d4793-cc13-449d-98f1-1b60101c3a94",
   "metadata": {},
   "outputs": [],
   "source": []
  }
 ],
 "metadata": {
  "kernelspec": {
   "display_name": "py310telg",
   "language": "python",
   "name": "py310telg"
  },
  "language_info": {
   "codemirror_mode": {
    "name": "ipython",
    "version": 3
   },
   "file_extension": ".py",
   "mimetype": "text/x-python",
   "name": "python",
   "nbconvert_exporter": "python",
   "pygments_lexer": "ipython3",
   "version": "3.10.12"
  }
 },
 "nbformat": 4,
 "nbformat_minor": 5
}
