{
 "cells": [
  {
   "cell_type": "code",
   "execution_count": null,
   "id": "de1f8642-9326-4623-b99b-b8442e8b8a82",
   "metadata": {},
   "outputs": [],
   "source": []
  },
  {
   "cell_type": "code",
   "execution_count": null,
   "id": "327a83c2-3dd7-4516-9d95-e328e9018d27",
   "metadata": {},
   "outputs": [],
   "source": []
  },
  {
   "cell_type": "code",
   "execution_count": null,
   "id": "6031a94e-748c-4bb1-a9e4-b34c3387d4d6",
   "metadata": {},
   "outputs": [],
   "source": []
  },
  {
   "cell_type": "code",
   "execution_count": null,
   "id": "2cac50a2-0980-46e0-8ce9-6156a7b3add9",
   "metadata": {},
   "outputs": [],
   "source": []
  },
  {
   "cell_type": "markdown",
   "id": "f59c67b8-0169-483c-badc-99db65326f56",
   "metadata": {},
   "source": [
    "# Imports"
   ]
  },
  {
   "cell_type": "code",
   "execution_count": 2,
   "id": "abb8ffcf-4f16-470d-a5bf-5a62c1e6b293",
   "metadata": {
    "execution": {
     "iopub.execute_input": "2023-08-29T02:48:05.590455Z",
     "iopub.status.busy": "2023-08-29T02:48:05.589671Z",
     "iopub.status.idle": "2023-08-29T02:48:07.490688Z",
     "shell.execute_reply": "2023-08-29T02:48:07.489908Z",
     "shell.execute_reply.started": "2023-08-29T02:48:05.590407Z"
    }
   },
   "outputs": [
    {
     "data": {
      "text/plain": [
       "2656036"
      ]
     },
     "execution_count": 2,
     "metadata": {},
     "output_type": "execute_result"
    }
   ],
   "source": [
    "import pathlib as pl\n",
    "# import nesdis_aws\n",
    "import nesdis_gml_synergy.satlab as ngs\n",
    "import nesdis_gml_synergy.cloud_interface as ngsci\n",
    "import atmPy.data_archives.NOAA_ESRL_GMD_GRAD.surfrad.surfrad as surfrad\n",
    "import os\n",
    "os.getpid()"
   ]
  },
  {
   "cell_type": "code",
   "execution_count": 3,
   "id": "75d07f9f-c5c5-4a08-9d48-ca025280b76a",
   "metadata": {
    "execution": {
     "iopub.execute_input": "2023-08-29T02:48:07.492180Z",
     "iopub.status.busy": "2023-08-29T02:48:07.491811Z",
     "iopub.status.idle": "2023-08-29T02:48:07.495934Z",
     "shell.execute_reply": "2023-08-29T02:48:07.495240Z",
     "shell.execute_reply.started": "2023-08-29T02:48:07.492162Z"
    }
   },
   "outputs": [],
   "source": [
    "import warnings\n",
    "warnings.filterwarnings(\"ignore\")"
   ]
  },
  {
   "cell_type": "code",
   "execution_count": 4,
   "id": "78a5289a-a815-42d7-8fa2-22a42d6987fa",
   "metadata": {
    "execution": {
     "iopub.execute_input": "2023-08-29T02:48:07.496659Z",
     "iopub.status.busy": "2023-08-29T02:48:07.496488Z",
     "iopub.status.idle": "2023-08-29T02:48:07.514174Z",
     "shell.execute_reply": "2023-08-29T02:48:07.513590Z",
     "shell.execute_reply.started": "2023-08-29T02:48:07.496644Z"
    }
   },
   "outputs": [],
   "source": [
    "# warnings.filterwarnings(\"default\")"
   ]
  },
  {
   "cell_type": "code",
   "execution_count": 5,
   "id": "e2703542-f751-4ff9-ad81-5ff094b29f09",
   "metadata": {
    "execution": {
     "iopub.execute_input": "2023-08-29T02:48:07.516126Z",
     "iopub.status.busy": "2023-08-29T02:48:07.515763Z",
     "iopub.status.idle": "2023-08-29T02:48:07.532845Z",
     "shell.execute_reply": "2023-08-29T02:48:07.531706Z",
     "shell.execute_reply.started": "2023-08-29T02:48:07.516103Z"
    }
   },
   "outputs": [],
   "source": [
    "plt.rcParams['figure.dpi'] = 200"
   ]
  },
  {
   "cell_type": "markdown",
   "id": "88b67829-638c-45a8-90a6-847a1a041beb",
   "metadata": {},
   "source": [
    "# download some data"
   ]
  },
  {
   "cell_type": "code",
   "execution_count": 6,
   "id": "dfd0d4bf-6c58-4653-8789-1ee382d7cc33",
   "metadata": {
    "execution": {
     "iopub.execute_input": "2023-08-29T02:48:07.533799Z",
     "iopub.status.busy": "2023-08-29T02:48:07.533580Z",
     "iopub.status.idle": "2023-08-29T02:48:07.556918Z",
     "shell.execute_reply": "2023-08-29T02:48:07.555606Z",
     "shell.execute_reply.started": "2023-08-29T02:48:07.533778Z"
    }
   },
   "outputs": [
    {
     "data": {
      "text/plain": [
       "<module 'nesdis_gml_synergy.cloud_interface' from '/export/htelg/prog/nesdis_gml_synergy/nesdis_gml_synergy/cloud_interface.py'>"
      ]
     },
     "execution_count": 6,
     "metadata": {},
     "output_type": "execute_result"
    }
   ],
   "source": [
    "reload(ngsci)\n",
    "# reload()"
   ]
  },
  {
   "cell_type": "code",
   "execution_count": 11,
   "id": "d650b873-b413-4cd0-a277-b4a1c125e788",
   "metadata": {
    "execution": {
     "iopub.execute_input": "2023-08-29T02:48:43.082282Z",
     "iopub.status.busy": "2023-08-29T02:48:43.081166Z",
     "iopub.status.idle": "2023-08-29T02:48:43.095646Z",
     "shell.execute_reply": "2023-08-29T02:48:43.093592Z",
     "shell.execute_reply.started": "2023-08-29T02:48:43.082224Z"
    }
   },
   "outputs": [],
   "source": [
    "product = 'ACHA' #FDC\n",
    "# path2folder_local=f'/mnt/telg/data/nesdis/goes/ABI_L2_{product}/'\n",
    "path2folder_local=f'/export/htelg/tmp'\n",
    "# pl.Path(path2folder_local).mkdir()\n",
    "query = ngsci.AwsQuery(path2folder_local=path2folder_local,\n",
    "                        satellite='16',\n",
    "                        product=f'ABI-L2-{product}',\n",
    "                        scan_sector='C',\n",
    "                        # start='2020-09-30 18:00:00',\n",
    "                        # end='2020-09-30 19:35:00',\n",
    "                        start='2023-08-01 13:00:00',\n",
    "                        # end='2018-11-01 00:00:00',\n",
    "                        end='2023-08-01 13:05:00',\n",
    "                        verbose = True,\n",
    "                        overwrite = True,\n",
    "                           )\n"
   ]
  },
  {
   "cell_type": "code",
   "execution_count": 12,
   "id": "0c5ab362-b3d8-46ff-b24f-eea7d9eb4ff2",
   "metadata": {
    "execution": {
     "iopub.execute_input": "2023-08-29T02:48:43.482757Z",
     "iopub.status.busy": "2023-08-29T02:48:43.481979Z",
     "iopub.status.idle": "2023-08-29T02:48:43.835373Z",
     "shell.execute_reply": "2023-08-29T02:48:43.834126Z",
     "shell.execute_reply.started": "2023-08-29T02:48:43.482701Z"
    }
   },
   "outputs": [
    {
     "name": "stdout",
     "output_type": "stream",
     "text": [
      "Get workplan:\n",
      "workplan done\n"
     ]
    },
    {
     "data": {
      "text/html": [
       "<div>\n",
       "<style scoped>\n",
       "    .dataframe tbody tr th:only-of-type {\n",
       "        vertical-align: middle;\n",
       "    }\n",
       "\n",
       "    .dataframe tbody tr th {\n",
       "        vertical-align: top;\n",
       "    }\n",
       "\n",
       "    .dataframe thead th {\n",
       "        text-align: right;\n",
       "    }\n",
       "</style>\n",
       "<table border=\"1\" class=\"dataframe\">\n",
       "  <thead>\n",
       "    <tr style=\"text-align: right;\">\n",
       "      <th></th>\n",
       "      <th>path2file_aws</th>\n",
       "      <th>path2file_local</th>\n",
       "    </tr>\n",
       "  </thead>\n",
       "  <tbody>\n",
       "    <tr>\n",
       "      <th>2023-08-01 13:01:17</th>\n",
       "      <td>noaa-goes16/ABI-L2-ACHAC/2023/213/13/OR_ABI-L2...</td>\n",
       "      <td>/export/htelg/tmp/OR_ABI-L2-ACHAC-M6_G16_s2023...</td>\n",
       "    </tr>\n",
       "  </tbody>\n",
       "</table>\n",
       "</div>"
      ],
      "text/plain": [
       "                                                         path2file_aws  \\\n",
       "2023-08-01 13:01:17  noaa-goes16/ABI-L2-ACHAC/2023/213/13/OR_ABI-L2...   \n",
       "\n",
       "                                                       path2file_local  \n",
       "2023-08-01 13:01:17  /export/htelg/tmp/OR_ABI-L2-ACHAC-M6_G16_s2023...  "
      ]
     },
     "execution_count": 12,
     "metadata": {},
     "output_type": "execute_result"
    }
   ],
   "source": [
    "query.workplan"
   ]
  },
  {
   "cell_type": "code",
   "execution_count": 10,
   "id": "eab85974-4cc7-49a3-bf8f-8ba94494dd6b",
   "metadata": {
    "execution": {
     "iopub.execute_input": "2023-08-24T20:52:12.017292Z",
     "iopub.status.busy": "2023-08-24T20:52:12.016642Z",
     "iopub.status.idle": "2023-08-24T20:52:12.085507Z",
     "shell.execute_reply": "2023-08-24T20:52:12.083760Z",
     "shell.execute_reply.started": "2023-08-24T20:52:12.017245Z"
    }
   },
   "outputs": [
    {
     "name": "stdout",
     "output_type": "stream",
     "text": [
      "no of files: 1\n",
      "estimated disk usage: 0 mb\n",
      "remaining disk space after download: 50 %\n",
      "\n"
     ]
    }
   ],
   "source": [
    "print(query.info_on_current_query())"
   ]
  },
  {
   "cell_type": "code",
   "execution_count": 11,
   "id": "fe144f49-555d-41da-8e9c-6e8027f6e82d",
   "metadata": {
    "execution": {
     "iopub.execute_input": "2023-08-24T20:52:17.244292Z",
     "iopub.status.busy": "2023-08-24T20:52:17.243460Z",
     "iopub.status.idle": "2023-08-24T20:52:17.396642Z",
     "shell.execute_reply": "2023-08-24T20:52:17.395304Z",
     "shell.execute_reply.started": "2023-08-24T20:52:17.244239Z"
    }
   },
   "outputs": [
    {
     "data": {
      "text/plain": [
       "Timestamp('2019-12-03 00:00:00')"
      ]
     },
     "execution_count": 11,
     "metadata": {},
     "output_type": "execute_result"
    }
   ],
   "source": [
    "query.product_available_since"
   ]
  },
  {
   "cell_type": "code",
   "execution_count": 13,
   "id": "befde3d4-6dc9-42e9-a167-284435a00b92",
   "metadata": {
    "execution": {
     "iopub.execute_input": "2023-08-29T02:48:47.343415Z",
     "iopub.status.busy": "2023-08-29T02:48:47.342664Z",
     "iopub.status.idle": "2023-08-29T02:48:47.764779Z",
     "shell.execute_reply": "2023-08-29T02:48:47.763019Z",
     "shell.execute_reply.started": "2023-08-29T02:48:47.343357Z"
    }
   },
   "outputs": [
    {
     "data": {
      "text/plain": [
       "[None]"
      ]
     },
     "execution_count": 13,
     "metadata": {},
     "output_type": "execute_result"
    }
   ],
   "source": [
    "query.download()\n"
   ]
  },
  {
   "cell_type": "markdown",
   "id": "c63406a6-1441-424d-ba8a-28747cb18f5c",
   "metadata": {},
   "source": [
    "# versions"
   ]
  },
  {
   "cell_type": "code",
   "execution_count": 14,
   "id": "8588bed9-7993-43b9-9c14-2b0abcb19cae",
   "metadata": {
    "execution": {
     "iopub.execute_input": "2023-08-29T02:48:55.679772Z",
     "iopub.status.busy": "2023-08-29T02:48:55.679000Z",
     "iopub.status.idle": "2023-08-29T02:48:55.784527Z",
     "shell.execute_reply": "2023-08-29T02:48:55.783727Z",
     "shell.execute_reply.started": "2023-08-29T02:48:55.679715Z"
    }
   },
   "outputs": [
    {
     "data": {
      "text/plain": [
       "'/export/htelg/tmp/OR_ABI-L2-ACHAC-M6_G16_s20232131301174_e20232131303547_c20232131306220.nc'"
      ]
     },
     "execution_count": 14,
     "metadata": {},
     "output_type": "execute_result"
    }
   ],
   "source": [
    "dsn = xr.open_dataset(query.workplan.iloc[0].path2file_local.as_posix())\n",
    "query.workplan.iloc[0].path2file_local.as_posix()"
   ]
  },
  {
   "cell_type": "code",
   "execution_count": null,
   "id": "23c5072a-2dd6-4a55-a324-2771b234b7c6",
   "metadata": {},
   "outputs": [],
   "source": []
  },
  {
   "cell_type": "code",
   "execution_count": 10,
   "id": "ed8a9951-59d1-4d2e-a4ba-a708be837e39",
   "metadata": {
    "execution": {
     "iopub.execute_input": "2023-08-29T02:48:28.254404Z",
     "iopub.status.busy": "2023-08-29T02:48:28.253808Z",
     "iopub.status.idle": "2023-08-29T02:48:29.072850Z",
     "shell.execute_reply": "2023-08-29T02:48:29.072132Z",
     "shell.execute_reply.started": "2023-08-29T02:48:28.254359Z"
    }
   },
   "outputs": [
    {
     "data": {
      "text/plain": [
       "'/export/htelg/tmp/OR_ABI-L2-ACHAC-M6_G16_s20200011301183_e20200011303556_c20200011305529.nc'"
      ]
     },
     "execution_count": 10,
     "metadata": {},
     "output_type": "execute_result"
    }
   ],
   "source": [
    "dso = xr.open_dataset(query.workplan.iloc[0].path2file_local.as_posix())\n",
    "query.workplan.iloc[0].path2file_local.as_posix()"
   ]
  },
  {
   "cell_type": "code",
   "execution_count": 20,
   "id": "f7bfbca1-3a4c-4824-a7df-68e3a304cc91",
   "metadata": {
    "execution": {
     "iopub.execute_input": "2023-08-28T23:17:29.944922Z",
     "iopub.status.busy": "2023-08-28T23:17:29.944316Z",
     "iopub.status.idle": "2023-08-28T23:17:30.860486Z",
     "shell.execute_reply": "2023-08-28T23:17:30.859379Z",
     "shell.execute_reply.started": "2023-08-28T23:17:29.944876Z"
    }
   },
   "outputs": [],
   "source": [
    "# dsn = xr.open_dataset('/export/htelg/tmp/ABI_L2_ADP/OR_ABI-L2-ADPC-M6_G16_s20232131801174_e20232131803547_c20232131805133.nc'\n",
    "# )\n",
    "# dso = xr.open_dataset('/export/htelg/tmp/ABI_L2_ADP/OR_ABI-L2-ADPC-M6_G16_s20200011801183_e20200011803556_c20200011805092.nc'\n",
    "# )"
   ]
  },
  {
   "cell_type": "code",
   "execution_count": 15,
   "id": "a2685cfb-e0ca-4949-8127-4d7190e54426",
   "metadata": {
    "execution": {
     "iopub.execute_input": "2023-08-29T02:48:58.824254Z",
     "iopub.status.busy": "2023-08-29T02:48:58.823493Z",
     "iopub.status.idle": "2023-08-29T02:48:58.839150Z",
     "shell.execute_reply": "2023-08-29T02:48:58.837673Z",
     "shell.execute_reply.started": "2023-08-29T02:48:58.824197Z"
    }
   },
   "outputs": [
    {
     "data": {
      "text/plain": [
       "(numpy.datetime64('2023-08-01T13:02:36.128288000'),\n",
       " numpy.datetime64('2020-01-01T13:02:36.982722944'))"
      ]
     },
     "execution_count": 15,
     "metadata": {},
     "output_type": "execute_result"
    }
   ],
   "source": [
    "dsn.t.values, dso.t.values"
   ]
  },
  {
   "cell_type": "code",
   "execution_count": 22,
   "id": "10635afa-45cf-40fa-a044-0cb4ca96cf67",
   "metadata": {
    "execution": {
     "iopub.execute_input": "2023-08-29T02:54:34.578530Z",
     "iopub.status.busy": "2023-08-29T02:54:34.577924Z",
     "iopub.status.idle": "2023-08-29T02:54:34.589470Z",
     "shell.execute_reply": "2023-08-29T02:54:34.587626Z",
     "shell.execute_reply.started": "2023-08-29T02:54:34.578482Z"
    }
   },
   "outputs": [
    {
     "data": {
      "text/plain": [
       "True"
      ]
     },
     "execution_count": 22,
     "metadata": {},
     "output_type": "execute_result"
    }
   ],
   "source": [
    "dsn.DQF.attrs['flag_meanings'] == 'good_quality_qf marginal_quality_qf retrieval_attempted_qf bad_quality_qf opaque_retrieval_qf'"
   ]
  },
  {
   "cell_type": "code",
   "execution_count": 23,
   "id": "22f0da3e-16c1-4c58-a095-248fd9e27bce",
   "metadata": {
    "execution": {
     "iopub.execute_input": "2023-08-29T02:54:40.271878Z",
     "iopub.status.busy": "2023-08-29T02:54:40.271248Z",
     "iopub.status.idle": "2023-08-29T02:54:40.282869Z",
     "shell.execute_reply": "2023-08-29T02:54:40.280638Z",
     "shell.execute_reply.started": "2023-08-29T02:54:40.271830Z"
    }
   },
   "outputs": [
    {
     "data": {
      "text/plain": [
       "'good_quality_qf marginal_quality_qf retrieval_attempted_qf bad_quality_qf opaque_retrieval_qf'"
      ]
     },
     "execution_count": 23,
     "metadata": {},
     "output_type": "execute_result"
    }
   ],
   "source": [
    "dsn.DQF.attrs['flag_meanings'] "
   ]
  },
  {
   "cell_type": "code",
   "execution_count": 29,
   "id": "786b7cb4-6dbb-4148-a1c7-8b1825c873ff",
   "metadata": {
    "execution": {
     "iopub.execute_input": "2023-08-29T02:55:56.929871Z",
     "iopub.status.busy": "2023-08-29T02:55:56.929251Z",
     "iopub.status.idle": "2023-08-29T02:55:56.939800Z",
     "shell.execute_reply": "2023-08-29T02:55:56.937929Z",
     "shell.execute_reply.started": "2023-08-29T02:55:56.929825Z"
    }
   },
   "outputs": [
    {
     "data": {
      "text/plain": [
       "['good_quality_qf',\n",
       " 'marginal_quality_qf',\n",
       " 'retrieval_attempted_qf',\n",
       " 'bad_quality_qf',\n",
       " 'opaque_retrieval_qf']"
      ]
     },
     "execution_count": 29,
     "metadata": {},
     "output_type": "execute_result"
    }
   ],
   "source": [
    "dsn.DQF.attrs['flag_meanings'].split()"
   ]
  },
  {
   "cell_type": "code",
   "execution_count": 25,
   "id": "36c2bf35-8a0c-4058-adeb-eebf1a0bc73f",
   "metadata": {
    "execution": {
     "iopub.execute_input": "2023-08-29T02:54:50.127585Z",
     "iopub.status.busy": "2023-08-29T02:54:50.126971Z",
     "iopub.status.idle": "2023-08-29T02:54:50.138672Z",
     "shell.execute_reply": "2023-08-29T02:54:50.136877Z",
     "shell.execute_reply.started": "2023-08-29T02:54:50.127524Z"
    }
   },
   "outputs": [
    {
     "data": {
      "text/plain": [
       "False"
      ]
     },
     "execution_count": 25,
     "metadata": {},
     "output_type": "execute_result"
    }
   ],
   "source": [
    "dsn.DQF.attrs['flag_meanings'] == dso.DQF.attrs['flag_meanings']"
   ]
  },
  {
   "cell_type": "code",
   "execution_count": 28,
   "id": "aa605478-cbf3-4c99-b996-d58b91e2bb5f",
   "metadata": {
    "execution": {
     "iopub.execute_input": "2023-08-29T02:55:46.172667Z",
     "iopub.status.busy": "2023-08-29T02:55:46.172048Z",
     "iopub.status.idle": "2023-08-29T02:55:46.182607Z",
     "shell.execute_reply": "2023-08-29T02:55:46.180801Z",
     "shell.execute_reply.started": "2023-08-29T02:55:46.172618Z"
    }
   },
   "outputs": [
    {
     "data": {
      "text/plain": [
       "['good_quality_qf',\n",
       " 'invalid_due_to_not_geolocated_qf',\n",
       " 'invalid_due_to_LZA_threshold_exceeded_qf',\n",
       " 'invalid_due_to_bad_or_missing_brightness_temp_data_qf',\n",
       " 'invalid_due_to_clear_or_probably_clear_sky_qf',\n",
       " 'invalid_due_to_unknown_cloud_type_qf',\n",
       " 'invalid_due_to_nonconvergent_retrieval_qf']"
      ]
     },
     "execution_count": 28,
     "metadata": {},
     "output_type": "execute_result"
    }
   ],
   "source": [
    "dso.DQF.attrs['flag_meanings'].split()"
   ]
  },
  {
   "cell_type": "code",
   "execution_count": 31,
   "id": "f39c58aa-0eac-4755-8007-ab015141aef4",
   "metadata": {
    "execution": {
     "iopub.execute_input": "2023-08-29T02:57:30.113912Z",
     "iopub.status.busy": "2023-08-29T02:57:30.113276Z",
     "iopub.status.idle": "2023-08-29T02:57:30.124185Z",
     "shell.execute_reply": "2023-08-29T02:57:30.122327Z",
     "shell.execute_reply.started": "2023-08-29T02:57:30.113863Z"
    }
   },
   "outputs": [
    {
     "data": {
      "text/plain": [
       "True"
      ]
     },
     "execution_count": 31,
     "metadata": {},
     "output_type": "execute_result"
    }
   ],
   "source": [
    "dso.DQF.attrs['flag_meanings']== 'good_quality_qf invalid_due_to_not_geolocated_qf invalid_due_to_LZA_threshold_exceeded_qf invalid_due_to_bad_or_missing_brightness_temp_data_qf invalid_due_to_clear_or_probably_clear_sky_qf invalid_due_to_unknown_cloud_type_qf invalid_due_to_nonconvergent_retrieval_qf'"
   ]
  },
  {
   "cell_type": "code",
   "execution_count": 27,
   "id": "695ac8db-a983-4e0b-a3fb-c92370876564",
   "metadata": {
    "execution": {
     "iopub.execute_input": "2023-08-29T02:55:19.361933Z",
     "iopub.status.busy": "2023-08-29T02:55:19.361317Z",
     "iopub.status.idle": "2023-08-29T02:55:19.387602Z",
     "shell.execute_reply": "2023-08-29T02:55:19.385717Z",
     "shell.execute_reply.started": "2023-08-29T02:55:19.361887Z"
    }
   },
   "outputs": [
    {
     "data": {
      "text/html": [
       "<div><svg style=\"position: absolute; width: 0; height: 0; overflow: hidden\">\n",
       "<defs>\n",
       "<symbol id=\"icon-database\" viewBox=\"0 0 32 32\">\n",
       "<path d=\"M16 0c-8.837 0-16 2.239-16 5v4c0 2.761 7.163 5 16 5s16-2.239 16-5v-4c0-2.761-7.163-5-16-5z\"></path>\n",
       "<path d=\"M16 17c-8.837 0-16-2.239-16-5v6c0 2.761 7.163 5 16 5s16-2.239 16-5v-6c0 2.761-7.163 5-16 5z\"></path>\n",
       "<path d=\"M16 26c-8.837 0-16-2.239-16-5v6c0 2.761 7.163 5 16 5s16-2.239 16-5v-6c0 2.761-7.163 5-16 5z\"></path>\n",
       "</symbol>\n",
       "<symbol id=\"icon-file-text2\" viewBox=\"0 0 32 32\">\n",
       "<path d=\"M28.681 7.159c-0.694-0.947-1.662-2.053-2.724-3.116s-2.169-2.030-3.116-2.724c-1.612-1.182-2.393-1.319-2.841-1.319h-15.5c-1.378 0-2.5 1.121-2.5 2.5v27c0 1.378 1.122 2.5 2.5 2.5h23c1.378 0 2.5-1.122 2.5-2.5v-19.5c0-0.448-0.137-1.23-1.319-2.841zM24.543 5.457c0.959 0.959 1.712 1.825 2.268 2.543h-4.811v-4.811c0.718 0.556 1.584 1.309 2.543 2.268zM28 29.5c0 0.271-0.229 0.5-0.5 0.5h-23c-0.271 0-0.5-0.229-0.5-0.5v-27c0-0.271 0.229-0.5 0.5-0.5 0 0 15.499-0 15.5 0v7c0 0.552 0.448 1 1 1h7v19.5z\"></path>\n",
       "<path d=\"M23 26h-14c-0.552 0-1-0.448-1-1s0.448-1 1-1h14c0.552 0 1 0.448 1 1s-0.448 1-1 1z\"></path>\n",
       "<path d=\"M23 22h-14c-0.552 0-1-0.448-1-1s0.448-1 1-1h14c0.552 0 1 0.448 1 1s-0.448 1-1 1z\"></path>\n",
       "<path d=\"M23 18h-14c-0.552 0-1-0.448-1-1s0.448-1 1-1h14c0.552 0 1 0.448 1 1s-0.448 1-1 1z\"></path>\n",
       "</symbol>\n",
       "</defs>\n",
       "</svg>\n",
       "<style>/* CSS stylesheet for displaying xarray objects in jupyterlab.\n",
       " *\n",
       " */\n",
       "\n",
       ":root {\n",
       "  --xr-font-color0: var(--jp-content-font-color0, rgba(0, 0, 0, 1));\n",
       "  --xr-font-color2: var(--jp-content-font-color2, rgba(0, 0, 0, 0.54));\n",
       "  --xr-font-color3: var(--jp-content-font-color3, rgba(0, 0, 0, 0.38));\n",
       "  --xr-border-color: var(--jp-border-color2, #e0e0e0);\n",
       "  --xr-disabled-color: var(--jp-layout-color3, #bdbdbd);\n",
       "  --xr-background-color: var(--jp-layout-color0, white);\n",
       "  --xr-background-color-row-even: var(--jp-layout-color1, white);\n",
       "  --xr-background-color-row-odd: var(--jp-layout-color2, #eeeeee);\n",
       "}\n",
       "\n",
       "html[theme=dark],\n",
       "body[data-theme=dark],\n",
       "body.vscode-dark {\n",
       "  --xr-font-color0: rgba(255, 255, 255, 1);\n",
       "  --xr-font-color2: rgba(255, 255, 255, 0.54);\n",
       "  --xr-font-color3: rgba(255, 255, 255, 0.38);\n",
       "  --xr-border-color: #1F1F1F;\n",
       "  --xr-disabled-color: #515151;\n",
       "  --xr-background-color: #111111;\n",
       "  --xr-background-color-row-even: #111111;\n",
       "  --xr-background-color-row-odd: #313131;\n",
       "}\n",
       "\n",
       ".xr-wrap {\n",
       "  display: block !important;\n",
       "  min-width: 300px;\n",
       "  max-width: 700px;\n",
       "}\n",
       "\n",
       ".xr-text-repr-fallback {\n",
       "  /* fallback to plain text repr when CSS is not injected (untrusted notebook) */\n",
       "  display: none;\n",
       "}\n",
       "\n",
       ".xr-header {\n",
       "  padding-top: 6px;\n",
       "  padding-bottom: 6px;\n",
       "  margin-bottom: 4px;\n",
       "  border-bottom: solid 1px var(--xr-border-color);\n",
       "}\n",
       "\n",
       ".xr-header > div,\n",
       ".xr-header > ul {\n",
       "  display: inline;\n",
       "  margin-top: 0;\n",
       "  margin-bottom: 0;\n",
       "}\n",
       "\n",
       ".xr-obj-type,\n",
       ".xr-array-name {\n",
       "  margin-left: 2px;\n",
       "  margin-right: 10px;\n",
       "}\n",
       "\n",
       ".xr-obj-type {\n",
       "  color: var(--xr-font-color2);\n",
       "}\n",
       "\n",
       ".xr-sections {\n",
       "  padding-left: 0 !important;\n",
       "  display: grid;\n",
       "  grid-template-columns: 150px auto auto 1fr 20px 20px;\n",
       "}\n",
       "\n",
       ".xr-section-item {\n",
       "  display: contents;\n",
       "}\n",
       "\n",
       ".xr-section-item input {\n",
       "  display: none;\n",
       "}\n",
       "\n",
       ".xr-section-item input + label {\n",
       "  color: var(--xr-disabled-color);\n",
       "}\n",
       "\n",
       ".xr-section-item input:enabled + label {\n",
       "  cursor: pointer;\n",
       "  color: var(--xr-font-color2);\n",
       "}\n",
       "\n",
       ".xr-section-item input:enabled + label:hover {\n",
       "  color: var(--xr-font-color0);\n",
       "}\n",
       "\n",
       ".xr-section-summary {\n",
       "  grid-column: 1;\n",
       "  color: var(--xr-font-color2);\n",
       "  font-weight: 500;\n",
       "}\n",
       "\n",
       ".xr-section-summary > span {\n",
       "  display: inline-block;\n",
       "  padding-left: 0.5em;\n",
       "}\n",
       "\n",
       ".xr-section-summary-in:disabled + label {\n",
       "  color: var(--xr-font-color2);\n",
       "}\n",
       "\n",
       ".xr-section-summary-in + label:before {\n",
       "  display: inline-block;\n",
       "  content: '►';\n",
       "  font-size: 11px;\n",
       "  width: 15px;\n",
       "  text-align: center;\n",
       "}\n",
       "\n",
       ".xr-section-summary-in:disabled + label:before {\n",
       "  color: var(--xr-disabled-color);\n",
       "}\n",
       "\n",
       ".xr-section-summary-in:checked + label:before {\n",
       "  content: '▼';\n",
       "}\n",
       "\n",
       ".xr-section-summary-in:checked + label > span {\n",
       "  display: none;\n",
       "}\n",
       "\n",
       ".xr-section-summary,\n",
       ".xr-section-inline-details {\n",
       "  padding-top: 4px;\n",
       "  padding-bottom: 4px;\n",
       "}\n",
       "\n",
       ".xr-section-inline-details {\n",
       "  grid-column: 2 / -1;\n",
       "}\n",
       "\n",
       ".xr-section-details {\n",
       "  display: none;\n",
       "  grid-column: 1 / -1;\n",
       "  margin-bottom: 5px;\n",
       "}\n",
       "\n",
       ".xr-section-summary-in:checked ~ .xr-section-details {\n",
       "  display: contents;\n",
       "}\n",
       "\n",
       ".xr-array-wrap {\n",
       "  grid-column: 1 / -1;\n",
       "  display: grid;\n",
       "  grid-template-columns: 20px auto;\n",
       "}\n",
       "\n",
       ".xr-array-wrap > label {\n",
       "  grid-column: 1;\n",
       "  vertical-align: top;\n",
       "}\n",
       "\n",
       ".xr-preview {\n",
       "  color: var(--xr-font-color3);\n",
       "}\n",
       "\n",
       ".xr-array-preview,\n",
       ".xr-array-data {\n",
       "  padding: 0 5px !important;\n",
       "  grid-column: 2;\n",
       "}\n",
       "\n",
       ".xr-array-data,\n",
       ".xr-array-in:checked ~ .xr-array-preview {\n",
       "  display: none;\n",
       "}\n",
       "\n",
       ".xr-array-in:checked ~ .xr-array-data,\n",
       ".xr-array-preview {\n",
       "  display: inline-block;\n",
       "}\n",
       "\n",
       ".xr-dim-list {\n",
       "  display: inline-block !important;\n",
       "  list-style: none;\n",
       "  padding: 0 !important;\n",
       "  margin: 0;\n",
       "}\n",
       "\n",
       ".xr-dim-list li {\n",
       "  display: inline-block;\n",
       "  padding: 0;\n",
       "  margin: 0;\n",
       "}\n",
       "\n",
       ".xr-dim-list:before {\n",
       "  content: '(';\n",
       "}\n",
       "\n",
       ".xr-dim-list:after {\n",
       "  content: ')';\n",
       "}\n",
       "\n",
       ".xr-dim-list li:not(:last-child):after {\n",
       "  content: ',';\n",
       "  padding-right: 5px;\n",
       "}\n",
       "\n",
       ".xr-has-index {\n",
       "  font-weight: bold;\n",
       "}\n",
       "\n",
       ".xr-var-list,\n",
       ".xr-var-item {\n",
       "  display: contents;\n",
       "}\n",
       "\n",
       ".xr-var-item > div,\n",
       ".xr-var-item label,\n",
       ".xr-var-item > .xr-var-name span {\n",
       "  background-color: var(--xr-background-color-row-even);\n",
       "  margin-bottom: 0;\n",
       "}\n",
       "\n",
       ".xr-var-item > .xr-var-name:hover span {\n",
       "  padding-right: 5px;\n",
       "}\n",
       "\n",
       ".xr-var-list > li:nth-child(odd) > div,\n",
       ".xr-var-list > li:nth-child(odd) > label,\n",
       ".xr-var-list > li:nth-child(odd) > .xr-var-name span {\n",
       "  background-color: var(--xr-background-color-row-odd);\n",
       "}\n",
       "\n",
       ".xr-var-name {\n",
       "  grid-column: 1;\n",
       "}\n",
       "\n",
       ".xr-var-dims {\n",
       "  grid-column: 2;\n",
       "}\n",
       "\n",
       ".xr-var-dtype {\n",
       "  grid-column: 3;\n",
       "  text-align: right;\n",
       "  color: var(--xr-font-color2);\n",
       "}\n",
       "\n",
       ".xr-var-preview {\n",
       "  grid-column: 4;\n",
       "}\n",
       "\n",
       ".xr-index-preview {\n",
       "  grid-column: 2 / 5;\n",
       "  color: var(--xr-font-color2);\n",
       "}\n",
       "\n",
       ".xr-var-name,\n",
       ".xr-var-dims,\n",
       ".xr-var-dtype,\n",
       ".xr-preview,\n",
       ".xr-attrs dt {\n",
       "  white-space: nowrap;\n",
       "  overflow: hidden;\n",
       "  text-overflow: ellipsis;\n",
       "  padding-right: 10px;\n",
       "}\n",
       "\n",
       ".xr-var-name:hover,\n",
       ".xr-var-dims:hover,\n",
       ".xr-var-dtype:hover,\n",
       ".xr-attrs dt:hover {\n",
       "  overflow: visible;\n",
       "  width: auto;\n",
       "  z-index: 1;\n",
       "}\n",
       "\n",
       ".xr-var-attrs,\n",
       ".xr-var-data,\n",
       ".xr-index-data {\n",
       "  display: none;\n",
       "  background-color: var(--xr-background-color) !important;\n",
       "  padding-bottom: 5px !important;\n",
       "}\n",
       "\n",
       ".xr-var-attrs-in:checked ~ .xr-var-attrs,\n",
       ".xr-var-data-in:checked ~ .xr-var-data,\n",
       ".xr-index-data-in:checked ~ .xr-index-data {\n",
       "  display: block;\n",
       "}\n",
       "\n",
       ".xr-var-data > table {\n",
       "  float: right;\n",
       "}\n",
       "\n",
       ".xr-var-name span,\n",
       ".xr-var-data,\n",
       ".xr-index-name div,\n",
       ".xr-index-data,\n",
       ".xr-attrs {\n",
       "  padding-left: 25px !important;\n",
       "}\n",
       "\n",
       ".xr-attrs,\n",
       ".xr-var-attrs,\n",
       ".xr-var-data,\n",
       ".xr-index-data {\n",
       "  grid-column: 1 / -1;\n",
       "}\n",
       "\n",
       "dl.xr-attrs {\n",
       "  padding: 0;\n",
       "  margin: 0;\n",
       "  display: grid;\n",
       "  grid-template-columns: 125px auto;\n",
       "}\n",
       "\n",
       ".xr-attrs dt,\n",
       ".xr-attrs dd {\n",
       "  padding: 0;\n",
       "  margin: 0;\n",
       "  float: left;\n",
       "  padding-right: 10px;\n",
       "  width: auto;\n",
       "}\n",
       "\n",
       ".xr-attrs dt {\n",
       "  font-weight: normal;\n",
       "  grid-column: 1;\n",
       "}\n",
       "\n",
       ".xr-attrs dt:hover span {\n",
       "  display: inline-block;\n",
       "  background: var(--xr-background-color);\n",
       "  padding-right: 10px;\n",
       "}\n",
       "\n",
       ".xr-attrs dd {\n",
       "  grid-column: 2;\n",
       "  white-space: pre-wrap;\n",
       "  word-break: break-all;\n",
       "}\n",
       "\n",
       ".xr-icon-database,\n",
       ".xr-icon-file-text2,\n",
       ".xr-no-icon {\n",
       "  display: inline-block;\n",
       "  vertical-align: middle;\n",
       "  width: 1em;\n",
       "  height: 1.5em !important;\n",
       "  stroke-width: 0;\n",
       "  stroke: currentColor;\n",
       "  fill: currentColor;\n",
       "}\n",
       "</style><pre class='xr-text-repr-fallback'>&lt;xarray.DataArray &#x27;DQF&#x27; (y: 300, x: 500)&gt;\n",
       "[150000 values with dtype=float32]\n",
       "Coordinates:\n",
       "    t                   datetime64[ns] 2020-01-01T13:02:36.982722944\n",
       "  * y                   (y) float64 0.1281 0.1278 0.1275 ... 0.04466 0.04438\n",
       "  * x                   (x) float64 -0.1012 -0.1009 -0.1007 ... 0.03822 0.0385\n",
       "    y_image             float32 ...\n",
       "    x_image             float32 ...\n",
       "    local_zenith_angle  float32 ...\n",
       "    solar_zenith_angle  float32 ...\n",
       "Attributes: (12/16)\n",
       "    long_name:                                                      ABI L2+ C...\n",
       "    standard_name:                                                  status_flag\n",
       "    valid_range:                                                    [0 6]\n",
       "    units:                                                          1\n",
       "    grid_mapping:                                                   goes_imag...\n",
       "    cell_methods:                                                   local_zen...\n",
       "    ...                                                             ...\n",
       "    percent_invalid_due_to_not_geolocated_qf:                       0.0130803\n",
       "    percent_invalid_due_to_LZA_threshold_exceeded_qf:               0.0285296\n",
       "    percent_invalid_due_to_bad_or_missing_brightness_temp_data_qf:  0.0080992\n",
       "    percent_invalid_due_to_clear_or_probably_clear_sky_qf:          0.3228223\n",
       "    percent_invalid_due_to_unknown_cloud_type_qf:                   0.0\n",
       "    percent_invalid_due_to_nonconvergent_retrieval_qf:              6.7e-06</pre><div class='xr-wrap' style='display:none'><div class='xr-header'><div class='xr-obj-type'>xarray.DataArray</div><div class='xr-array-name'>'DQF'</div><ul class='xr-dim-list'><li><span class='xr-has-index'>y</span>: 300</li><li><span class='xr-has-index'>x</span>: 500</li></ul></div><ul class='xr-sections'><li class='xr-section-item'><div class='xr-array-wrap'><input id='section-98b9d60e-ca8a-49c6-8cb5-ec7b8bcf2342' class='xr-array-in' type='checkbox' checked><label for='section-98b9d60e-ca8a-49c6-8cb5-ec7b8bcf2342' title='Show/hide data repr'><svg class='icon xr-icon-database'><use xlink:href='#icon-database'></use></svg></label><div class='xr-array-preview xr-preview'><span>...</span></div><div class='xr-array-data'><pre>[150000 values with dtype=float32]</pre></div></div></li><li class='xr-section-item'><input id='section-60678339-3d3f-4a55-9220-c0b4855ee1db' class='xr-section-summary-in' type='checkbox'  checked><label for='section-60678339-3d3f-4a55-9220-c0b4855ee1db' class='xr-section-summary' >Coordinates: <span>(7)</span></label><div class='xr-section-inline-details'></div><div class='xr-section-details'><ul class='xr-var-list'><li class='xr-var-item'><div class='xr-var-name'><span>t</span></div><div class='xr-var-dims'>()</div><div class='xr-var-dtype'>datetime64[ns]</div><div class='xr-var-preview xr-preview'>2020-01-01T13:02:36.982722944</div><input id='attrs-f5472061-1658-4d1a-9e18-66024c3d3c9a' class='xr-var-attrs-in' type='checkbox' ><label for='attrs-f5472061-1658-4d1a-9e18-66024c3d3c9a' title='Show/Hide attributes'><svg class='icon xr-icon-file-text2'><use xlink:href='#icon-file-text2'></use></svg></label><input id='data-d891c993-bdec-49aa-9ead-973afc45612a' class='xr-var-data-in' type='checkbox'><label for='data-d891c993-bdec-49aa-9ead-973afc45612a' title='Show/Hide data repr'><svg class='icon xr-icon-database'><use xlink:href='#icon-database'></use></svg></label><div class='xr-var-attrs'><dl class='xr-attrs'><dt><span>long_name :</span></dt><dd>time variable (t) is the mid-point between the start and end image scan in seconds since epoch (2000-01-01 12:00:00)</dd><dt><span>standard_name :</span></dt><dd>time</dd><dt><span>axis :</span></dt><dd>T</dd><dt><span>bounds :</span></dt><dd>time_bounds</dd></dl></div><div class='xr-var-data'><pre>array(&#x27;2020-01-01T13:02:36.982722944&#x27;, dtype=&#x27;datetime64[ns]&#x27;)</pre></div></li><li class='xr-var-item'><div class='xr-var-name'><span class='xr-has-index'>y</span></div><div class='xr-var-dims'>(y)</div><div class='xr-var-dtype'>float64</div><div class='xr-var-preview xr-preview'>0.1281 0.1278 ... 0.04466 0.04438</div><input id='attrs-b0c8b1ff-b889-4706-988f-03e637a5a03c' class='xr-var-attrs-in' type='checkbox' ><label for='attrs-b0c8b1ff-b889-4706-988f-03e637a5a03c' title='Show/Hide attributes'><svg class='icon xr-icon-file-text2'><use xlink:href='#icon-file-text2'></use></svg></label><input id='data-7d7101b2-4b95-432f-9be2-576948ef7878' class='xr-var-data-in' type='checkbox'><label for='data-7d7101b2-4b95-432f-9be2-576948ef7878' title='Show/Hide data repr'><svg class='icon xr-icon-database'><use xlink:href='#icon-database'></use></svg></label><div class='xr-var-attrs'><dl class='xr-attrs'><dt><span>units :</span></dt><dd>rad</dd><dt><span>axis :</span></dt><dd>Y</dd><dt><span>long_name :</span></dt><dd>GOES Projection y-Coordinate</dd><dt><span>standard_name :</span></dt><dd>projection_y_coordinate</dd></dl></div><div class='xr-var-data'><pre>array([0.1281 , 0.12782, 0.12754, ..., 0.04494, 0.04466, 0.04438])</pre></div></li><li class='xr-var-item'><div class='xr-var-name'><span class='xr-has-index'>x</span></div><div class='xr-var-dims'>(x)</div><div class='xr-var-dtype'>float64</div><div class='xr-var-preview xr-preview'>-0.1012 -0.1009 ... 0.03822 0.0385</div><input id='attrs-f232c7b5-aca1-4e86-ad42-34da040800ee' class='xr-var-attrs-in' type='checkbox' ><label for='attrs-f232c7b5-aca1-4e86-ad42-34da040800ee' title='Show/Hide attributes'><svg class='icon xr-icon-file-text2'><use xlink:href='#icon-file-text2'></use></svg></label><input id='data-426081be-09c4-488f-b02a-d42f475f6ece' class='xr-var-data-in' type='checkbox'><label for='data-426081be-09c4-488f-b02a-d42f475f6ece' title='Show/Hide data repr'><svg class='icon xr-icon-database'><use xlink:href='#icon-database'></use></svg></label><div class='xr-var-attrs'><dl class='xr-attrs'><dt><span>units :</span></dt><dd>rad</dd><dt><span>axis :</span></dt><dd>X</dd><dt><span>long_name :</span></dt><dd>GOES Projection x-Coordinate</dd><dt><span>standard_name :</span></dt><dd>projection_x_coordinate</dd></dl></div><div class='xr-var-data'><pre>array([-0.10122, -0.10094, -0.10066, ...,  0.03794,  0.03822,  0.0385 ])</pre></div></li><li class='xr-var-item'><div class='xr-var-name'><span>y_image</span></div><div class='xr-var-dims'>()</div><div class='xr-var-dtype'>float32</div><div class='xr-var-preview xr-preview'>...</div><input id='attrs-2a57f19f-c55b-47e3-b41f-ba02859664e1' class='xr-var-attrs-in' type='checkbox' ><label for='attrs-2a57f19f-c55b-47e3-b41f-ba02859664e1' title='Show/Hide attributes'><svg class='icon xr-icon-file-text2'><use xlink:href='#icon-file-text2'></use></svg></label><input id='data-5fa206ed-02f7-49e7-988d-2b6aab00306f' class='xr-var-data-in' type='checkbox'><label for='data-5fa206ed-02f7-49e7-988d-2b6aab00306f' title='Show/Hide data repr'><svg class='icon xr-icon-database'><use xlink:href='#icon-database'></use></svg></label><div class='xr-var-attrs'><dl class='xr-attrs'><dt><span>long_name :</span></dt><dd>GOES-R fixed grid projection y-coordinate center of image</dd><dt><span>standard_name :</span></dt><dd>projection_y_coordinate</dd><dt><span>units :</span></dt><dd>rad</dd><dt><span>axis :</span></dt><dd>Y</dd></dl></div><div class='xr-var-data'><pre>[1 values with dtype=float32]</pre></div></li><li class='xr-var-item'><div class='xr-var-name'><span>x_image</span></div><div class='xr-var-dims'>()</div><div class='xr-var-dtype'>float32</div><div class='xr-var-preview xr-preview'>...</div><input id='attrs-bc47dc43-d9d7-4533-a87c-daa38b5d7e9a' class='xr-var-attrs-in' type='checkbox' ><label for='attrs-bc47dc43-d9d7-4533-a87c-daa38b5d7e9a' title='Show/Hide attributes'><svg class='icon xr-icon-file-text2'><use xlink:href='#icon-file-text2'></use></svg></label><input id='data-2fd5d30d-aa46-40c1-b1a7-693c5feb960c' class='xr-var-data-in' type='checkbox'><label for='data-2fd5d30d-aa46-40c1-b1a7-693c5feb960c' title='Show/Hide data repr'><svg class='icon xr-icon-database'><use xlink:href='#icon-database'></use></svg></label><div class='xr-var-attrs'><dl class='xr-attrs'><dt><span>long_name :</span></dt><dd>GOES-R fixed grid projection x-coordinate center of image</dd><dt><span>standard_name :</span></dt><dd>projection_x_coordinate</dd><dt><span>units :</span></dt><dd>rad</dd><dt><span>axis :</span></dt><dd>X</dd></dl></div><div class='xr-var-data'><pre>[1 values with dtype=float32]</pre></div></li><li class='xr-var-item'><div class='xr-var-name'><span>local_zenith_angle</span></div><div class='xr-var-dims'>()</div><div class='xr-var-dtype'>float32</div><div class='xr-var-preview xr-preview'>...</div><input id='attrs-f8937689-4e6f-41a1-a8dc-f3e562c78b6b' class='xr-var-attrs-in' type='checkbox' ><label for='attrs-f8937689-4e6f-41a1-a8dc-f3e562c78b6b' title='Show/Hide attributes'><svg class='icon xr-icon-file-text2'><use xlink:href='#icon-file-text2'></use></svg></label><input id='data-68892ba1-6d18-4307-8cd8-6135e8b3ba4d' class='xr-var-data-in' type='checkbox'><label for='data-68892ba1-6d18-4307-8cd8-6135e8b3ba4d' title='Show/Hide data repr'><svg class='icon xr-icon-database'><use xlink:href='#icon-database'></use></svg></label><div class='xr-var-attrs'><dl class='xr-attrs'><dt><span>long_name :</span></dt><dd>threshold angle between the line of sight to the satellite and the local zenith at the observation target for good quality cloud top temperature, pressure and height data production</dd><dt><span>standard_name :</span></dt><dd>platform_zenith_angle</dd><dt><span>units :</span></dt><dd>degree</dd><dt><span>bounds :</span></dt><dd>local_zenith_angle_bounds</dd></dl></div><div class='xr-var-data'><pre>[1 values with dtype=float32]</pre></div></li><li class='xr-var-item'><div class='xr-var-name'><span>solar_zenith_angle</span></div><div class='xr-var-dims'>()</div><div class='xr-var-dtype'>float32</div><div class='xr-var-preview xr-preview'>...</div><input id='attrs-11049620-21bd-410b-9d5f-b850d4117934' class='xr-var-attrs-in' type='checkbox' ><label for='attrs-11049620-21bd-410b-9d5f-b850d4117934' title='Show/Hide attributes'><svg class='icon xr-icon-file-text2'><use xlink:href='#icon-file-text2'></use></svg></label><input id='data-b7b9f708-acaa-43bd-96dc-dff505e1e1d0' class='xr-var-data-in' type='checkbox'><label for='data-b7b9f708-acaa-43bd-96dc-dff505e1e1d0' title='Show/Hide data repr'><svg class='icon xr-icon-database'><use xlink:href='#icon-database'></use></svg></label><div class='xr-var-attrs'><dl class='xr-attrs'><dt><span>long_name :</span></dt><dd>threshold angle between the line of sight to the sun and the local zenith at the observation target for good quality cloud top temperature, pressure and height data production</dd><dt><span>standard_name :</span></dt><dd>solar_zenith_angle</dd><dt><span>units :</span></dt><dd>degree</dd><dt><span>bounds :</span></dt><dd>solar_zenith_angle_bounds</dd></dl></div><div class='xr-var-data'><pre>[1 values with dtype=float32]</pre></div></li></ul></div></li><li class='xr-section-item'><input id='section-f3ee111c-ff07-4027-ab56-9788f6e38377' class='xr-section-summary-in' type='checkbox'  ><label for='section-f3ee111c-ff07-4027-ab56-9788f6e38377' class='xr-section-summary' >Indexes: <span>(2)</span></label><div class='xr-section-inline-details'></div><div class='xr-section-details'><ul class='xr-var-list'><li class='xr-var-item'><div class='xr-index-name'><div>y</div></div><div class='xr-index-preview'>PandasIndex</div><div></div><input id='index-ff59fc79-8e4e-464e-9b55-24a4373e0209' class='xr-index-data-in' type='checkbox'/><label for='index-ff59fc79-8e4e-464e-9b55-24a4373e0209' title='Show/Hide index repr'><svg class='icon xr-icon-database'><use xlink:href='#icon-database'></use></svg></label><div class='xr-index-data'><pre>PandasIndex(Index([ 0.12809999287128448,  0.12781999286380596,  0.12753999285632744,\n",
       "        0.12725999284884892,   0.1269799928413704,  0.12669999283389188,\n",
       "        0.12641999282641336,  0.12613999281893484,  0.12585999281145632,\n",
       "         0.1255799928039778,\n",
       "       ...\n",
       "       0.046899990702513605, 0.046619990695035085, 0.046339990687556565,\n",
       "       0.046059990680078045, 0.045779990672599524, 0.045499990665121004,\n",
       "       0.045219990657642484,  0.04493999065016396,  0.04465999064268544,\n",
       "        0.04437999063520692],\n",
       "      dtype=&#x27;float64&#x27;, name=&#x27;y&#x27;, length=300))</pre></div></li><li class='xr-var-item'><div class='xr-index-name'><div>x</div></div><div class='xr-index-preview'>PandasIndex</div><div></div><input id='index-6d3f1556-4e80-4f6e-bc90-d86dfd987d9c' class='xr-index-data-in' type='checkbox'/><label for='index-6d3f1556-4e80-4f6e-bc90-d86dfd987d9c' title='Show/Hide index repr'><svg class='icon xr-icon-database'><use xlink:href='#icon-database'></use></svg></label><div class='xr-index-data'><pre>PandasIndex(Index([-0.10121999680995941, -0.10093999680248089, -0.10065999679500237,\n",
       "       -0.10037999678752385, -0.10009999678004533, -0.09981999677256681,\n",
       "       -0.09953999676508829, -0.09925999675760977, -0.09897999675013125,\n",
       "       -0.09869999674265273,\n",
       "       ...\n",
       "        0.03598000685451552,  0.03626000686199404,  0.03654000686947256,\n",
       "       0.036820006876951084, 0.037100006884429604, 0.037380006891908124,\n",
       "       0.037660006899386644, 0.037940006906865165, 0.038220006914343685,\n",
       "       0.038500006921822205],\n",
       "      dtype=&#x27;float64&#x27;, name=&#x27;x&#x27;, length=500))</pre></div></li></ul></div></li><li class='xr-section-item'><input id='section-be0778b4-6663-4443-9368-41e11813e452' class='xr-section-summary-in' type='checkbox'  ><label for='section-be0778b4-6663-4443-9368-41e11813e452' class='xr-section-summary' >Attributes: <span>(16)</span></label><div class='xr-section-inline-details'></div><div class='xr-section-details'><dl class='xr-attrs'><dt><span>long_name :</span></dt><dd>ABI L2+ Cloud Top Height data quality flags</dd><dt><span>standard_name :</span></dt><dd>status_flag</dd><dt><span>valid_range :</span></dt><dd>[0 6]</dd><dt><span>units :</span></dt><dd>1</dd><dt><span>grid_mapping :</span></dt><dd>goes_imager_projection</dd><dt><span>cell_methods :</span></dt><dd>local_zenith_angle: point solar_zenith_angle: point t: point area: point</dd><dt><span>flag_values :</span></dt><dd>[0 1 2 3 4 5 6]</dd><dt><span>flag_meanings :</span></dt><dd>good_quality_qf invalid_due_to_not_geolocated_qf invalid_due_to_LZA_threshold_exceeded_qf invalid_due_to_bad_or_missing_brightness_temp_data_qf invalid_due_to_clear_or_probably_clear_sky_qf invalid_due_to_unknown_cloud_type_qf invalid_due_to_nonconvergent_retrieval_qf</dd><dt><span>number_of_qf_values :</span></dt><dd>7</dd><dt><span>percent_good_quality_qf :</span></dt><dd>0.6479664</dd><dt><span>percent_invalid_due_to_not_geolocated_qf :</span></dt><dd>0.0130803</dd><dt><span>percent_invalid_due_to_LZA_threshold_exceeded_qf :</span></dt><dd>0.0285296</dd><dt><span>percent_invalid_due_to_bad_or_missing_brightness_temp_data_qf :</span></dt><dd>0.0080992</dd><dt><span>percent_invalid_due_to_clear_or_probably_clear_sky_qf :</span></dt><dd>0.3228223</dd><dt><span>percent_invalid_due_to_unknown_cloud_type_qf :</span></dt><dd>0.0</dd><dt><span>percent_invalid_due_to_nonconvergent_retrieval_qf :</span></dt><dd>6.7e-06</dd></dl></div></li></ul></div></div>"
      ],
      "text/plain": [
       "<xarray.DataArray 'DQF' (y: 300, x: 500)>\n",
       "[150000 values with dtype=float32]\n",
       "Coordinates:\n",
       "    t                   datetime64[ns] 2020-01-01T13:02:36.982722944\n",
       "  * y                   (y) float64 0.1281 0.1278 0.1275 ... 0.04466 0.04438\n",
       "  * x                   (x) float64 -0.1012 -0.1009 -0.1007 ... 0.03822 0.0385\n",
       "    y_image             float32 ...\n",
       "    x_image             float32 ...\n",
       "    local_zenith_angle  float32 ...\n",
       "    solar_zenith_angle  float32 ...\n",
       "Attributes: (12/16)\n",
       "    long_name:                                                      ABI L2+ C...\n",
       "    standard_name:                                                  status_flag\n",
       "    valid_range:                                                    [0 6]\n",
       "    units:                                                          1\n",
       "    grid_mapping:                                                   goes_imag...\n",
       "    cell_methods:                                                   local_zen...\n",
       "    ...                                                             ...\n",
       "    percent_invalid_due_to_not_geolocated_qf:                       0.0130803\n",
       "    percent_invalid_due_to_LZA_threshold_exceeded_qf:               0.0285296\n",
       "    percent_invalid_due_to_bad_or_missing_brightness_temp_data_qf:  0.0080992\n",
       "    percent_invalid_due_to_clear_or_probably_clear_sky_qf:          0.3228223\n",
       "    percent_invalid_due_to_unknown_cloud_type_qf:                   0.0\n",
       "    percent_invalid_due_to_nonconvergent_retrieval_qf:              6.7e-06"
      ]
     },
     "execution_count": 27,
     "metadata": {},
     "output_type": "execute_result"
    }
   ],
   "source": [
    "dso.DQF"
   ]
  },
  {
   "cell_type": "markdown",
   "id": "2ebe7c9a-42a1-4802-814a-ca09be05ef08",
   "metadata": {},
   "source": [
    "# open"
   ]
  },
  {
   "cell_type": "code",
   "execution_count": 14,
   "id": "3985f7d2-1591-4be4-9e57-484fceb6b8ee",
   "metadata": {
    "execution": {
     "iopub.execute_input": "2023-08-24T21:12:48.595558Z",
     "iopub.status.busy": "2023-08-24T21:12:48.594912Z",
     "iopub.status.idle": "2023-08-24T21:12:48.603074Z",
     "shell.execute_reply": "2023-08-24T21:12:48.601150Z",
     "shell.execute_reply.started": "2023-08-24T21:12:48.595510Z"
    }
   },
   "outputs": [],
   "source": [
    "import atmPy.data_archives.NOAA_ESRL_GMD_GRAD.surfrad.surfrad as surfrad\n",
    "stations = surfrad.network.stations"
   ]
  },
  {
   "cell_type": "code",
   "execution_count": 32,
   "id": "04f17c1d-4ee6-4051-90af-4a3b9332ac51",
   "metadata": {
    "execution": {
     "iopub.execute_input": "2023-08-29T03:00:26.155531Z",
     "iopub.status.busy": "2023-08-29T03:00:26.154937Z",
     "iopub.status.idle": "2023-08-29T03:00:26.189873Z",
     "shell.execute_reply": "2023-08-29T03:00:26.188730Z",
     "shell.execute_reply.started": "2023-08-29T03:00:26.155486Z"
    }
   },
   "outputs": [
    {
     "data": {
      "text/plain": [
       "<module 'nesdis_gml_synergy.satlab' from '/export/htelg/prog/nesdis_gml_synergy/nesdis_gml_synergy/satlab.py'>"
      ]
     },
     "execution_count": 32,
     "metadata": {},
     "output_type": "execute_result"
    }
   ],
   "source": [
    "reload(ngs)"
   ]
  },
  {
   "cell_type": "code",
   "execution_count": 16,
   "id": "84a59ed2-6022-4c46-8d27-b9248d0d7e4e",
   "metadata": {
    "execution": {
     "iopub.execute_input": "2023-08-24T21:12:49.440787Z",
     "iopub.status.busy": "2023-08-24T21:12:49.440114Z",
     "iopub.status.idle": "2023-08-24T21:12:49.447351Z",
     "shell.execute_reply": "2023-08-24T21:12:49.445702Z",
     "shell.execute_reply.started": "2023-08-24T21:12:49.440744Z"
    }
   },
   "outputs": [],
   "source": [
    "# sat_ds = ngs.open_file('/mnt/telg/data/nesdis/goes/ABI_L2_ADP/OR_ABI-L2-ADPC-M6_G16_s20211431801169_e20211431803542_c20211431804531.nc', verbose=True)"
   ]
  },
  {
   "cell_type": "code",
   "execution_count": 33,
   "id": "bbf558d4-6dae-4bb7-93cb-227209ff356b",
   "metadata": {
    "execution": {
     "iopub.execute_input": "2023-08-29T03:00:43.229278Z",
     "iopub.status.busy": "2023-08-29T03:00:43.228454Z",
     "iopub.status.idle": "2023-08-29T03:00:43.235809Z",
     "shell.execute_reply": "2023-08-29T03:00:43.234067Z",
     "shell.execute_reply.started": "2023-08-29T03:00:43.229230Z"
    }
   },
   "outputs": [],
   "source": [
    "# fn = '/export/htelg/tmp/OR_ABI-L2-ACHAC-M6_G16_s20202141801156_e20202141803528_c20202141806053.nc'\n",
    "fn = '/export/htelg/tmp/OR_ABI-L2-ACHAC-M6_G16_s20232131301174_e20232131303547_c20232131306220.nc'\n",
    "# fn = query.workplan.path2file_local[0]"
   ]
  },
  {
   "cell_type": "code",
   "execution_count": 34,
   "id": "0153f632-8a2f-4a28-9f54-32f70564c43c",
   "metadata": {
    "execution": {
     "iopub.execute_input": "2023-08-29T03:00:48.169387Z",
     "iopub.status.busy": "2023-08-29T03:00:48.168594Z",
     "iopub.status.idle": "2023-08-29T03:00:48.269180Z",
     "shell.execute_reply": "2023-08-29T03:00:48.268519Z",
     "shell.execute_reply.started": "2023-08-29T03:00:48.169340Z"
    }
   },
   "outputs": [
    {
     "name": "stdout",
     "output_type": "stream",
     "text": [
      "product name: ABI-L2-ACHAC-M6\n",
      "identified as: ABI_L2_ACHA.\n"
     ]
    }
   ],
   "source": [
    "sat_ds = ngs.open_file(fn, verbose=True)"
   ]
  },
  {
   "cell_type": "code",
   "execution_count": null,
   "id": "6cc145a7-75b1-47b8-b951-ce0b8b8e4fef",
   "metadata": {},
   "outputs": [],
   "source": [
    "sat_ds.valid_2D_variables"
   ]
  },
  {
   "cell_type": "code",
   "execution_count": null,
   "id": "ff73dc3a-83e0-446e-8ab2-287e7279d4bc",
   "metadata": {},
   "outputs": [],
   "source": [
    "list(sat_ds.ds.variables)"
   ]
  },
  {
   "cell_type": "code",
   "execution_count": null,
   "id": "a40488e5-dafb-480a-9121-9d36f95d6f0a",
   "metadata": {},
   "outputs": [],
   "source": [
    "proj = sat_ds.project_on_sites(stations)"
   ]
  },
  {
   "cell_type": "code",
   "execution_count": null,
   "id": "59b4fb99-dc87-4e4b-b6a5-97a42fd3f08d",
   "metadata": {},
   "outputs": [],
   "source": [
    "proj.projection2area.sel(site = 'BND', stats = 'mean', radius = 50, \n",
    "                         # data_quality = 'good'\n",
    "                        )"
   ]
  },
  {
   "cell_type": "code",
   "execution_count": null,
   "id": "b58eff27-ccb9-451a-9917-0b538c2d0ed9",
   "metadata": {},
   "outputs": [],
   "source": [
    "proj.projection2point"
   ]
  },
  {
   "cell_type": "markdown",
   "id": "baca2f8f-709f-4cb4-80ec-10ef5d1425f8",
   "metadata": {},
   "source": [
    "# Product versions"
   ]
  },
  {
   "cell_type": "markdown",
   "id": "0cc99f28-d836-4666-b7ca-0e69932a0bc3",
   "metadata": {},
   "source": [
    "looks like there is only M6"
   ]
  },
  {
   "cell_type": "markdown",
   "id": "fb6f35e6-c973-4a38-a24c-9fc555f1448f",
   "metadata": {},
   "source": [
    "# Plot on map"
   ]
  },
  {
   "cell_type": "code",
   "execution_count": null,
   "id": "cdd09fa9-421b-40a7-a22b-067b264d79f2",
   "metadata": {},
   "outputs": [],
   "source": [
    "scale = 0.5\n",
    "width=2800000 *scale\n",
    "height=1700000 * scale\n",
    "a, bmap = surfrad.network.stations.Table_Mountain.plot(width=width, height=height)\n",
    "bmap, pc, cb = sat_ds.plot('Temp', bmap = bmap)\n",
    "bmap.drawcounties()\n",
    "# f = plt.gcf()\n",
    "# pc.set_clim(vmax= 10)"
   ]
  },
  {
   "cell_type": "code",
   "execution_count": null,
   "id": "f83fe66f-0a1b-462e-b12f-118ef49e5ffc",
   "metadata": {},
   "outputs": [],
   "source": []
  },
  {
   "cell_type": "markdown",
   "id": "2277084d-15c8-4e7e-88fb-5da0e7a8a91c",
   "metadata": {},
   "source": [
    "# concatenate to daily file -- Is now done in goesscraper "
   ]
  },
  {
   "cell_type": "code",
   "execution_count": 530,
   "id": "52514a53-3809-4efe-bf25-acb4dd041cbe",
   "metadata": {},
   "outputs": [],
   "source": [
    "import pandas as _pd"
   ]
  },
  {
   "cell_type": "code",
   "execution_count": 564,
   "id": "15e2bc25-d47f-4d76-adca-ddc6681334a8",
   "metadata": {},
   "outputs": [
    {
     "data": {
      "text/plain": [
       "<module 'nesdis_gml_synergy.satlab' from '/mnt/telg/prog/nesdis_gml_synergy/nesdis_gml_synergy/satlab.py'>"
      ]
     },
     "execution_count": 564,
     "metadata": {},
     "output_type": "execute_result"
    }
   ],
   "source": [
    "reload(ngs)"
   ]
  },
  {
   "cell_type": "code",
   "execution_count": 582,
   "id": "6e2be5ad-ec16-49b2-b518-05bc299bbd7a",
   "metadata": {},
   "outputs": [],
   "source": [
    "cc = ngs.Concatonator(path2scraped_files='/nfs/stu3data2/Satellite_data/goes/16/ABI_L2_ACHA_projected2surfrad/',\n",
    "                 path2concat_files ='/nfs/stu3data2/Satellite_data/goes/16/ABI_L2_ACHA_projected2surfrad_concat/',\n",
    "                 test = True,)"
   ]
  },
  {
   "cell_type": "code",
   "execution_count": 583,
   "id": "41f92539-00e6-4e95-80da-ef47ad69cb2b",
   "metadata": {},
   "outputs": [
    {
     "data": {
      "text/html": [
       "<div>\n",
       "<style scoped>\n",
       "    .dataframe tbody tr th:only-of-type {\n",
       "        vertical-align: middle;\n",
       "    }\n",
       "\n",
       "    .dataframe tbody tr th {\n",
       "        vertical-align: top;\n",
       "    }\n",
       "\n",
       "    .dataframe thead th {\n",
       "        text-align: right;\n",
       "    }\n",
       "</style>\n",
       "<table border=\"1\" class=\"dataframe\">\n",
       "  <thead>\n",
       "    <tr style=\"text-align: right;\">\n",
       "      <th></th>\n",
       "      <th>path2scraped_files</th>\n",
       "      <th>datetime</th>\n",
       "      <th>date</th>\n",
       "      <th>product_name</th>\n",
       "      <th>path2concat_files</th>\n",
       "      <th>p2rf_exists</th>\n",
       "    </tr>\n",
       "  </thead>\n",
       "  <tbody>\n",
       "  </tbody>\n",
       "</table>\n",
       "</div>"
      ],
      "text/plain": [
       "Empty DataFrame\n",
       "Columns: [path2scraped_files, datetime, date, product_name, path2concat_files, p2rf_exists]\n",
       "Index: []"
      ]
     },
     "execution_count": 583,
     "metadata": {},
     "output_type": "execute_result"
    }
   ],
   "source": [
    "cc.workplan"
   ]
  },
  {
   "cell_type": "code",
   "execution_count": 581,
   "id": "dda32256-1e41-47ad-94ea-6e994691725a",
   "metadata": {},
   "outputs": [],
   "source": [
    "ds=cc.concat_and_save(save=True, test=False, verbose=False)"
   ]
  },
  {
   "cell_type": "code",
   "execution_count": null,
   "id": "750d4793-cc13-449d-98f1-1b60101c3a94",
   "metadata": {},
   "outputs": [],
   "source": []
  }
 ],
 "metadata": {
  "kernelspec": {
   "display_name": "py310telg",
   "language": "python",
   "name": "py310telg"
  },
  "language_info": {
   "codemirror_mode": {
    "name": "ipython",
    "version": 3
   },
   "file_extension": ".py",
   "mimetype": "text/x-python",
   "name": "python",
   "nbconvert_exporter": "python",
   "pygments_lexer": "ipython3",
   "version": "3.10.12"
  }
 },
 "nbformat": 4,
 "nbformat_minor": 5
}
